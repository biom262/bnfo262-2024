{
 "cells": [
  {
   "cell_type": "markdown",
   "id": "ce25a930",
   "metadata": {},
   "source": [
    "### Variant calling module\n",
    "\n",
    "**CMM262, Winter 2024**\n",
    "\n",
    "Kyle Gaulton, kgaulton@health.ucsd.edu\n",
    "<br>\n",
    "<br>"
   ]
  },
  {
   "cell_type": "markdown",
   "id": "a46ff4ea",
   "metadata": {},
   "source": [
    "<b>In this walkthrough we will be calling and filtering genetic variants from a sequence alignment file</b>\n",
    "<br><br>\n",
    "<b><u>Required Files in resources:</u></b><br>\n",
    "*<b>Human hg38 chr20 reference</b>*<br>\n",
    "chr20.fa.gz, chr20.dict, chr20.fa.fai, chr20.fa.gzi  \n",
    "<br>\n",
    "*<b>Variant call sets</b>*<br>\n",
    "resources_broad_hg38_v0_1000G_phase1.snps.high_confidence.hg38.chr20.vcf.gz  \n",
    "resources_broad_hg38_v0_1000G_phase1.snps.high_confidence.hg38.chr20.vcf.gz.tbi  \n",
    "resources_broad_hg38_v0_1000G_omni2.5.hg38.vcf.gz  \n",
    "resources_broad_hg38_v0_1000G_omni2.5.hg38.vcf.gz.tbi  \n",
    "resources_broad_hg38_v0_hapmap_3.3.hg38.vcf.gz  \n",
    "resources_broad_hg38_v0_hapmap_3.3.hg38.vcf.gz.tbi  \n",
    "<br>\n",
    "*<b>Annotation scripts</b>*<br>\n",
    "annovar/\n",
    "   table_annovar.pl\n",
    "   annotate_variation.pl\n",
    "   humandb/*\n"
   ]
  },
  {
   "cell_type": "markdown",
   "id": "8e5f6814-2314-470f-a935-f91a2ea1ebba",
   "metadata": {},
   "source": [
    "  "
   ]
  },
  {
   "cell_type": "markdown",
   "id": "36a95ac9",
   "metadata": {},
   "source": [
    "<br>\n",
    "<b><u>Download and prepare alignment file for genotyping</u></b>\n",
    "<br><br>\n",
    "Here we will use samtools to extract reads aligned to a part of chromosome 20 from a 1000 Genomes Project BAM file hosted remotely, and save this alignment to a local file.   "
   ]
  },
  {
   "cell_type": "code",
   "execution_count": 1,
   "id": "da6d56d9",
   "metadata": {},
   "outputs": [
    {
     "ename": "SyntaxError",
     "evalue": "invalid decimal literal (1879703832.py, line 1)",
     "output_type": "error",
     "traceback": [
      "\u001b[0;36m  Cell \u001b[0;32mIn[1], line 1\u001b[0;36m\u001b[0m\n\u001b[0;31m    samtools view -h -b ftp://ftp.1000genomes.ebi.ac.uk/vol1/ftp/data_collections/1000_genomes_project/data/GBR/HG00249/alignment/HG00249.alt_bwamem_GRCh38DH.20150718.GBR.low_coverage.cram chr20:30000000-30500000 > HG00249.bam\u001b[0m\n\u001b[0m                                     ^\u001b[0m\n\u001b[0;31mSyntaxError\u001b[0m\u001b[0;31m:\u001b[0m invalid decimal literal\n"
     ]
    }
   ],
   "source": [
    "samtools view -h -b ftp://ftp.1000genomes.ebi.ac.uk/vol1/ftp/data_collections/1000_genomes_project/data/GBR/HG00249/alignment/HG00249.alt_bwamem_GRCh38DH.20150718.GBR.low_coverage.cram chr20:30000000-30500000 > HG00249.bam\n"
   ]
  },
  {
   "cell_type": "markdown",
   "id": "55f8b193",
   "metadata": {},
   "source": [
    "<br>\n",
    "Next we will use samtools to index the BAM file so that it can be used in downstream analysis tools"
   ]
  },
  {
   "cell_type": "code",
   "execution_count": null,
   "id": "1a1b5f98",
   "metadata": {},
   "outputs": [],
   "source": [
    "samtools index HG00249.bam\n"
   ]
  },
  {
   "cell_type": "markdown",
   "id": "a24ba84b",
   "metadata": {},
   "source": [
    "<br>\n",
    "Let's view the contents of the directory to see what files we have"
   ]
  },
  {
   "cell_type": "code",
   "execution_count": null,
   "id": "77b11f44",
   "metadata": {},
   "outputs": [],
   "source": [
    "ls -la\n"
   ]
  },
  {
   "cell_type": "markdown",
   "id": "63ee5d9d",
   "metadata": {},
   "source": [
    "<br>\n",
    "Next we will use samtools to print out reads mapping to just the first 1000 bases in the file so we can examine the alignments"
   ]
  },
  {
   "cell_type": "code",
   "execution_count": null,
   "id": "5bee9747",
   "metadata": {},
   "outputs": [],
   "source": [
    "samtools view -h HG00249.bam chr20:30000000-30001000\n"
   ]
  },
  {
   "cell_type": "markdown",
   "id": "10e3bc7b",
   "metadata": {},
   "source": [
    "<br>\n",
    "And summarize the properties of the alignments using flagstat in samtools"
   ]
  },
  {
   "cell_type": "code",
   "execution_count": null,
   "id": "5da8dfa9",
   "metadata": {},
   "outputs": [],
   "source": [
    "samtools flagstat HG00249.bam\n"
   ]
  },
  {
   "cell_type": "markdown",
   "id": "a1533dcc",
   "metadata": {},
   "source": [
    "<br>\n",
    "Next we will perform multiple commands to fix the alignments so that we can then perform duplicate marking/removal - these steps clean up information for paired reads. Since we extracted just a small portion of the chromosome, some of the pairs will now not have a mate "
   ]
  },
  {
   "cell_type": "code",
   "execution_count": null,
   "id": "f9e040fb",
   "metadata": {},
   "outputs": [],
   "source": [
    "samtools sort -n -o HG00249.sort.bam HG00249.bam\n",
    "samtools fixmate -m HG00249.sort.bam HG00249.sort.fixed.bam\n",
    "samtools sort -o HG00249.resort.bam HG00249.sort.fixed.bam\n"
   ]
  },
  {
   "cell_type": "markdown",
   "id": "82e76d25",
   "metadata": {},
   "source": [
    "<br>\n",
    "Next we will filter alignments to remove those with low quality/confidence - using a quality threshold of 30"
   ]
  },
  {
   "cell_type": "code",
   "execution_count": null,
   "id": "91edc95b",
   "metadata": {},
   "outputs": [],
   "source": [
    "samtools view -b -q 30 -o HG00249.filter.bam HG00249.resort.bam\n"
   ]
  },
  {
   "cell_type": "markdown",
   "id": "673a3dba",
   "metadata": {},
   "source": [
    "<br>\n",
    "Need to index the new filtered BAM file before duplicate marking/removal"
   ]
  },
  {
   "cell_type": "code",
   "execution_count": null,
   "id": "018512a8",
   "metadata": {},
   "outputs": [],
   "source": [
    "samtools index HG00249.filter.bam\n"
   ]
  },
  {
   "cell_type": "markdown",
   "id": "afeecfa3",
   "metadata": {},
   "source": [
    "<br>\n",
    "Summarize the properties of the alignments in the filtered BAM using samtools - compare to the previous unfiltered BAM"
   ]
  },
  {
   "cell_type": "code",
   "execution_count": null,
   "id": "3be10390",
   "metadata": {},
   "outputs": [],
   "source": [
    "samtools flagstat HG00249.filter.bam\n"
   ]
  },
  {
   "cell_type": "markdown",
   "id": "d1a2dfed",
   "metadata": {},
   "source": [
    "<br>\n",
    "Remove duplicate reads from filtered .bam and save to new BAM file (could have instead 'marked' duplicates which would have kept them in the BAM file and just changed their flag)"
   ]
  },
  {
   "cell_type": "code",
   "execution_count": null,
   "id": "d306374c",
   "metadata": {},
   "outputs": [],
   "source": [
    "samtools markdup -r HG00249.filter.bam HG00249.rmdup.bam\n"
   ]
  },
  {
   "cell_type": "markdown",
   "id": "0a51748b",
   "metadata": {},
   "source": [
    "<br>\n",
    "Index the new filtered, de-duped BAM file"
   ]
  },
  {
   "cell_type": "code",
   "execution_count": null,
   "id": "022b97b2",
   "metadata": {},
   "outputs": [],
   "source": [
    "samtools index HG00249.rmdup.bam\n"
   ]
  },
  {
   "cell_type": "markdown",
   "id": "d67b8a11",
   "metadata": {},
   "source": [
    "<br>\n",
    "Summarize properties of alignments in filtered, de-duped BAM file"
   ]
  },
  {
   "cell_type": "code",
   "execution_count": null,
   "id": "9cc9f518",
   "metadata": {},
   "outputs": [],
   "source": [
    "samtools flagstat HG00249.rmdup.bam\n"
   ]
  },
  {
   "cell_type": "markdown",
   "id": "f1371a10",
   "metadata": {},
   "source": [
    "<br>\n",
    "View pileup of filtered, de-duped read counts for each genomic position in the BAM file"
   ]
  },
  {
   "cell_type": "code",
   "execution_count": null,
   "id": "f02ea05b",
   "metadata": {},
   "outputs": [],
   "source": [
    "samtools mpileup -f chr20.fa.gz HG00249.rmdup.bam\n"
   ]
  },
  {
   "cell_type": "markdown",
   "id": "0f8141d7",
   "metadata": {},
   "source": [
    "<br>\n",
    "<b><u>Call genetic variants from aligment with bcftools</u></b>\n",
    "<br><br>\n",
    "From the filtered, de-duped BAM file - we will next identify genomic positions which are polymorphic in the sample\n",
    "<br><br>\n",
    "We will first use bcftools, which first uses the 'mpileup' command followed by the 'call' command and outputs a VCF file"
   ]
  },
  {
   "cell_type": "code",
   "execution_count": null,
   "id": "939088ec",
   "metadata": {},
   "outputs": [],
   "source": [
    "bcftools mpileup -Ou -f chr20.fa.gz HG00249.rmdup.bam | bcftools call -mv -Ov -o HG00249.bcftools.vcf\n"
   ]
  },
  {
   "cell_type": "markdown",
   "id": "559a1a61",
   "metadata": {},
   "source": [
    "<br>\n",
    "Filter bcftools variant calls by quality score > 20 and output to filtered VCF file"
   ]
  },
  {
   "cell_type": "code",
   "execution_count": null,
   "id": "0016ac14",
   "metadata": {},
   "outputs": [],
   "source": [
    "bcftools view -i '%QUAL>=20' HG00249.bcftools.vcf > HG00249.bcftools.filter.vcf\n"
   ]
  },
  {
   "cell_type": "markdown",
   "id": "d01fa57a",
   "metadata": {},
   "source": [
    "<br>\n",
    "Examine the first 5000 lines of the filtered VCF file - see what is in the header and the variant call lines"
   ]
  },
  {
   "cell_type": "code",
   "execution_count": null,
   "id": "d58f797b",
   "metadata": {},
   "outputs": [],
   "source": [
    "head -n 5000 HG00249.bcftools.filter.vcf\n"
   ]
  },
  {
   "cell_type": "markdown",
   "id": "834f4f82",
   "metadata": {},
   "source": [
    "<br>\n",
    "Summarize properties of the variant calls in the filtered VCF"
   ]
  },
  {
   "cell_type": "code",
   "execution_count": null,
   "id": "3df7a1d0",
   "metadata": {},
   "outputs": [],
   "source": [
    "bcftools stats HG00249.bcftools.filter.vcf\n"
   ]
  },
  {
   "cell_type": "markdown",
   "id": "8bc4951f",
   "metadata": {},
   "source": [
    "<br>\n",
    "<b><u>Call genetic variants using GATK</u></b>\n",
    "<br><br>\n",
    "First let's list out all of the tools that are available in GATK "
   ]
  },
  {
   "cell_type": "code",
   "execution_count": null,
   "id": "90048563",
   "metadata": {},
   "outputs": [],
   "source": [
    "gatk --list\n"
   ]
  },
  {
   "cell_type": "markdown",
   "id": "00a2ddf5",
   "metadata": {},
   "source": [
    "<br>\n",
    "We will use the base recalibration tool to update the base quality scores based on comparison to known variant positions.  First, we use the BaseRecalibrator function which estimates the true error rate of bases in quality score bins.  Second, we use the output to update the quality scores in the BAM file"
   ]
  },
  {
   "cell_type": "code",
   "execution_count": null,
   "id": "09e701fc",
   "metadata": {},
   "outputs": [],
   "source": [
    "gatk BaseRecalibrator -I HG00249.rmdup.bam -R chr20.fa.gz --known-sites resources_broad_hg38_v0_1000G_phase1.snps.high_confidence.hg38.chr20.vcf.gz -O recal.table\n",
    "gatk ApplyBQSR -R chr20.fa.gz -I HG00249.rmdup.bam --bqsr-recal-file recal.table -O HG00249.rmdup.recal.bam\n"
   ]
  },
  {
   "cell_type": "markdown",
   "id": "f9b86f57",
   "metadata": {},
   "source": [
    "<br>\n",
    "If we look at the output of BaseRecalibrator it shows the error rate of the original quality scores"
   ]
  },
  {
   "cell_type": "code",
   "execution_count": null,
   "id": "d5736de1",
   "metadata": {},
   "outputs": [],
   "source": [
    "head -n 142 recal.table"
   ]
  },
  {
   "cell_type": "markdown",
   "id": "60366ea6",
   "metadata": {},
   "source": [
    "<br>\n",
    "Next we will use the BAM file with the recalibrated quality scores to call an initial set of variants using GATK HaplotypeCaller"
   ]
  },
  {
   "cell_type": "code",
   "execution_count": null,
   "id": "7297998b",
   "metadata": {},
   "outputs": [],
   "source": [
    "gatk HaplotypeCaller -I HG00249.rmdup.recal.bam -O HG00249.gatk.vcf -R chr20.fa.gz\n"
   ]
  },
  {
   "cell_type": "markdown",
   "id": "5c479902",
   "metadata": {},
   "source": [
    "<br>\n",
    "Then we will summarize the properties of this initial variant call set"
   ]
  },
  {
   "cell_type": "code",
   "execution_count": null,
   "id": "39bdef18",
   "metadata": {},
   "outputs": [],
   "source": [
    "bcftools stats HG00249.gatk.vcf\n"
   ]
  },
  {
   "cell_type": "markdown",
   "id": "dc60b447",
   "metadata": {},
   "source": [
    "<br>\n",
    "Next we will perform recalibration of variant quality scores and filtering.  First we will use the VariantRecalibrator command to determine the error rate of variants across qualty scores compared to known variant positions.  Next we will use the output in ApplyVQSR to update the variant quality scores and produce a filtered VCF"
   ]
  },
  {
   "cell_type": "code",
   "execution_count": null,
   "id": "292134b3",
   "metadata": {},
   "outputs": [],
   "source": [
    "gatk VariantRecalibrator -R chr20.fa.gz -V HG00249.gatk.vcf --resource:hapmap,known=false,training=true,truth=true,prior=15.0 resources_broad_hg38_v0_hapmap_3.3.hg38.vcf.gz --resource:omni,known=false,training=true,truth=false,prior=12.0 resources_broad_hg38_v0_1000G_omni2.5.hg38.vcf.gz --resource:1000G,known=false,training=true,truth=false,prior=10.0 resources_broad_hg38_v0_1000G_phase1.snps.high_confidence.hg38.chr20.vcf.gz -an QD -an FS -mode SNP -O recal.var --tranches-file output.tranches --rscript-file output.plots.R\n",
    "gatk ApplyVQSR -R chr20.fa.gz -V HG00249.gatk.vcf -O HG00249.gatk.filter.vcf --truth-sensitivity-filter-level 90.0 --tranches-file output.tranches --recal-file recal.var -mode SNP\n"
   ]
  },
  {
   "cell_type": "markdown",
   "id": "477f354e",
   "metadata": {},
   "source": [
    "<br>\n",
    "Then we will summarize the properties of this filtered variant call set"
   ]
  },
  {
   "cell_type": "code",
   "execution_count": null,
   "id": "42c62d77",
   "metadata": {},
   "outputs": [],
   "source": [
    "bcftools stats HG00249.gatk.filtered.vcf\n"
   ]
  },
  {
   "cell_type": "markdown",
   "id": "740af22d",
   "metadata": {},
   "source": [
    "<br>\n",
    "<b><u>Convert genotypes to tab-delimited file</u></b>\n",
    "<br><br>\n",
    "Compress the VCFs and then use the 'tabix' command to index the VCFs"
   ]
  },
  {
   "cell_type": "code",
   "execution_count": null,
   "id": "75760030",
   "metadata": {},
   "outputs": [],
   "source": [
    "bgzip HG00249.bcftools.filter.vcf\n",
    "tabix -vcf HG00249.bcftools.filter.vcf.gz\n",
    "\n",
    "bgzip HG00249.gatk.filter.vcf\n",
    "tabix -vcf HG00249.gatk.filter.vcf.gz"
   ]
  },
  {
   "cell_type": "markdown",
   "id": "925b9949",
   "metadata": {},
   "source": [
    "<br>\n",
    "Output tab-delimited text file that can be used for additional analyses"
   ]
  },
  {
   "cell_type": "code",
   "execution_count": null,
   "id": "131fca32",
   "metadata": {},
   "outputs": [],
   "source": [
    "# output text file\n",
    "vcf2tsv -g HG00249.gatk.filter.vcf.gz > HG00249.gatk.filter.txt"
   ]
  }
 ],
 "metadata": {
  "kernelspec": {
   "display_name": "Python 3 (ipykernel)",
   "language": "python",
   "name": "python3"
  },
  "language_info": {
   "codemirror_mode": {
    "name": "ipython",
    "version": 3
   },
   "file_extension": ".py",
   "mimetype": "text/x-python",
   "name": "python",
   "nbconvert_exporter": "python",
   "pygments_lexer": "ipython3",
   "version": "3.12.2"
  }
 },
 "nbformat": 4,
 "nbformat_minor": 5
}
