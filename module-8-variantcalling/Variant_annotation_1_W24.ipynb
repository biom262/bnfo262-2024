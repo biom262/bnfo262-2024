{
 "cells": [
  {
   "cell_type": "markdown",
   "id": "41e9b8c9-9f87-4648-8238-b564606943a5",
   "metadata": {},
   "source": [
    "### Variant calling module\n",
    "\n",
    "**CMM262, Winter 2024**\n",
    "\n",
    "Kyle Gaulton, kgaulton@health.ucsd.edu\n",
    "<br>\n",
    "<br>"
   ]
  },
  {
   "cell_type": "markdown",
   "id": "8d6f6171-8d72-401c-9d2d-e7873a3d6c85",
   "metadata": {},
   "source": [
    "<b>In this walkthrough we will be functionally annotating variant calls from 23andme</b>"
   ]
  },
  {
   "cell_type": "markdown",
   "id": "789a81e1-cda8-420a-a690-02c554695719",
   "metadata": {},
   "source": [
    "<br>\n",
    "<b><u>Download and format 23andme file</u></b>\n",
    "<br><br>\n",
    "For the purposes of this walkthrough, the Harvard Personal Genome Project has publicly available genetic data from many individuals:   \n",
    "https://my.pgp-hms.org/public_genetic_data  \n",
    "<br><br>\n",
    "We will download 23andme genetic data from one of the individuals in this database\n",
    "<br><br>\n",
    "If you have used 23andme you should be able to download your genotype data directly \n",
    "<br><br>"
   ]
  },
  {
   "cell_type": "code",
   "execution_count": 1,
   "id": "449fae7a-3209-44bf-a2b4-8d2d8ae27800",
   "metadata": {},
   "outputs": [
    {
     "ename": "SyntaxError",
     "evalue": "invalid decimal literal (2198975931.py, line 1)",
     "output_type": "error",
     "traceback": [
      "\u001b[0;36m  Cell \u001b[0;32mIn[1], line 1\u001b[0;36m\u001b[0m\n\u001b[0;31m    wget --mirror --no-parent --no-host --cut-dirs=1 https://763cd12fc3c88de3c86e0146fa1c3564-103.collections.ac2it.arvadosapi.com/_/\u001b[0m\n\u001b[0m                                                               ^\u001b[0m\n\u001b[0;31mSyntaxError\u001b[0m\u001b[0;31m:\u001b[0m invalid decimal literal\n"
     ]
    }
   ],
   "source": [
    "wget --mirror --no-parent --no-host --cut-dirs=1 https://3996cdadd6946ea4d2685f2a71949d6e-107.collections.ac2it.arvadosapi.com/_/"
   ]
  },
  {
   "cell_type": "markdown",
   "id": "37371285-8577-47e4-8136-8df045332a87",
   "metadata": {},
   "source": [
    "<br>\n",
    "If we look at the file we can see that it isn't in a standard (e.g. VCF) format, but just lists the variants and the genotype"
   ]
  },
  {
   "cell_type": "code",
   "execution_count": 2,
   "id": "425325e3-3525-4119-81e5-3032343efafb",
   "metadata": {},
   "outputs": [
    {
     "ename": "FileNotFoundError",
     "evalue": "[Errno 2] No such file or directory: 'genome_Katrina_Gardner_v5_Full_20220813004258.txt'",
     "output_type": "error",
     "traceback": [
      "\u001b[0;31m---------------------------------------------------------------------------\u001b[0m",
      "\u001b[0;31mFileNotFoundError\u001b[0m                         Traceback (most recent call last)",
      "Cell \u001b[0;32mIn[2], line 1\u001b[0m\n\u001b[0;32m----> 1\u001b[0m \u001b[43mget_ipython\u001b[49m\u001b[43m(\u001b[49m\u001b[43m)\u001b[49m\u001b[38;5;241;43m.\u001b[39;49m\u001b[43mrun_line_magic\u001b[49m\u001b[43m(\u001b[49m\u001b[38;5;124;43m'\u001b[39;49m\u001b[38;5;124;43mmore\u001b[39;49m\u001b[38;5;124;43m'\u001b[39;49m\u001b[43m,\u001b[49m\u001b[43m \u001b[49m\u001b[38;5;124;43m'\u001b[39;49m\u001b[38;5;124;43mgenome_Katrina_Gardner_v5_Full_20220813004258.txt\u001b[39;49m\u001b[38;5;124;43m'\u001b[39;49m\u001b[43m)\u001b[49m\n",
      "File \u001b[0;32m/opt/homebrew/opt/ipython/libexec/lib/python3.12/site-packages/IPython/core/interactiveshell.py:2480\u001b[0m, in \u001b[0;36mInteractiveShell.run_line_magic\u001b[0;34m(self, magic_name, line, _stack_depth)\u001b[0m\n\u001b[1;32m   2478\u001b[0m     kwargs[\u001b[38;5;124m'\u001b[39m\u001b[38;5;124mlocal_ns\u001b[39m\u001b[38;5;124m'\u001b[39m] \u001b[38;5;241m=\u001b[39m \u001b[38;5;28mself\u001b[39m\u001b[38;5;241m.\u001b[39mget_local_scope(stack_depth)\n\u001b[1;32m   2479\u001b[0m \u001b[38;5;28;01mwith\u001b[39;00m \u001b[38;5;28mself\u001b[39m\u001b[38;5;241m.\u001b[39mbuiltin_trap:\n\u001b[0;32m-> 2480\u001b[0m     result \u001b[38;5;241m=\u001b[39m \u001b[43mfn\u001b[49m\u001b[43m(\u001b[49m\u001b[38;5;241;43m*\u001b[39;49m\u001b[43margs\u001b[49m\u001b[43m,\u001b[49m\u001b[43m \u001b[49m\u001b[38;5;241;43m*\u001b[39;49m\u001b[38;5;241;43m*\u001b[39;49m\u001b[43mkwargs\u001b[49m\u001b[43m)\u001b[49m\n\u001b[1;32m   2482\u001b[0m \u001b[38;5;66;03m# The code below prevents the output from being displayed\u001b[39;00m\n\u001b[1;32m   2483\u001b[0m \u001b[38;5;66;03m# when using magics with decorator @output_can_be_silenced\u001b[39;00m\n\u001b[1;32m   2484\u001b[0m \u001b[38;5;66;03m# when the last Python token in the expression is a ';'.\u001b[39;00m\n\u001b[1;32m   2485\u001b[0m \u001b[38;5;28;01mif\u001b[39;00m \u001b[38;5;28mgetattr\u001b[39m(fn, magic\u001b[38;5;241m.\u001b[39mMAGIC_OUTPUT_CAN_BE_SILENCED, \u001b[38;5;28;01mFalse\u001b[39;00m):\n",
      "File \u001b[0;32m/opt/homebrew/Cellar/jupyterlab/4.1.2/libexec/lib/python3.12/site-packages/ipykernel/zmqshell.py:342\u001b[0m, in \u001b[0;36mKernelMagics.less\u001b[0;34m(self, arg_s)\u001b[0m\n\u001b[1;32m    340\u001b[0m     cont \u001b[38;5;241m=\u001b[39m \u001b[38;5;28mself\u001b[39m\u001b[38;5;241m.\u001b[39mshell\u001b[38;5;241m.\u001b[39mpycolorize(openpy\u001b[38;5;241m.\u001b[39mread_py_file(arg_s, skip_encoding_cookie\u001b[38;5;241m=\u001b[39m\u001b[38;5;28;01mFalse\u001b[39;00m))\n\u001b[1;32m    341\u001b[0m \u001b[38;5;28;01melse\u001b[39;00m:\n\u001b[0;32m--> 342\u001b[0m     \u001b[38;5;28;01mwith\u001b[39;00m \u001b[38;5;28;43mopen\u001b[39;49m\u001b[43m(\u001b[49m\u001b[43marg_s\u001b[49m\u001b[43m)\u001b[49m \u001b[38;5;28;01mas\u001b[39;00m fid:\n\u001b[1;32m    343\u001b[0m         cont \u001b[38;5;241m=\u001b[39m fid\u001b[38;5;241m.\u001b[39mread()\n\u001b[1;32m    344\u001b[0m page\u001b[38;5;241m.\u001b[39mpage(cont)\n",
      "\u001b[0;31mFileNotFoundError\u001b[0m: [Errno 2] No such file or directory: 'genome_Katrina_Gardner_v5_Full_20220813004258.txt'"
     ]
    }
   ],
   "source": [
    "more genome_Patrick_Finney_v4_Full_20170327075235\\[1\\].txt"
   ]
  },
  {
   "cell_type": "markdown",
   "id": "838b9b1c-82ce-4e8b-abb8-d55b3f3c20fc",
   "metadata": {},
   "source": [
    "<br>\n",
    "Therefore, before annotating the variant calls we need to first convert the 23andme output to a VCF\n",
    "<br><br>\n",
    "We will use a Perl script '23andme2vcf.pl' to convert the file to VCF"
   ]
  },
  {
   "cell_type": "code",
   "execution_count": null,
   "id": "e7c9fdbd-27c5-4f4f-980a-bf6045dbd83a",
   "metadata": {},
   "outputs": [],
   "source": [
    "perl 23andme2vcf.pl more genome_Patrick_Finney_v4_Full_20170327075235\\[1\\].txt my_vars.vcf"
   ]
  },
  {
   "cell_type": "code",
   "execution_count": null,
   "id": "8521197a-01db-434c-8881-c2cb2861faaf",
   "metadata": {},
   "outputs": [],
   "source": [
    "more my_vars.vcf"
   ]
  },
  {
   "cell_type": "markdown",
   "id": "413920f5-38af-43a9-80ce-15c86996501b",
   "metadata": {},
   "source": [
    "<br>\n",
    "Next we will functionally annotate variants in the VCF file for effects on protein-coding genes and to identify variants in ClinVar using ANNOVAR "
   ]
  },
  {
   "cell_type": "code",
   "execution_count": null,
   "id": "50d1f1c8-1747-414a-b141-63739512416e",
   "metadata": {},
   "outputs": [],
   "source": [
    "perl annovar/table_annovar.pl my_vars.vcf annovar/humandb/ -buildver hg19 -out annotated -remove -protocol refGene,clinvar_20131105 -operation g,f -nastring . -vcfinput"
   ]
  },
  {
   "cell_type": "markdown",
   "id": "8f1b121e-a66c-483f-866e-7647ea6b5242",
   "metadata": {},
   "source": [
    "<br>\n",
    "This step should produce both a VCF with the annotations included as well as a text file of variant annotations"
   ]
  },
  {
   "cell_type": "code",
   "execution_count": null,
   "id": "d1957e49-7613-4519-99f2-18c93c3dc31a",
   "metadata": {},
   "outputs": [],
   "source": [
    "ls -la *multianno*"
   ]
  },
  {
   "cell_type": "markdown",
   "id": "cd9a5885-5f1e-4097-a7c1-de4f42730756",
   "metadata": {},
   "source": [
    "<br>\n",
    "If we look at the annotated text file we can see many columns - including some redundant information - so first we want to clean up the file so it is a bit easier to read"
   ]
  },
  {
   "cell_type": "code",
   "execution_count": null,
   "id": "cd6a80de-07e2-46cc-b713-f1b5167720e7",
   "metadata": {},
   "outputs": [],
   "source": [
    "more annotated.hg19_multianno.txt"
   ]
  },
  {
   "cell_type": "code",
   "execution_count": null,
   "id": "e8c18113-a073-4f75-bb6f-725b1bb49b58",
   "metadata": {},
   "outputs": [],
   "source": [
    "cut -f1,2,4,5,7,9,10,11,17,24 annotated.hg19_multianno.txt > annotated.hg19_multianno.trim.txt"
   ]
  },
  {
   "cell_type": "code",
   "execution_count": null,
   "id": "ada4c0f7-09f4-43cb-8b86-47bed10a1e0f",
   "metadata": {},
   "outputs": [],
   "source": [
    "more annotated.hg19_multianno.trim.txt"
   ]
  },
  {
   "cell_type": "markdown",
   "id": "dcb60bfb-0bdf-4a8b-ab38-adcf91a2f3c1",
   "metadata": {},
   "source": [
    "<br>\n",
    "Now looking at the file it is clear that genotypes for all of the variants are provided, including ones which were homozygote for the reference allele.  Therefore we need to filter the file to just those variants which are heterozygote or homozygote non-reference."
   ]
  },
  {
   "cell_type": "code",
   "execution_count": null,
   "id": "4d9d5766-56ea-4e63-9f00-129cd239097e",
   "metadata": {},
   "outputs": [],
   "source": [
    "grep -v '0/0' annotated.hg19_multianno.trim.txt > annotated.hg19_multianno.trim.nohomref.txt"
   ]
  },
  {
   "cell_type": "markdown",
   "id": "f8e03622-a36b-4939-83fb-fb605ec7c3fe",
   "metadata": {},
   "source": [
    "<br>\n",
    "Finally, we want to extract variants that may have clinical significance"
   ]
  },
  {
   "cell_type": "code",
   "execution_count": null,
   "id": "8a5550e9-adde-4e8e-a548-cd85c5ace7f6",
   "metadata": {},
   "outputs": [],
   "source": [
    "grep 'CLINSIG=pathogenic' annotated.hg19_multianno.trim.nohomref.txt"
   ]
  }
 ],
 "metadata": {
  "kernelspec": {
   "display_name": "Python 3 (ipykernel)",
   "language": "python",
   "name": "python3"
  },
  "language_info": {
   "codemirror_mode": {
    "name": "ipython",
    "version": 3
   },
   "file_extension": ".py",
   "mimetype": "text/x-python",
   "name": "python",
   "nbconvert_exporter": "python",
   "pygments_lexer": "ipython3",
   "version": "3.12.2"
  }
 },
 "nbformat": 4,
 "nbformat_minor": 5
}
