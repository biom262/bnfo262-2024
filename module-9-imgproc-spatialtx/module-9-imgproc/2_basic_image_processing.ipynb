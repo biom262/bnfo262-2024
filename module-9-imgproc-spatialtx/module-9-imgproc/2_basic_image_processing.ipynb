{
 "cells": [
  {
   "cell_type": "markdown",
   "metadata": {},
   "source": [
    "# tresholding"
   ]
  },
  {
   "cell_type": "code",
   "execution_count": null,
   "metadata": {},
   "outputs": [],
   "source": [
    "# true = 1 = white, false = 0 = black\n",
    "\n",
    "from skimage.filters import threshold_mean\n",
    "from skimage import data\n",
    "import matplotlib.pyplot as plt\n",
    "\n",
    "image = data.camera()\n",
    "thresh = threshold_mean(image)\n",
    "#thresh = 10\n",
    "binary = image < thresh\n",
    "\n",
    "fig, axes = plt.subplots(ncols=2, figsize=(8, 3))\n",
    "ax = axes.ravel()\n",
    "\n",
    "ax[0].imshow(image, cmap=plt.cm.gray)\n",
    "ax[0].set_title('Original image')\n",
    "\n",
    "ax[1].imshow(binary, cmap=plt.cm.gray)\n",
    "ax[1].set_title('Result')\n",
    "\n",
    "for a in ax:\n",
    "    a.axis('off')\n",
    "\n",
    "plt.show()"
   ]
  },
  {
   "cell_type": "code",
   "execution_count": null,
   "metadata": {},
   "outputs": [],
   "source": [
    "print(thresh)"
   ]
  },
  {
   "cell_type": "code",
   "execution_count": null,
   "metadata": {},
   "outputs": [],
   "source": [
    "from skimage.filters import threshold_otsu\n",
    "\n",
    "\n",
    "#load data into 2D array variable\n",
    "image = data.camera()\n",
    "# automatically find a threshold\n",
    "thresh = threshold_otsu(image)\n",
    "# apply the threshold to the image and create a binary mask\n",
    "binary = image > thresh\n",
    "\n",
    "\n",
    "## all of the following is just fancy plotting\n",
    "fig, axes = plt.subplots(ncols=3, figsize=(8, 2.5))\n",
    "ax = axes.ravel()\n",
    "ax[0] = plt.subplot(1, 3, 1)\n",
    "ax[1] = plt.subplot(1, 3, 2)\n",
    "ax[2] = plt.subplot(1, 3, 3, sharex=ax[0], sharey=ax[0])\n",
    "\n",
    "ax[0].imshow(image, cmap=plt.cm.hsv)\n",
    "ax[0].set_title('Original')\n",
    "ax[0].axis('off')\n",
    "\n",
    "ax[1].hist(image.ravel(), bins=256)\n",
    "ax[1].set_title('Histogram')\n",
    "# plotting the red line\n",
    "ax[1].axvline(thresh, color='r')\n",
    "\n",
    "ax[2].imshow(binary, cmap=plt.cm.gray)\n",
    "ax[2].set_title('Thresholded')\n",
    "ax[2].axis('off')\n",
    "\n",
    "plt.show()"
   ]
  },
  {
   "cell_type": "code",
   "execution_count": null,
   "metadata": {},
   "outputs": [],
   "source": []
  },
  {
   "cell_type": "code",
   "execution_count": null,
   "metadata": {},
   "outputs": [],
   "source": [
    "# just try all thresholds"
   ]
  },
  {
   "cell_type": "code",
   "execution_count": null,
   "metadata": {},
   "outputs": [],
   "source": [
    "\n",
    "from skimage import data\n",
    "from skimage.filters import try_all_threshold\n",
    "\n",
    "img = data.page()\n",
    "\n",
    "fig, ax = try_all_threshold(img, figsize=(10, 8), verbose=False)\n",
    "plt.show()"
   ]
  },
  {
   "cell_type": "code",
   "execution_count": null,
   "metadata": {},
   "outputs": [],
   "source": [
    "from skimage.filters import threshold_otsu, threshold_local\n",
    "\n",
    "\n",
    "image = data.page()\n",
    "\n",
    "# here we calculate the global threshold\n",
    "global_thresh = threshold_otsu(image)\n",
    "# here we apply the global theshold\n",
    "binary_global = image > global_thresh\n",
    "\n",
    "# parameter for local thresholding\n",
    "\n",
    "# parameter upper limit: you get the global threshold, e.g. ~1000\n",
    "block_size = 35\n",
    "# here we calculate the local threshold\n",
    "local_thresh = threshold_local(image, block_size, offset=10)\n",
    "# here we apply the local threshold\n",
    "binary_local = image > local_thresh\n",
    "\n",
    "# fancy plotting from here\n",
    "fig, axes = plt.subplots(nrows=3, figsize=(7, 8))\n",
    "ax = axes.ravel()\n",
    "plt.gray()\n",
    "\n",
    "ax[0].imshow(image)\n",
    "ax[0].set_title('Original')\n",
    "\n",
    "ax[1].imshow(binary_global)\n",
    "ax[1].set_title('Global thresholding')\n",
    "\n",
    "ax[2].imshow(binary_local)\n",
    "ax[2].set_title('Local thresholding')\n",
    "\n",
    "for a in ax:\n",
    "    a.axis('off')\n",
    "\n",
    "plt.show()"
   ]
  },
  {
   "cell_type": "code",
   "execution_count": null,
   "metadata": {},
   "outputs": [],
   "source": [
    "print(global_thresh.shape)\n",
    "print(global_thresh)"
   ]
  },
  {
   "cell_type": "code",
   "execution_count": null,
   "metadata": {},
   "outputs": [],
   "source": [
    "print(local_thresh.shape)\n",
    "print(local_thresh)"
   ]
  },
  {
   "cell_type": "markdown",
   "metadata": {},
   "source": [
    "# look at your own data"
   ]
  },
  {
   "cell_type": "code",
   "execution_count": null,
   "metadata": {},
   "outputs": [],
   "source": [
    "%%bash\n",
    "ln -sfn ~/public/imgproc-spatialtx/imgproc/data ./data"
   ]
  },
  {
   "cell_type": "code",
   "execution_count": null,
   "metadata": {},
   "outputs": [],
   "source": [
    "import numpy as np\n",
    "import matplotlib.pyplot as plt\n",
    "import tifffile\n",
    "\n",
    "path = \"./data/brain_organoid.tif\"\n",
    "imageData = tifffile.imread(path)\n",
    "print( imageData.shape)\n",
    "\n",
    "# only taking the third channel and put that into the 'img' variable\n",
    "#img = imageData[:,:,2]\n",
    "image = imageData\n",
    "\n",
    "\n",
    "# then plotting it\n",
    "plt.imshow(image)\n",
    "plt.show()"
   ]
  },
  {
   "cell_type": "code",
   "execution_count": null,
   "metadata": {},
   "outputs": [],
   "source": [
    "camera = data.camera()\n",
    "image = data.page()\n",
    "print(np.max(camera)) # 8 bit image, between 0-255\n",
    "print(np.max(image)) # 16 bit image, 0- 65536"
   ]
  },
  {
   "cell_type": "code",
   "execution_count": null,
   "metadata": {},
   "outputs": [],
   "source": [
    "from skimage.filters import threshold_mean\n",
    "\n",
    "\n",
    "#image = imageData[:,:,2]\n",
    "image = imageData\n",
    "print(\"max image\",np.max(image))\n",
    "\n",
    "thresh = threshold_mean(image)\n",
    "#thresh = threshold_otsu(image)\n",
    "#thresh = 60000\n",
    "\n",
    "print(\"thresh\", thresh)\n",
    "binary = image > thresh\n",
    "\n",
    "fig, axes = plt.subplots(ncols=2, figsize=(8, 3))\n",
    "ax = axes.ravel()\n",
    "\n",
    "ax[0].imshow(image, cmap=plt.cm.gray)\n",
    "ax[0].set_title('Original image')\n",
    "\n",
    "ax[1].imshow(binary, cmap=plt.cm.gray)\n",
    "ax[1].set_title('Result')\n",
    "\n",
    "for a in ax:\n",
    "    a.axis('off')\n",
    "\n",
    "plt.show()"
   ]
  },
  {
   "cell_type": "code",
   "execution_count": null,
   "metadata": {},
   "outputs": [],
   "source": [
    "from skimage.filters import threshold_otsu, threshold_local\n",
    "\n",
    "\n",
    "#image = imageData[:,:,2]\n",
    "image = imageData\n",
    "\n",
    "global_thresh = threshold_otsu(image)\n",
    "binary_global = image > global_thresh\n",
    "\n",
    "block_size = 51\n",
    "local_thresh = threshold_local(image, block_size, offset=10)\n",
    "binary_local = image > local_thresh\n",
    "\n",
    "fig, axes = plt.subplots(nrows=3, figsize=(7, 8))\n",
    "ax = axes.ravel()\n",
    "plt.gray()\n",
    "\n",
    "ax[0].imshow(image)\n",
    "ax[0].set_title('Original')\n",
    "\n",
    "ax[1].imshow(binary_global)\n",
    "ax[1].set_title('Global thresholding')\n",
    "\n",
    "ax[2].imshow(binary_local)\n",
    "ax[2].set_title('Local thresholding')\n",
    "\n",
    "for a in ax:\n",
    "    a.axis('off')\n",
    "\n",
    "plt.show()"
   ]
  },
  {
   "cell_type": "markdown",
   "metadata": {},
   "source": [
    "# pretty plotting for images, e.g. making them larger:"
   ]
  },
  {
   "cell_type": "code",
   "execution_count": null,
   "metadata": {},
   "outputs": [],
   "source": [
    "plt.figure(dpi=150)\n",
    "plt.imshow(camera, cmap=plt.cm.hsv)"
   ]
  },
  {
   "cell_type": "code",
   "execution_count": null,
   "metadata": {},
   "outputs": [],
   "source": []
  }
 ],
 "metadata": {
  "kernelspec": {
   "display_name": "Python 3 (ipykernel)",
   "language": "python",
   "name": "python3"
  },
  "language_info": {
   "codemirror_mode": {
    "name": "ipython",
    "version": 3
   },
   "file_extension": ".py",
   "mimetype": "text/x-python",
   "name": "python",
   "nbconvert_exporter": "python",
   "pygments_lexer": "ipython3",
   "version": "3.9.5"
  }
 },
 "nbformat": 4,
 "nbformat_minor": 4
}
