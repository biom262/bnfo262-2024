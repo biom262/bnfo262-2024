{
 "cells": [
  {
   "cell_type": "code",
   "execution_count": null,
   "metadata": {},
   "outputs": [],
   "source": [
    "# next step: all of this has to become a package in pyLattice!\n",
    "\n",
    "\n",
    "import numpy as np\n",
    "import matplotlib.pyplot as plt\n",
    "import tifffile\n",
    "\n",
    "path = \"./data/Spindle_Pole_Assay.tif\"\n",
    "imageData = tifffile.imread(path)\n",
    "print( imageData.shape)\n",
    "\n",
    "# only taking the third channel and put that into the 'img' variable\n",
    "t = 2\n",
    "z = 0\n",
    "single2DSlice = imageData[t,z,:,:]\n",
    "single3DSlice = imageData[t,:,:,:]\n",
    "\n",
    "# then plotting it\n",
    "plt.imshow(single2DSlice)\n",
    "plt.show()"
   ]
  },
  {
   "cell_type": "markdown",
   "metadata": {},
   "source": [
    "# Maximum intensity projection | pyLattice for 4D and 5D data processing\n",
    "\n",
    "e.g. use pyLattice, if you like it please give us a 'star' on github - it helps us with fundraising and keeping the project going\n",
    "\n",
    "https://urldefense.com/v3/__https://github.com/pylattice*5Cn__;JQ!!Mih3wA!CO9wUnLJWtJjOxhnH8KTGmTBrm0cpZF1gsdWJx6lhXXL0nwJSJbSZSeNfxqVjLAMSn7jr_yEiTV3gnBxGCFx-gCE-0ici28$ \n",
    "https://urldefense.com/v3/__https://github.com/pylattice/pyLattice/blob/master/src/jupyter/latticeMovie_correctBleaching.ipynb*5Cn__;JQ!!Mih3wA!CO9wUnLJWtJjOxhnH8KTGmTBrm0cpZF1gsdWJx6lhXXL0nwJSJbSZSeNfxqVjLAMSn7jr_yEiTV3gnBxGCFx-gCEsu_v1UU$ \n",
    "pip install pylattice"
   ]
  },
  {
   "cell_type": "code",
   "execution_count": null,
   "metadata": {},
   "outputs": [],
   "source": [
    "import pylattice \n",
    "import pylattice.functions.TiffProcessing as tiffproc\n",
    "\n",
    "t=2\n",
    "tiffproc.maxIntensityProjection(imageData[t,:,:,:])\n",
    "\n",
    "image_3d_to_process = imageData[t,:,:,:]\n",
    "print(image_3d_to_process.shape)\n",
    "\n",
    "# if I'm not using pylattice for max intensity projection:\n",
    "plt.imshow(image_3d_to_process[0])"
   ]
  },
  {
   "cell_type": "markdown",
   "metadata": {},
   "source": [
    "# lets try to treshold this raw image"
   ]
  },
  {
   "cell_type": "code",
   "execution_count": null,
   "metadata": {},
   "outputs": [],
   "source": [
    "# where do we want to put our threshold?\n",
    "plt.hist(image_3d_to_process.ravel())\n",
    "plt.xlabel(\"pixel intensity\")\n",
    "\n",
    "\n",
    "mask = image_3d_to_process > 2500\n",
    "\n",
    "tiffproc.maxIntensityProjection(mask)\n",
    "\n",
    "# if I'm not using pylattice for max intensity projection:\n",
    "plt.imshow(mask[0])"
   ]
  },
  {
   "cell_type": "markdown",
   "metadata": {},
   "source": [
    "# lets do it again with some smoothing"
   ]
  },
  {
   "cell_type": "code",
   "execution_count": null,
   "metadata": {},
   "outputs": [],
   "source": [
    "from skimage.filters import gaussian\n",
    "\n",
    "# Gaussian smoothing\n",
    "sigma = 2\n",
    "image_3d_to_process_smoothened = gaussian(image_3d_to_process, sigma)\n",
    "\n",
    "tiffproc.maxIntensityProjection(image_3d_to_process_smoothened)\n",
    "\n",
    "# if you cannot install pylattice, use: plt.imshow(image_3d_to_process_smoothened[0])\n",
    "\n",
    "# where do we want to put our threshold?\n",
    "plt.hist(image_3d_to_process_smoothened.ravel())\n",
    "\n",
    "\n",
    "mask = image_3d_to_process_smoothened > 0.03\n",
    "\n",
    "tiffproc.maxIntensityProjection(mask)\n",
    "\n",
    "# if you cannot install pylattice, use: plt.imshow(mask[0])"
   ]
  },
  {
   "cell_type": "markdown",
   "metadata": {},
   "source": [
    "# get centroids"
   ]
  },
  {
   "cell_type": "code",
   "execution_count": null,
   "metadata": {},
   "outputs": [],
   "source": [
    "\n",
    "from skimage import measure\n",
    "from skimage.measure import label, regionprops, regionprops_table\n",
    "import pandas as pd\n",
    "\n",
    "\n",
    "# this label function assigns a unique label to each blob that is disconnected from all other blobs\n",
    "blobs_labels = label(mask)     \n",
    "\n",
    "plt.imshow(blobs_labels[0])\n",
    "\n",
    "# regionprops calculates properties for all individual blobs that have been identified in the label function\n",
    "regions = regionprops(blobs_labels)\n",
    "#print(regions)\n",
    "for region in regions:\n",
    "    centroid = region.centroid\n",
    "    print(\"centroid coordinates\",centroid)\n",
    "\n"
   ]
  },
  {
   "cell_type": "code",
   "execution_count": null,
   "metadata": {},
   "outputs": [],
   "source": [
    "# ... calculate the distance, run this in a for loop to do it for every image in the 3D movie, use pyLattice for 4D bleach correction etc..."
   ]
  },
  {
   "cell_type": "code",
   "execution_count": null,
   "metadata": {},
   "outputs": [],
   "source": [
    "movieLength = 49\n",
    "for t in range(0,movieLength):\n",
    "    # do all the steps from above..."
   ]
  },
  {
   "cell_type": "code",
   "execution_count": null,
   "metadata": {},
   "outputs": [],
   "source": []
  },
  {
   "cell_type": "code",
   "execution_count": null,
   "metadata": {},
   "outputs": [],
   "source": []
  }
 ],
 "metadata": {
  "kernelspec": {
   "display_name": "Python 3 (ipykernel)",
   "language": "python",
   "name": "python3"
  },
  "language_info": {
   "codemirror_mode": {
    "name": "ipython",
    "version": 3
   },
   "file_extension": ".py",
   "mimetype": "text/x-python",
   "name": "python",
   "nbconvert_exporter": "python",
   "pygments_lexer": "ipython3",
   "version": "3.9.5"
  }
 },
 "nbformat": 4,
 "nbformat_minor": 4
}
