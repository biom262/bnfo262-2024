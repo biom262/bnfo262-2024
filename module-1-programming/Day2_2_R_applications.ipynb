{
 "cells": [
  {
   "cell_type": "markdown",
   "metadata": {},
   "source": [
    "# Intro to Bioinformatics Applications of R"
   ]
  },
  {
   "cell_type": "markdown",
   "metadata": {},
   "source": [
    "<div class=\"alert alert-block alert-info\">\n",
    "    \n",
    "Let's practice using R to analyze some data using data manipulation and visualizations. We will use publicly-available data ([GSE166925](https://www.ncbi.nlm.nih.gov/geo/query/acc.cgi?acc=GSE166925)) from NCBI GEO with inflammatory bowel disease and colorectal cancer patients.\n",
    " \n",
    "<br><br> \n",
    "RNA-seq data usually comes with two files: \n",
    "<ul>\n",
    "<li> a metadata file with information about the samples (ex: sample ID, disease status, gender, etc.) where each row represents a sample and columns contain the various information </li>\n",
    "<li> a gene expression file with the gene expression information for each sample where the rows represent the genes and the columns represent the samples </li>\n",
    "</ul>\n",
    "</div>"
   ]
  },
  {
   "cell_type": "markdown",
   "metadata": {},
   "source": [
    "### Libraries\n",
    "Every time you load a library you're adding a new environment to R. The library specific functions become available because R searches all environments for your function call. Sometimes you override an existing function by loading a new library. You can reference the package-specific function via the package specifier.\n",
    "\n",
    "Note: You can also suppress the messages printed when loading a library using [`suppressPackageStartupMessages()`](https://www.geeksforgeeks.org/how-to-disable-messages-when-loading-a-package-in-r/). "
   ]
  },
  {
   "cell_type": "markdown",
   "metadata": {},
   "source": [
    "One of the benefits of using libraries is you don't need to rewrite code that already exists! We can use the `getGEO()` function from the `GEOquery` library to automatically get the data from GEO instead of manually trying to get the sample information. The code on how the files were generated is in the solutions notebook.\n",
    "\n",
    "The code to download this datatset is in the SOLUTIONS file."
   ]
  },
  {
   "cell_type": "markdown",
   "metadata": {},
   "source": [
    "<div class=\"alert alert-block alert-success\">\n",
    "\n",
    "<p>We now have both the metadata and gene expression files ready to analyze.</p>\n",
    "\n",
    "</div>"
   ]
  },
  {
   "cell_type": "markdown",
   "metadata": {},
   "source": [
    "### Data Manipulation\n",
    "We need to format the data in a way that we can use for later analyses/visualizations."
   ]
  },
  {
   "cell_type": "markdown",
   "metadata": {},
   "source": [
    "Let's read in the sample metadata table that was saved to GSE166925-meta.tsv (file location: `~/module-1-programming/data/GSE166925-meta.tsv`) into a `meta` dataframe object. We can use the [`read.table()`](https://www.rdocumentation.org/packages/utils/versions/3.6.2/topics/read.table) function to generate dataframes from files."
   ]
  },
  {
   "cell_type": "code",
   "execution_count": null,
   "metadata": {},
   "outputs": [],
   "source": [
    "meta <- read.table('FILE_NAME')\n",
    "head(meta)"
   ]
  },
  {
   "cell_type": "markdown",
   "metadata": {},
   "source": [
    "Let's also use the title column as the index instead of the GSM IDs using `rownames()`.\n",
    "\n",
    "*Hint: Use the $ to access the title column*"
   ]
  },
  {
   "cell_type": "code",
   "execution_count": null,
   "metadata": {},
   "outputs": [],
   "source": [
    "rownames(meta) <- \n",
    "head(meta)"
   ]
  },
  {
   "cell_type": "markdown",
   "metadata": {},
   "source": [
    "Now let's read in the gene expression data table from the file GSE166925_salmon.genes.tpms.txt.gz into an `expr` dataframe. (file location: `~/public/module-1-programming/data/GSE166925_salmon.genes.tpms.txt.gz`)"
   ]
  },
  {
   "cell_type": "code",
   "execution_count": null,
   "metadata": {
    "scrolled": true
   },
   "outputs": [],
   "source": [
    "expr <- read.table('FILENAME',header=TRUE)\n",
    "head(expr)"
   ]
  },
  {
   "cell_type": "markdown",
   "metadata": {},
   "source": [
    "We'll review this more in the RNA-seq module but when looking at gene expression data, we usually use the log normalized expression for analysis. The file provided already has normalized data (TPM in given in the filename), so we can take the log using `lapply()`.\n",
    "\n",
    "*Hint: We only want to take the log of the data, not the gene names*"
   ]
  },
  {
   "cell_type": "code",
   "execution_count": null,
   "metadata": {},
   "outputs": [],
   "source": [
    "expr[-1] <- lapply(DATA, FUNCTION)\n",
    "head(expr)"
   ]
  },
  {
   "cell_type": "markdown",
   "metadata": {},
   "source": [
    "The provided file only has the gene IDs (ENSG IDs) but it's easier to use the gene names/symbols, so let's find a library that can add the gene names."
   ]
  },
  {
   "cell_type": "code",
   "execution_count": null,
   "metadata": {
    "scrolled": true
   },
   "outputs": [],
   "source": [
    "suppressPackageStartupMessages(library(EnsDb.Hsapiens.v79))\n",
    "\n",
    "gene_keys <- GENE_COLUMN\n",
    "\n",
    "geneIDs <- ensembldb::select(EnsDb.Hsapiens.v79, \n",
    "                             keys= gene_keys, \n",
    "                             keytype = \"GENEID\", \n",
    "                             columns = c(\"GENEID\",\"SYMBOL\"))\n",
    "head(geneIDs)"
   ]
  },
  {
   "cell_type": "markdown",
   "metadata": {},
   "source": [
    "This created a new dataframe `geneIDs` with matching ENSG IDs and gene names. To get the gene names into our `expr` dataframe, we can use the `merge()` function. \n",
    "\n",
    "The [`merge()`](https://www.rdocumentation.org/packages/base/versions/3.6.2/topics/merge) function allows you to merge two dataframes by specifying columns that are matching. \n",
    "\n",
    "In the example of our two dataframes, the 'gene_id' column in the `expr` dataframe and the 'GENEID' column in the `geneIDs` dataframes both contain the ENSG IDs, so we can merge on those columns and create a new dataframe `expr2` which has the gene names and gene expression."
   ]
  },
  {
   "cell_type": "code",
   "execution_count": null,
   "metadata": {},
   "outputs": [],
   "source": [
    "expr2 <- merge(DATAFRAME1, DATAFRAME2, by.x='COLUMN', by.y='COLUMN')\n",
    "head(expr2)"
   ]
  },
  {
   "cell_type": "markdown",
   "metadata": {},
   "source": [
    "To make the `expr2` dataframe match the format of the `meta` dataframe (rows with samples), we can use the `t()` function which transposes the data, essentially switching the rows and columns.\n",
    "\n",
    "First, let's remove the \"GENEID\" column from `expr2`."
   ]
  },
  {
   "cell_type": "code",
   "execution_count": null,
   "metadata": {},
   "outputs": [],
   "source": [
    "expr2 <- expr2\n",
    "head(expr2)"
   ]
  },
  {
   "cell_type": "markdown",
   "metadata": {},
   "source": [
    "Now let's transpose the `expr2` dataframe.\n",
    "\n",
    "*Hint: Use `t()` to transpose the dataframe then cast it using `data.frame()`."
   ]
  },
  {
   "cell_type": "code",
   "execution_count": null,
   "metadata": {},
   "outputs": [],
   "source": [
    "expr2 <- \n",
    "head(expr2)"
   ]
  },
  {
   "cell_type": "markdown",
   "metadata": {},
   "source": [
    "Set the column names using `colnames()` on the first row then remove it."
   ]
  },
  {
   "cell_type": "code",
   "execution_count": null,
   "metadata": {},
   "outputs": [],
   "source": [
    "colnames(expr2) <- \n",
    "expr2 <- expr2\n",
    "expr2"
   ]
  },
  {
   "cell_type": "markdown",
   "metadata": {},
   "source": [
    "We can now merge the `meta` and `expr2` dataframes so we have all the information in the same dataframe."
   ]
  },
  {
   "cell_type": "code",
   "execution_count": null,
   "metadata": {},
   "outputs": [],
   "source": [
    "merged_data <- merge(DATAFRAME1, DATAFRAME2, by.x='COLUMN', by.y='COLUMN')\n",
    "head(merged_data)"
   ]
  },
  {
   "cell_type": "markdown",
   "metadata": {},
   "source": [
    "### Visualizations using Basic Plots\n",
    "Let's explore the sample metadata by creating some plots using the `meta` dataframe.\n",
    "\n",
    "Let's first look at the distribution of patient ages in our dataset.\n",
    "\n",
    "*Hint: use `colnames(meta)` to see the available data columns*"
   ]
  },
  {
   "cell_type": "markdown",
   "metadata": {},
   "source": [
    "**Histograms:**"
   ]
  },
  {
   "cell_type": "markdown",
   "metadata": {},
   "source": [
    "[`hist()`](https://www.datamentor.io/r-programming/histogram/) : generates a histogram"
   ]
  },
  {
   "cell_type": "code",
   "execution_count": null,
   "metadata": {},
   "outputs": [],
   "source": [
    "hist()"
   ]
  },
  {
   "cell_type": "markdown",
   "metadata": {},
   "source": [
    "Next, generate a bar plot using [`barplot()`](https://www.statmethods.net/graphs/bar.html) of the gender. \n",
    "\n",
    "The input for `barplot()` is a table of counts for each condition, not a list of the conditions. \n",
    "\n",
    "Ex: instead of a list/vector with \"female\", \"female\", \"female\", \"male\", we need to use the [`table()`](https://www.statology.org/table-function-in-r/) function to get the counts, female: 3 and male: 1."
   ]
  },
  {
   "cell_type": "code",
   "execution_count": null,
   "metadata": {},
   "outputs": [],
   "source": [
    "gender_table <- table()\n",
    "gender_table"
   ]
  },
  {
   "cell_type": "code",
   "execution_count": null,
   "metadata": {},
   "outputs": [],
   "source": [
    "barplot(gender_table)"
   ]
  },
  {
   "cell_type": "markdown",
   "metadata": {},
   "source": [
    "<div class=\"alert alert-block alert-info\">\n",
    "    <h3>R Practice for basic visualizations: barplot</h3><br>\n",
    "    \n",
    "<p>\n",
    "    Generate a stacked bar plot using <code>barplot()</code> of the disease and inflammation status. The x-axis should be divided by disease, and each disease will be subdivided into inflamed/uninflamed.\n",
    "    \n",
    "Hints:\n",
    "- You can look here for [examples]((https://www.statmethods.net/graphs/bar.html))\n",
    "- Generate the counts table with disease and inflammation status\n",
    "- You can use the `beside=` parameter when calling `barplot()` so the groups aren't stacked on top of each other\n",
    "- Use the `legend=` parameter to include the legend in the plot\n",
    "- You can also add title (`main=`), x-axis label (`xlab=`), y-axis label (`ylab=`), colors (`col=`)\n",
    "</p>\n",
    "    \n",
    "\n",
    "</div>"
   ]
  },
  {
   "cell_type": "code",
   "execution_count": null,
   "metadata": {},
   "outputs": [],
   "source": []
  },
  {
   "cell_type": "markdown",
   "metadata": {},
   "source": [
    "**Scatter plots:**\n",
    "\n",
    "Let's make a scatter plot for the first two genes in our `expr2` data frame.\n",
    "\n",
    "[`plot()`](https://www.w3schools.com/r/r_graph_plot.asp) : general function that creates various plots depending on the input. We can input two vectors to generate a scatter plot"
   ]
  },
  {
   "cell_type": "code",
   "execution_count": null,
   "metadata": {},
   "outputs": [],
   "source": [
    "x1 <- expr2[]\n",
    "x2 <- expr2[]\n",
    "\n",
    "plot()"
   ]
  },
  {
   "cell_type": "markdown",
   "metadata": {},
   "source": [
    "We can add a title to our plot with the genes by using [`paste()`](https://www.digitalocean.com/community/tutorials/paste-in-r). `paste()` allows you to combine variables and/or strings into a single string. "
   ]
  },
  {
   "cell_type": "code",
   "execution_count": null,
   "metadata": {},
   "outputs": [],
   "source": [
    "title = paste()"
   ]
  },
  {
   "cell_type": "code",
   "execution_count": null,
   "metadata": {},
   "outputs": [],
   "source": [
    "x1 <- expr2[,1]\n",
    "x2 <- expr2[,2]\n",
    "\n",
    "x_gene <- names(expr2[1])\n",
    "y_gene <- names(expr2[2])\n",
    "\n",
    "plot(x1, x2, xlab=, ylab=, main=title)"
   ]
  },
  {
   "cell_type": "markdown",
   "metadata": {},
   "source": [
    "We can also plot data using gene names. Let's plot FGR and GCLC. "
   ]
  },
  {
   "cell_type": "code",
   "execution_count": null,
   "metadata": {},
   "outputs": [],
   "source": [
    "x1 <- \n",
    "x2 <- \n",
    "\n",
    "plot(,, xlab=, ylab=,main=)"
   ]
  },
  {
   "cell_type": "markdown",
   "metadata": {},
   "source": [
    "**Boxplots**\n",
    "\n",
    "We can also compare the expression of certain genes between certain groups using boxplots. \n",
    "\n",
    "[`boxplot()`](https://www.tutorialspoint.com/r/r_boxplots.htm) : generates a boxplot\n",
    "\n",
    "Use `boxplot()` to plot the TYK2 gene expression by disease."
   ]
  },
  {
   "cell_type": "code",
   "execution_count": null,
   "metadata": {},
   "outputs": [],
   "source": [
    "boxplot(COLUMN1 ~ COLUMN2, DATAFRAME)"
   ]
  },
  {
   "cell_type": "markdown",
   "metadata": {},
   "source": [
    "<div class=\"alert alert-block alert-info\">\n",
    "    <h3>R Practice for basic visualizations: boxplot</h3><br>\n",
    "    <p>Generate a boxplot comparing STAT3 between Control vs CD vs UC samples only\n",
    "    \n",
    "Hints:\n",
    "- You can look here for [examples](https://www.statmethods.net/graphs/boxplot.html) \n",
    "- Look at the [`subset=`](https://stackoverflow.com/questions/38908230/how-do-i-subset-a-box-plots-in-r) parameter in boxplot() which uses the format `dataframe$column %in% c(variable1, variable2)`\n",
    "- Can also add title, x and y labels, colors\n",
    "   </p>\n",
    "</div>"
   ]
  },
  {
   "cell_type": "code",
   "execution_count": null,
   "metadata": {},
   "outputs": [],
   "source": []
  },
  {
   "cell_type": "markdown",
   "metadata": {},
   "source": [
    "<div class=\"alert alert-block alert-success\">\n",
    "\n",
    "<p>You should have 3 boxes for CD, Control and UC showing the expression of STAT3. </p>\n",
    "\n",
    "</div>"
   ]
  },
  {
   "cell_type": "markdown",
   "metadata": {},
   "source": [
    "### Visualizations using ggplot"
   ]
  },
  {
   "cell_type": "code",
   "execution_count": null,
   "metadata": {},
   "outputs": [],
   "source": [
    "library('ggplot2')"
   ]
  },
  {
   "cell_type": "markdown",
   "metadata": {},
   "source": [
    "[ggplot2](https://datacarpentry.org/R-ecology-lesson/04-visualization-ggplot2.html) works primarily with dataframes. We have to supply ggplot with a dataframe. As we go through ggplot, a key thing to notice is how the plot can continually be enhaanced by adding layers and themes (generally indicated by a ```+``` sign and a following statement) to an existing plot. \n",
    "\n",
    "Here is a ggplot data visualization cheat sheet for your own reference: https://github.com/rstudio/cheatsheets/blob/main/data-visualization-2.1.pdf"
   ]
  },
  {
   "cell_type": "markdown",
   "metadata": {},
   "source": [
    "Now let's initialize a basic ggplot with our `merged_data` data frame, using the TYK2 and STAT3 columns of data. The aes() function is what we will use to specify the X and Y axes"
   ]
  },
  {
   "cell_type": "code",
   "execution_count": null,
   "metadata": {},
   "outputs": [],
   "source": [
    "ggplot(DATAFRAME, aes(x=, y=))"
   ]
  },
  {
   "cell_type": "markdown",
   "metadata": {},
   "source": [
    "Do you see a blank ggplot? If so, don't worry, you did this step correctly. While we have x and y labels that match the columns we initialized the plot with, we don't see any plotted data. This is because ggplot does not make assumptions about the plot you are meaning to draw. Initializing the ggplot only tells ggplot what dataframe and what x and y columns from the dataframe should be used.\n",
    "\n",
    "Now let's make a scatterplot. We will do this by adding on a layer using ```geom_point()```."
   ]
  },
  {
   "cell_type": "code",
   "execution_count": null,
   "metadata": {},
   "outputs": [],
   "source": [
    "ggplot(merged_data, aes(x=TYK2, y=STAT3)) + \n",
    "    geom_point()"
   ]
  },
  {
   "cell_type": "markdown",
   "metadata": {},
   "source": [
    "From here, we can add on a smoothing layer using the method \"lm\" to draw a line of best fit using `geom_smooth(method='lm')`."
   ]
  },
  {
   "cell_type": "code",
   "execution_count": null,
   "metadata": {},
   "outputs": [],
   "source": [
    "ggplot(merged_data, aes(x=TYK2, y=STAT3)) +\n",
    "    geom_point() +\n",
    "    geom_smooth(method='lm')"
   ]
  },
  {
   "cell_type": "markdown",
   "metadata": {},
   "source": [
    "We can also adjust the x and y limits using `xlim(c(x,y))` and `ylim(c(x,y))`."
   ]
  },
  {
   "cell_type": "code",
   "execution_count": null,
   "metadata": {},
   "outputs": [],
   "source": [
    "ggplot(merged_data, aes(x=TYK2, y=STAT3)) + \n",
    "    geom_point() + \n",
    "    geom_smooth(method='lm') + \n",
    "    xlim(c(0, 5)) + \n",
    "    ylim(c(0, 5))"
   ]
  },
  {
   "cell_type": "markdown",
   "metadata": {},
   "source": [
    "<div class=\"alert alert-block alert-info\">\n",
    "    <h3>R Practice for ggplot</h3><br>\n",
    "    \n",
    "Generate a box plot like we did before (STAT3 expression for Control, CD, UC) but use ggplot this time (`geom_boxplot()`). \n",
    "<br>\n",
    "\n",
    "You can look here for [examples](http://www.sthda.com/english/wiki/ggplot2-box-plot-quick-start-guide-r-software-and-data-visualization)\n",
    "    \n",
    "<br>\n",
    "<p>Suggestions to include:</p>  \n",
    "<ul>\n",
    "<li>Ordering the box plots (Control, CD, UC)</li>\n",
    "    <li>Labels for title, x and y axis (<code>labs()</code>)</li>\n",
    "<li>Colors for each disease group</li>\n",
    "    <li>Add points for the samples (look at <code>geom_point()</code> or <code>geom_jitter()</code>)</li>\n",
    "<li>Font size</li>\n",
    "<li>ggplot theme</li>\n",
    "    </ul>\n",
    "\n",
    "</div>"
   ]
  },
  {
   "cell_type": "code",
   "execution_count": null,
   "metadata": {},
   "outputs": [],
   "source": []
  },
  {
   "cell_type": "markdown",
   "metadata": {},
   "source": [
    "<div class=\"alert alert-block alert-success\">\n",
    "\n",
    "You should have three boxes showing the expression of STAT3 for Control, Disease and UC.\n",
    "    \n",
    "</div>"
   ]
  },
  {
   "cell_type": "markdown",
   "metadata": {},
   "source": [
    "### [Pheatmap](https://www.rdocumentation.org/packages/COMPASS/versions/1.10.2/topics/pheatmap)\n",
    "Pheatmap enables you to draw clustered heatmaps, where you can control more of the graphical parameters."
   ]
  },
  {
   "cell_type": "code",
   "execution_count": null,
   "metadata": {},
   "outputs": [],
   "source": [
    "library(pheatmap)"
   ]
  },
  {
   "cell_type": "markdown",
   "metadata": {},
   "source": [
    "Let's see how the top genes identified in this [meta-analysis paper](https://www.ncbi.nlm.nih.gov/pmc/articles/PMC8440637/) perform in our dataset.\n",
    "First, read in the file `data/PMC8440637_top_genes.txt` into a dataframe `gene_table` so we can see the top 10 up- and top 10 down-regulated genes from this paper."
   ]
  },
  {
   "cell_type": "code",
   "execution_count": null,
   "metadata": {
    "scrolled": true
   },
   "outputs": [],
   "source": [
    "# Get list of top genes from file\n",
    "gene_table <- read.table('FILE',header=TRUE)\n",
    "genes <- as.vector()\n",
    "genes"
   ]
  },
  {
   "cell_type": "markdown",
   "metadata": {},
   "source": [
    "Now let's create a new data frame `data` by getting the expression for these genes from the `expr2` data frame.\n",
    "\n",
    "The pheatmap function typically has the genes as rows and samples as columns, so let's also use `t()` and `data.frame()` to transpose our dataframe into the correct format."
   ]
  },
  {
   "cell_type": "code",
   "execution_count": null,
   "metadata": {
    "scrolled": true
   },
   "outputs": [],
   "source": [
    "data <- data.frame(t(expr2[,genes]))\n",
    "head(data)"
   ]
  },
  {
   "cell_type": "markdown",
   "metadata": {},
   "source": [
    "Plot the gene expression using `pheatmap()`"
   ]
  },
  {
   "cell_type": "code",
   "execution_count": null,
   "metadata": {},
   "outputs": [],
   "source": [
    "pheatmap(data)"
   ]
  },
  {
   "cell_type": "markdown",
   "metadata": {},
   "source": [
    "Let's increase the size so the heatmap isn't compressed using `options(repr.plot.width = #, repr.plot.height = #)`."
   ]
  },
  {
   "cell_type": "code",
   "execution_count": null,
   "metadata": {},
   "outputs": [],
   "source": [
    "options(repr.plot.width = 14, repr.plot.height = 8)\n",
    "pheatmap(data)"
   ]
  },
  {
   "cell_type": "markdown",
   "metadata": {},
   "source": [
    "<div class=\"alert alert-block alert-info\">\n",
    "    <h3>R Practice for pheatmap</h3><br>\n",
    "    <p>Let's change some of the parameters so we can try to explain what we're seeing with the data.</p>\n",
    "<br>\n",
    "    \n",
    "You can look here for [examples](https://davetang.org/muse/2018/05/15/making-a-heatmap-in-r-with-the-pheatmap-package/)\n",
    "    \n",
    "<ul>\n",
    "<li>Subset the samples so you're only showing the Control, CD and UC samples</li>\n",
    "<li>Add annotations to the samples using the meta data frame (try adding one or more of the columns to see if any of the characteristics describe the change in gene expression for the samples)</li>\n",
    "<li>Add annotations to the genes to show whether they were classified as up or down regulated (Hint: look in the file for the top genes)</li>\n",
    "<li>Can also change some of the aesthetics</li>\n",
    "</ul>\n",
    "</div>"
   ]
  },
  {
   "cell_type": "markdown",
   "metadata": {},
   "source": [
    "1. Create a new dataframe `sample_annotations` with only the Control, CD and UC samples from `meta`\n",
    "\n",
    "*Hint: use this format `dataframe$column %in% c(variable1, variable2)`*"
   ]
  },
  {
   "cell_type": "code",
   "execution_count": null,
   "metadata": {},
   "outputs": [],
   "source": []
  },
  {
   "cell_type": "markdown",
   "metadata": {},
   "source": [
    "2. Create a new dataframe `data2` with only the Control, CD and UC samples from `data` \n",
    "\n",
    "*Hint: get a list of sample IDs for Control, CD and UC and use those sample IDs to filter `data`*"
   ]
  },
  {
   "cell_type": "code",
   "execution_count": null,
   "metadata": {},
   "outputs": [],
   "source": []
  },
  {
   "cell_type": "markdown",
   "metadata": {},
   "source": [
    "3. Create a new dataframe `gene_annotations` with the regulation information from the `gene_table` dataframe. \n",
    "\n",
    "Hints:\n",
    "- Subset `gene_table` so it only has the Symbol and Regulation columns\n",
    "- Change the rownames to the Symbol using `rownames(gene_annotations) <-`\n",
    "- Remove the Symbol column after setting the rownames\n",
    "\n",
    "*The resulting dataframe should have the genes as the rownames and one column for Regulation with up/down*"
   ]
  },
  {
   "cell_type": "code",
   "execution_count": null,
   "metadata": {},
   "outputs": [],
   "source": []
  },
  {
   "cell_type": "markdown",
   "metadata": {},
   "source": [
    "4. Plot the data using `pheatmap()`. \n",
    "\n",
    "Set the row (gene) and column (sample) annotations using the parameters `annotation_row=` and `annotation_col=`. \n",
    "\n",
    "For the sample annotations, try different subsets of the columns to see which of the sample metadata best explains the heatmap. Ex: you can try just gender, gender and disease, or other combinations."
   ]
  },
  {
   "cell_type": "code",
   "execution_count": null,
   "metadata": {},
   "outputs": [],
   "source": []
  },
  {
   "cell_type": "markdown",
   "metadata": {},
   "source": [
    "<div class=\"alert alert-block alert-warning\">\n",
    "<strong>Question:</strong> What results did you find from your heatmap? Do the results support the findings from the meta-analysis done in the paper that these are top up- and down-regulated genes in IBD?\n",
    "</div>"
   ]
  },
  {
   "cell_type": "markdown",
   "metadata": {},
   "source": [
    "*Type your findings here*"
   ]
  },
  {
   "cell_type": "markdown",
   "metadata": {},
   "source": [
    "### Session Info"
   ]
  },
  {
   "cell_type": "code",
   "execution_count": null,
   "metadata": {},
   "outputs": [],
   "source": [
    "sessionInfo()"
   ]
  }
 ],
 "metadata": {
  "kernelspec": {
   "display_name": "R",
   "language": "R",
   "name": "ir"
  },
  "language_info": {
   "codemirror_mode": "r",
   "file_extension": ".r",
   "mimetype": "text/x-r-source",
   "name": "R",
   "pygments_lexer": "r",
   "version": "4.2.2"
  }
 },
 "nbformat": 4,
 "nbformat_minor": 4
}
