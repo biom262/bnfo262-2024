{
 "cells": [
  {
   "cell_type": "markdown",
   "id": "2a6e729b-151c-467f-82e4-6d65ccd560e4",
   "metadata": {},
   "source": [
    "# DESeq2 with Salmon and STAR"
   ]
  },
  {
   "cell_type": "markdown",
   "id": "bc550c42-59a0-4ecc-8c86-2181f40424d6",
   "metadata": {},
   "source": [
    "[Resources] (http://bioconductor.org/packages/devel/bioc/vignettes/DESeq2/inst/doc/DESeq2.html)"
   ]
  },
  {
   "cell_type": "code",
   "execution_count": null,
   "id": "b8288b0c",
   "metadata": {},
   "outputs": [],
   "source": [
    "options(stringsAsFactors = FALSE)"
   ]
  },
  {
   "cell_type": "code",
   "execution_count": null,
   "id": "7ed21dfe-b490-4d4f-8ff1-1401fa2fb602",
   "metadata": {},
   "outputs": [],
   "source": [
    "library(ggplot2)\n",
    "library(data.table)\n",
    "library(limma)\n",
    "library(DESeq2)\n",
    "library(RColorBrewer)\n",
    "library(tximport)\n",
    "library(readr)\n",
    "library(tximportData)\n",
    "library(tximeta)\n",
    "library(GenomicFeatures)\n",
    "library(apeglm)\n",
    "library(gplots)"
   ]
  },
  {
   "cell_type": "markdown",
   "id": "de15c5be-5db8-4eec-8293-977b7df9085e",
   "metadata": {},
   "source": [
    "## Create a symbolic link to data"
   ]
  },
  {
   "cell_type": "code",
   "execution_count": null,
   "id": "3031ade1-908c-45f5-a2ae-69f04208e2c2",
   "metadata": {},
   "outputs": [],
   "source": [
    "system(\"ln -sfn ~/public/rnaseq/Day2_materials/* ~/module-3-rnaseq/Day2_materials/\")"
   ]
  },
  {
   "cell_type": "markdown",
   "id": "ee65bff1-218d-464c-b843-f7e73150130d",
   "metadata": {},
   "source": [
    "## Questions:\n",
    "1) We know that Salmon is faster than STAR, but is it better?\n",
    "2) How similar are Salmon and STAR in terms of differentially expressed genes?\n",
    "3) How many replicates do we need?"
   ]
  },
  {
   "cell_type": "markdown",
   "id": "dc2a44e5-1b12-49e8-b8eb-07d16752c67a",
   "metadata": {},
   "source": [
    "**We have generated the quant.sh files from Salmon using the following commands:**\n",
    "1) Generate a Salmon index (this takes about 8 minutes):\n",
    "\n",
    "*/path_to/_where_you/_installed_salmon/bin/salmon index -t gencode.v44.transcripts.fa -i gencode_index --gencode*\n",
    "\n",
    "2) Quant the samples:\n",
    "\n",
    "*for i in *_R1.fastq.gz; do /path_to/_where_you/_installed_salmon/bin/salmon quant -i /path_to/_where_you/_output_your_index/gencode_index/ -l A -1 $i -2 ${i%_R1.fastq.gz}_R2.fastq.gz -p 13 --gcBias -o salmon_quant_output/${i%_R1.fastq.gz}_quant*\n",
    "\n",
    "*done*"
   ]
  },
  {
   "cell_type": "markdown",
   "id": "a65296e3-8699-4af9-844e-511010350dd0",
   "metadata": {},
   "source": [
    "**How long did the quant take?**\n",
    "\n",
    "Use a timer program in your script or if using a slurm system check by using (sacct -l -j <myid>). Alternatively, check the time stamp in the salmon_quant.log"
   ]
  },
  {
   "cell_type": "markdown",
   "id": "99948791-4d49-4352-ac03-04f332cf8cee",
   "metadata": {},
   "source": [
    "First recorded time stamp: 2024-01-16 23:41:08.116\n",
    "\n",
    "\n",
    "Last recorded time stamp: 2024-01-17 02:10:14.636\n",
    "\n",
    "\n",
    "- took about two and a half hours for 20 samples or roughly 7.5 minutes per sample (run using 13 threads mem=96GB)"
   ]
  },
  {
   "cell_type": "markdown",
   "id": "62f537be-90e1-472f-81e0-f4c4a9ab2136",
   "metadata": {},
   "source": [
    "**What does a quant.sh file look like?**"
   ]
  },
  {
   "cell_type": "markdown",
   "id": "950c417f-096f-4a88-9291-d7db5e41c7fa",
   "metadata": {},
   "source": [
    "Name\tLength\tEffectiveLength\tTPM\tNumReads\n",
    "\n",
    "ENST00000456328.2\t1657\t1519.063\t0.135470\t15.498\n",
    "\n",
    "ENST00000450305.2\t632\t393.000\t0.000000\t0.000\n",
    "\n",
    "ENST00000488147.1\t1351\t1153.174\t2.780315\t241.453\n",
    "\n",
    "ENST00000619216.1\t68\t68.000\t0.000000\t0.000\n",
    "\n",
    "ENST00000473358.1\t712\t472.000\t0.000000\t0.000\n",
    "\n",
    "ENST00000469289.1\t535\t297.000\t0.000000\t0.000\n",
    "\n",
    "ENST00000607096.1\t138\t3.000\t0.000000\t0.000\n",
    "\n",
    "ENST00000417324.1\t1187\t947.000\t0.000000\t0.000"
   ]
  },
  {
   "cell_type": "markdown",
   "id": "ad0f6050-3195-4fab-8982-a582eaaec201",
   "metadata": {},
   "source": [
    "Remember that these are pseudo-counts per transcript and we want counts per gene..."
   ]
  },
  {
   "cell_type": "markdown",
   "id": "ea835682-ad42-4e6e-b005-557279422cad",
   "metadata": {
    "tags": []
   },
   "source": [
    "# Make a directory to store output"
   ]
  },
  {
   "cell_type": "code",
   "execution_count": null,
   "id": "80037318-da49-4965-8fca-4a69d657015a",
   "metadata": {
    "tags": []
   },
   "outputs": [],
   "source": [
    "system(\"mkdir ~/module-3-rnaseq/Day2_materials/output\")"
   ]
  },
  {
   "cell_type": "markdown",
   "id": "2b755256-cbf9-43ef-b190-48d7759d78d2",
   "metadata": {},
   "source": [
    "# Step 1 for Salmon pseudo-count data\n",
    "Use tximport to import and combine the quant.sh files created for each sample"
   ]
  },
  {
   "cell_type": "code",
   "execution_count": null,
   "id": "d6443b54-2e34-4100-b9a6-58784a11b062",
   "metadata": {},
   "outputs": [],
   "source": [
    "#To use DESeq2 we need to first have a sample table that tells DESeq2 what samples we are interested in and an covariates we want to add to the GLM.\n",
    "#First read in the sample table\n",
    "samples <- read.table(\"./data/design_012424.csv\", sep=',', header=TRUE)"
   ]
  },
  {
   "cell_type": "code",
   "execution_count": null,
   "id": "916a080f-f9a2-4e3d-b257-918756f7e295",
   "metadata": {},
   "outputs": [],
   "source": [
    "#Take a look at the samples table\n",
    "samples"
   ]
  },
  {
   "cell_type": "markdown",
   "id": "7557c6d4-f3c3-4a4f-a7a4-6f5e80388602",
   "metadata": {},
   "source": [
    "Check to make sure everything is there..."
   ]
  },
  {
   "cell_type": "code",
   "execution_count": null,
   "id": "26c735bf-8067-41a8-9f41-dbdcb2f11a73",
   "metadata": {},
   "outputs": [],
   "source": [
    "files <- file.path(\"./salmon\", samples$sample, \"quant.sf\")\n",
    "all(file.exists(files))"
   ]
  },
  {
   "cell_type": "markdown",
   "id": "68c4946d-db3d-4043-a1cd-c537568d2ef4",
   "metadata": {},
   "source": [
    "Now we need to make the tx2gene file so that the transcripts can be associated with gene IDs for gene-level summarization. For this, we need to create a transcript to gene file that associates each transcript with its gene"
   ]
  },
  {
   "cell_type": "code",
   "execution_count": null,
   "id": "e628b71e-2804-4c1e-848d-ce39eee04d8a",
   "metadata": {},
   "outputs": [],
   "source": [
    "gtfPath <- file.path(\"./data/\", \"gencode.v44.annotation.gtf.gz\")\n",
    "txdb <- makeTxDbFromGFF(file=gtfPath)\n",
    "k <- keys(txdb, keytype = \"TXNAME\")\n",
    "tx2gene <- select(txdb, k, \"GENEID\", \"TXNAME\")"
   ]
  },
  {
   "cell_type": "code",
   "execution_count": null,
   "id": "84e39ae6-9add-4576-a5b2-71eddf78d6ed",
   "metadata": {},
   "outputs": [],
   "source": [
    "names(files) <- paste0(samples$sample)\n",
    "txi.salmon <- tximport(files, type = \"salmon\", tx2gene = tx2gene)\n",
    "head(txi.salmon$counts)"
   ]
  },
  {
   "cell_type": "markdown",
   "id": "e521c7da-01e3-4b65-98d9-ffb08590800d",
   "metadata": {},
   "source": [
    "Notice that we now no longer have ENST#'s but ENSG#'s. If we want to convert these to gene symbols we can do this using BioMart"
   ]
  },
  {
   "cell_type": "code",
   "execution_count": null,
   "id": "d0c81fae-ed04-490c-9d41-05e3bf6a23fd",
   "metadata": {},
   "outputs": [],
   "source": [
    "write.table(txi.salmon$counts, \"./output/salmon_counts.csv\", sep=\",\")"
   ]
  },
  {
   "cell_type": "markdown",
   "id": "0767d8ad-c73b-4df4-8bd7-81b53e5c6856",
   "metadata": {},
   "source": [
    "# Creating DESeq2 object"
   ]
  },
  {
   "cell_type": "markdown",
   "id": "79bb8ac9-e3b8-4d54-81ae-e2304f02b66d",
   "metadata": {},
   "source": [
    "Read in counts file back in:"
   ]
  },
  {
   "cell_type": "code",
   "execution_count": null,
   "id": "efee9c85-3d9a-4a34-8fb2-bdee48a15e8d",
   "metadata": {},
   "outputs": [],
   "source": [
    "counts<-read.csv(\"./output/salmon_counts.csv\",header=TRUE,row.names=1)"
   ]
  },
  {
   "cell_type": "markdown",
   "id": "9e5e3dbd-18bf-4277-86d5-a280496332a3",
   "metadata": {},
   "source": [
    "Take a quick look at it"
   ]
  },
  {
   "cell_type": "code",
   "execution_count": null,
   "id": "19da3992-c023-4158-a6f1-771f53773ed0",
   "metadata": {},
   "outputs": [],
   "source": [
    "head(counts)"
   ]
  },
  {
   "cell_type": "markdown",
   "id": "663ca15c-2a2f-4d54-b339-163c58081cf8",
   "metadata": {},
   "source": [
    "Take a look at how big the count matrix is"
   ]
  },
  {
   "cell_type": "code",
   "execution_count": null,
   "id": "42d2b7b1-48df-4f0d-be39-ab8694dc06fb",
   "metadata": {},
   "outputs": [],
   "source": [
    "print(dim(counts))"
   ]
  },
  {
   "cell_type": "markdown",
   "id": "4c43886d-4159-411b-8067-e427d61ef6cc",
   "metadata": {},
   "source": [
    "**Pre-Filtering**\n",
    "\n",
    "A lot of these genes have no counts and could therefore be filtered out. While it is not necessary to pre-filter low count genes before running the DESeq2 functions, there are two reasons which make pre-filtering useful: by removing rows in which there are very few reads, we reduce the memory size of the dds data object, and we increase the speed of count modeling within DESeq2. It can also improve visualizations, as features with no information for differential expression are not plotted in dispersion plots or MA-plots.\n",
    "\n",
    "Here if we wanted to do some pre-filtering to keep only rows that have a count of at least 10 for a minimal number of samples we would do the below. The count of 10 is a reasonable choice for bulk RNA-seq. A recommendation for the minimal number of samples is to specify the smallest group size, e.g. here there are 3 treated samples. If there are not discrete groups, one can use the minimal number of samples where non-zero counts would be considered interesting. One can also omit this step entirely and just rely on the independent filtering procedures available in results(), either IHW or genefilter."
   ]
  },
  {
   "cell_type": "code",
   "execution_count": null,
   "id": "34d90c4f-a710-4e39-be8d-cdb02fcc1903",
   "metadata": {},
   "outputs": [],
   "source": [
    "#smallestGroupSize <- 3\n",
    "#keep <- rowSums(counts(dds) >= 10) >= smallestGroupSize\n",
    "#dds <- dds[keep,]"
   ]
  },
  {
   "cell_type": "markdown",
   "id": "079cc001-4f48-4a06-a261-ff77422890d2",
   "metadata": {},
   "source": [
    "**Make DESeq2 object: Define counts matrix, groups, and design**\n",
    "- countData: matrix of counts\n",
    "- colData: dataframe with metadata for each sample\n",
    "- design: name of column in colData we want to use as comparators"
   ]
  },
  {
   "cell_type": "markdown",
   "id": "45b61534-9118-4ea0-b5d1-4a46410c0913",
   "metadata": {},
   "source": [
    "**Note about covariates, interactions, and multi-factor designs**\n",
    "DESeq2 can analyze any possible experimental design that can be expressed with fixed effects terms (multiple factors, designs with interactions, designs with continuous variables, splines, and so on are all possible). By adding variables to the design, one can control for additional variation in the counts. For example, if the condition samples are balanced across experimental batches, by including the batch factor to the design, one can increase the sensitivity for finding differences due to condition. We can account for fetal_sex (or any other variable) and get a clearer picture of the differences attributable to the treatment (cell_type in our case). As cell_type is the variable of interest, we put it at the end of the formula. Thus the results function will by default pull the cell_type results unless contrast or name arguments are specified.\n",
    "\n",
    "Most of the questions you have in the future will be having to do with this design formula. Please see the vignette and Google for more information:\n",
    "https://bioconductor.org/packages/release/bioc/vignettes/DESeq2/inst/doc/DESeq2.html#multi-factor-designs\n",
    "https://bioconductor.org/packages/release/bioc/vignettes/DESeq2/inst/doc/DESeq2.html#interactions"
   ]
  },
  {
   "cell_type": "code",
   "execution_count": null,
   "id": "cf46f979-8a18-4e97-a480-9b3fa3eb8b4a",
   "metadata": {},
   "outputs": [],
   "source": [
    "DESeq2CDS = DESeqDataSetFromTximport(txi.salmon, colData=samples, design=~fetal_sex + cell_type)"
   ]
  },
  {
   "cell_type": "markdown",
   "id": "01d2744e-cf3a-4b33-a328-1220f9529e6c",
   "metadata": {},
   "source": [
    "This warning means that R is converting our text to categories."
   ]
  },
  {
   "cell_type": "markdown",
   "id": "be2b2282-7066-41e3-88f3-83cc718d81b2",
   "metadata": {},
   "source": [
    "# Run DESeq2"
   ]
  },
  {
   "cell_type": "code",
   "execution_count": null,
   "id": "ae28b884-d0ea-4191-af6c-98391d82d5a8",
   "metadata": {},
   "outputs": [],
   "source": [
    "#We can now run the differential expression analysis using this one command:\n",
    "dds <- DESeq(DESeq2CDS, parallel = TRUE)"
   ]
  },
  {
   "cell_type": "markdown",
   "id": "30963638-6a0d-45cb-bd56-bed75cbdba54",
   "metadata": {},
   "source": [
    "A very quick and dirty QC is the dispersion plot. This plot is the estimate for the expected dispersion value for genes of a given expression strength. Each black dot is a gene with an associated mean expression level and maximum likelihood estimation (MLE) of the dispersion. This is a good plot to examine to ensure your data is a good fit for the DESeq2 model. You expect your data to generally scatter around the curve, with the dispersion decreasing with increasing mean expression levels. If you see a cloud or different shapes, then you might want to explore your data more to see if you have contamination (mitochondrial, etc.) or outlier samples. "
   ]
  },
  {
   "cell_type": "code",
   "execution_count": null,
   "id": "5421e2ba-c8b0-4ef4-86d7-70c6865b2cb1",
   "metadata": {},
   "outputs": [],
   "source": [
    "plotDispEsts(dds)"
   ]
  },
  {
   "cell_type": "markdown",
   "id": "587a59b8-7fcf-44d4-8bfb-0e80a7ebe354",
   "metadata": {},
   "source": [
    "Let's take a quick look at the differential expression results:"
   ]
  },
  {
   "cell_type": "code",
   "execution_count": null,
   "id": "457417ff-c920-4236-9c7f-a93703621189",
   "metadata": {},
   "outputs": [],
   "source": [
    "res <- results(dds)\n",
    "res"
   ]
  },
  {
   "cell_type": "markdown",
   "id": "3fa54e4b-cd16-48a0-bbc7-a87e46ccfa85",
   "metadata": {},
   "source": [
    "Details about the comparison are printed to the console, directly above the results table. The text, condition treated vs untreated, tells you that the estimates are of the logarithmic fold change log2(EVT 1st/CTB 1st)."
   ]
  },
  {
   "cell_type": "markdown",
   "id": "91e076c1-fcdf-4c26-8460-7c90d9111354",
   "metadata": {},
   "source": [
    "With no additional arguments to results, the log2 fold change and Wald test p value will be for the last variable in the design formula, and if this is a factor, the comparison will be **the last level of this variable over the reference level**. By default, R will choose a reference level for factors based on alphabetical order. Then, if you never tell the DESeq2 functions which level you want to compare against (e.g. which level represents the control group), the comparisons will be based on the alphabetical order of the levels. Normally you will want to explicitly tell results which comparison to make using the contrast argument, or you can explicitly set the factors levels (we won't be going over this). The order of the variables of the design do not matter so long as the user specifies the comparison to build a results table for, using the name or contrast arguments of results."
   ]
  },
  {
   "cell_type": "code",
   "execution_count": null,
   "id": "4fb80ab5-cc7c-409b-86dc-a70e1287f06c",
   "metadata": {},
   "outputs": [],
   "source": [
    "res_test <- results(dds, contrast=c(\"cell_type\",\"CTB_1st\",\"EVT_1st\"))\n",
    "res_test"
   ]
  },
  {
   "cell_type": "markdown",
   "id": "18e83df4-ea78-472d-9d60-4a54a3bfa3ba",
   "metadata": {},
   "source": [
    "The results function contains a number of arguments to customize the results table which is generated. You can read about these arguments by looking up ?results. Note that the results function automatically performs independent filtering based on the mean of normalized counts for each gene, optimizing the number of genes which will have an adjusted p value below a given FDR cutoff, alpha. By default the argument alpha is set to 0.1. If the adjusted p value cutoff will be a value other than 0.1, alpha should be set to that value:"
   ]
  },
  {
   "cell_type": "code",
   "execution_count": null,
   "id": "51b6f2e0-cc4b-43d0-8d3d-99b5133a936d",
   "metadata": {},
   "outputs": [],
   "source": [
    "#Because 0.05 is more generally expcepted we should do:\n",
    "res05 <- results(dds, alpha=0.05,contrast=c(\"cell_type\",\"EVT_1st\",\"CTB_1st\"))\n",
    "summary(res05)"
   ]
  },
  {
   "cell_type": "code",
   "execution_count": null,
   "id": "9d33c3be-4fa8-4944-b75f-fb775318d9fa",
   "metadata": {},
   "outputs": [],
   "source": [
    "#If we want to know how many genes in total were differentially expressed we could do\n",
    "sum(res05$padj < 0.05, na.rm=TRUE)"
   ]
  },
  {
   "cell_type": "markdown",
   "id": "682b661a-838b-44a1-ba5b-f95319a6f60e",
   "metadata": {},
   "source": [
    "# Normalization and Results Exporting"
   ]
  },
  {
   "cell_type": "markdown",
   "id": "bd183b64-bcd7-400e-aceb-afddb42786a3",
   "metadata": {},
   "source": [
    "DESeq2 doesn’t use normalized counts, rather it uses the raw counts and models the normalization inside the Generalized Linear Model (GLM). It does perform normalization as we discussed in class and we can output the normalized data to use in other ways.\n",
    "\n",
    "DESeq2 uses size factors to normalize data and if we would like to see these factors we can use the function [`estimateSizeFactors()`](https://rdrr.io/bioc/DESeq2/man/estimateSizeFactors.html), which \"estimates the size factors using the \"median ratio method\" described by Equation 5 in Anders and Huber (2010)\".\n",
    "\n",
    "We can extract the normalized counts using counts() with the parameter normalized=TRUE."
   ]
  },
  {
   "cell_type": "code",
   "execution_count": null,
   "id": "d9b9845b-32c9-44e9-90b8-c09c789d41eb",
   "metadata": {},
   "outputs": [],
   "source": [
    "normalized_counts_salmon10 <- counts(dds, normalized=TRUE)\n",
    "write.table(normalized_counts_salmon10, file=\"./output/DESeq2normalized_counts_salmon.txt\", sep=\"\\t\", quote=F, col.names=NA)"
   ]
  },
  {
   "cell_type": "markdown",
   "id": "daede0b9-f62d-4183-92bd-61ef845c93ab",
   "metadata": {},
   "source": [
    "We also often want to export our results so to do that we can do:"
   ]
  },
  {
   "cell_type": "code",
   "execution_count": null,
   "id": "5d83ae99-f8a6-4efc-ab0b-bdf5044f71db",
   "metadata": {},
   "outputs": [],
   "source": [
    "#Sort our results file by adjusted p-value\n",
    "res_salmon10 <- res05[order(res05$padj),]\n",
    "\n",
    "#Then merge it with our normalized data table that we output above\n",
    "resdata_salmon10 <- merge(as.data.frame(res_salmon10), as.data.frame(normalized_counts_salmon10), by=\"row.names\", sort=FALSE)\n",
    "write.table(resdata_salmon10,file=\"./output/DESeq2_resultsalpha0_05_salmon10.txt\",sep=\"\\t\")"
   ]
  },
  {
   "cell_type": "markdown",
   "id": "2efd7031-04bd-4d07-981f-7d29129d737f",
   "metadata": {},
   "source": [
    "# QC and exploration of DESeq2 Results"
   ]
  },
  {
   "cell_type": "markdown",
   "id": "59f49f58-7274-4a02-b1d5-9abf093f1192",
   "metadata": {},
   "source": [
    "**MA Plot**\n",
    "\n",
    "In DESeq2, the function plotMA shows the log2 fold changes attributable to a given variable over the mean of normalized counts for all the samples in the DESeqDataSet. Points will be colored blue if the adjusted p value is less than 0.1. Points which fall out of the window are plotted as open triangles pointing either up or down."
   ]
  },
  {
   "cell_type": "code",
   "execution_count": null,
   "id": "12e89cfb-83db-42b5-8847-0076fd3152a9",
   "metadata": {},
   "outputs": [],
   "source": [
    "plotMA(res, ylim=c(-5,9))"
   ]
  },
  {
   "cell_type": "markdown",
   "id": "8acacbc4-70e3-43d5-8a9c-8c3b7e1f7567",
   "metadata": {},
   "source": [
    "It is more useful to visualize the MA-plot for the shrunken log2 fold changes, which remove the noise associated with log2 fold changes from low count genes without requiring arbitrary filtering thresholds."
   ]
  },
  {
   "cell_type": "code",
   "execution_count": null,
   "id": "18c79312-eba6-4e55-b1a2-9a59a5c38b19",
   "metadata": {},
   "outputs": [],
   "source": [
    "resultsNames(dds)"
   ]
  },
  {
   "cell_type": "code",
   "execution_count": null,
   "id": "ccc6e1b0-0511-4993-9a13-4d2b9e0c3c76",
   "metadata": {},
   "outputs": [],
   "source": [
    "#Log fold change shrinkage for visualization and ranking\n",
    "resLFC <- lfcShrink(dds, coef=\"cell_type_EVT_1st_vs_CTB_1st\",type=\"apeglm\")"
   ]
  },
  {
   "cell_type": "code",
   "execution_count": null,
   "id": "4fcd7b59-a7a1-4803-89fb-28c01c69025d",
   "metadata": {},
   "outputs": [],
   "source": [
    "#Now we can plot the MA with these values\n",
    "plotMA(resLFC, ylim=c(-5,9))"
   ]
  },
  {
   "cell_type": "markdown",
   "id": "b74fd676-0d32-4005-9643-2e4eb5e2435c",
   "metadata": {},
   "source": [
    "## PCA Plot\n",
    "Related to the distance matrix is the PCA plot, which shows the samples in the 2D plane spanned by their first two principal components. This type of plot is useful for visualizing the overall effect of experimental covariates and batch effects.\n",
    "\n",
    "We need to first transform the data to better visualize it. To do this we can use either variance stabilizing transformation (vst) or regularized log transformation using `rlog()`. Variance stabilizing transformation which is roughly similar to putting the data on the log2 scale, while also dealing with the sampling variability of low counts. It uses the design formula to calculate the within-group variability (if blind=FALSE) or the across-all-samples variability (if blind=TRUE). It does not use the design to remove variation in the data. It therefore does not remove variation that can be associated with batch or other covariates (nor does DESeq2 have a way to specify which covariates are nuisance and which are of interest).\n",
    "\n",
    "It is possible to visualize the transformed data with batch variation removed, using the removeBatchEffect function from limma. This simply removes any shifts in the log2-scale expression data that can be explained by batch."
   ]
  },
  {
   "cell_type": "code",
   "execution_count": null,
   "id": "9b33b198-93c2-42be-8db8-1007488f983e",
   "metadata": {},
   "outputs": [],
   "source": [
    "vsd <- vst(dds, blind=FALSE)"
   ]
  },
  {
   "cell_type": "code",
   "execution_count": null,
   "id": "26380efe-6519-4727-b584-66156a7e470d",
   "metadata": {},
   "outputs": [],
   "source": [
    "#plot PCA\n",
    "pcaData <- plotPCA(vsd, intgroup = c(\"cell_type\",\"fetal_sex\"), returnData=TRUE)\n",
    "percentVar <- round(100 * attr(pcaData, \"percentVar\"))\n",
    "ggplot(pcaData, aes(PC1, PC2, color=cell_type, shape=fetal_sex)) +\n",
    "  geom_point(size=3) +\n",
    "  xlab(paste0(\"PC1: \",percentVar[1],\"% variance\")) +\n",
    "  ylab(paste0(\"PC2: \",percentVar[2],\"% variance\")) + \n",
    "  coord_fixed()"
   ]
  },
  {
   "cell_type": "markdown",
   "id": "d18e9d3b-bc7c-499c-aea2-b85a237a493e",
   "metadata": {},
   "source": [
    "## Heatmap of sample-to-sample distances\n",
    "\n",
    "A heatmap of this distance matrix gives us an overview over similarities and dissimilarities between samples.\n",
    "\n",
    "The dist() function \"computes and returns the distance matrix computed by using the specified distance measure to compute the distances between the rows of a data matrix\".\n"
   ]
  },
  {
   "cell_type": "code",
   "execution_count": null,
   "id": "4995fd13-9062-494e-80ed-043847cf3b51",
   "metadata": {},
   "outputs": [],
   "source": [
    "#visualize sample distances\n",
    "sampleDists <- dist(t(assay(vsd)))\n",
    "sampleDistMatrix <- as.matrix(sampleDists)\n",
    "head(sampleDistMatrix)"
   ]
  },
  {
   "cell_type": "code",
   "execution_count": null,
   "id": "4847b24d-b664-419b-9d02-485d276b819a",
   "metadata": {},
   "outputs": [],
   "source": [
    "#Plot using heatmap2\n",
    "colours = colorRampPalette(rev(brewer.pal(9, \"Blues\")))(255)\n",
    "heatmap.2(sampleDistMatrix, trace=\"none\", col=colours)"
   ]
  },
  {
   "cell_type": "markdown",
   "id": "63226dce-05e5-47b1-b2c6-f9b8a77835c7",
   "metadata": {},
   "source": [
    "## Volcano plot\n",
    "\n",
    "The volcano plot enables to simultaneously capture the effect size and significance (ordinate) of each tested gene."
   ]
  },
  {
   "cell_type": "code",
   "execution_count": null,
   "id": "3a5fac03-7b3e-4685-becb-0da41f3f5810",
   "metadata": {},
   "outputs": [],
   "source": [
    "#volcano plot\n",
    "#reset par\n",
    "par(mfrow=c(1,1))\n",
    "# Make a basic volcano plot\n",
    "with(res, plot(log2FoldChange, -log10(pvalue), pch=20, main=\"Volcano plot\", xlim=c(-10,10),ylim=c(0,200)))\n",
    "\n",
    "# Add colored points: blue if padj<0.01, red if log2FC>1 and padj<0.05)\n",
    "with(subset(res, padj<.01 ), points(log2FoldChange, -log10(pvalue), pch=20, col=\"blue\"))\n",
    "with(subset(res, padj<.01 & abs(log2FoldChange)>2), points(log2FoldChange, -log10(pvalue), pch=20, col=\"red\"))"
   ]
  },
  {
   "cell_type": "markdown",
   "id": "68e56a13-5fa1-43f8-adbb-e02ccb23eb50",
   "metadata": {},
   "source": [
    "# How many samples do you need?"
   ]
  },
  {
   "cell_type": "markdown",
   "id": "4e9cf907-bbf0-4efd-ac60-044ef8bd1b85",
   "metadata": {},
   "source": [
    "**First Re-run with the salmon output**"
   ]
  },
  {
   "cell_type": "code",
   "execution_count": null,
   "id": "c0b71547-6bca-47b7-8ff9-7b0730c6581c",
   "metadata": {},
   "outputs": [],
   "source": [
    "#I need to read in the design meta-data first as well as the count matix that we exported from salmon\n",
    "design8 = read.csv(\"./data/design_012424_8samples.csv\", header=TRUE)\n",
    "files <- file.path(\"./salmon\", design8$sample, \"quant.sf\")\n",
    "gtfPath <- file.path(\"./data/\", \"gencode.v44.annotation.gtf.gz\")\n",
    "txdb <- makeTxDbFromGFF(file=gtfPath)\n",
    "k <- keys(txdb, keytype = \"TXNAME\")\n",
    "tx2gene <- select(txdb, k, \"GENEID\", \"TXNAME\")\n",
    "names(files) <- paste0(design8$sample)\n",
    "txi.salmon <- tximport(files, type = \"salmon\", tx2gene = tx2gene)"
   ]
  },
  {
   "cell_type": "markdown",
   "id": "ee78b8cc-fab4-468e-b24d-600925216b44",
   "metadata": {},
   "source": [
    "**Now re-run DESeq2**"
   ]
  },
  {
   "cell_type": "code",
   "execution_count": null,
   "id": "04530fed-2d46-4a5e-9ea1-1acb8a604701",
   "metadata": {},
   "outputs": [],
   "source": [
    "DESeq2CDS_s8 = DESeqDataSetFromTximport(txi.salmon, colData=design8, design=~fetal_sex + cell_type)\n",
    "#Run DESeq2\n",
    "dds_s8 <- DESeq(DESeq2CDS_s8, parallel = TRUE)\n",
    "res_s8 <- results(dds_s8, alpha=0.05,contrast=c(\"cell_type\",\"EVT_1st\",\"CTB_1st\"))\n",
    "#How many genes in total are differentially expressed\n",
    "sum(res_s8$padj < 0.05, na.rm=TRUE)"
   ]
  },
  {
   "cell_type": "markdown",
   "id": "19f10f24-5884-460a-aed6-a82c9e45a88e",
   "metadata": {},
   "source": [
    "**Now repeat for 6 samples per group, then 4, and finally 3**"
   ]
  },
  {
   "cell_type": "code",
   "execution_count": null,
   "id": "dc8f55a4-20d3-4c8f-875d-02772d63684f",
   "metadata": {},
   "outputs": [],
   "source": [
    "#I need to read in the design meta-data first as well as the count matix that we exported from salmon\n",
    "design6 = read.csv(\"./data/design_012424_6samples.csv\", header=TRUE)\n",
    "files <- file.path(\"./salmon\", design6$sample, \"quant.sf\")\n",
    "gtfPath <- file.path(\"./data\", \"gencode.v44.annotation.gtf.gz\")\n",
    "txdb <- makeTxDbFromGFF(file=gtfPath)\n",
    "k <- keys(txdb, keytype = \"TXNAME\")\n",
    "tx2gene <- select(txdb, k, \"GENEID\", \"TXNAME\")\n",
    "names(files) <- paste0(design6$sample)\n",
    "txi.salmon <- tximport(files, type = \"salmon\", tx2gene = tx2gene)\n",
    "DESeq2CDS_s6 = DESeqDataSetFromTximport(txi.salmon, colData=design6, design=~fetal_sex + cell_type)\n",
    "#Run DESeq2\n",
    "dds_s6 <- DESeq(DESeq2CDS_s6, parallel = TRUE)\n",
    "res_s6 <- results(dds_s6, alpha=0.05,contrast=c(\"cell_type\",\"EVT_1st\",\"CTB_1st\"))\n",
    "#How many genes in total are differentially expressed\n",
    "sum(res_s6$padj < 0.05, na.rm=TRUE)"
   ]
  },
  {
   "cell_type": "code",
   "execution_count": null,
   "id": "f53c73ed-8cad-4c91-a180-83211c617541",
   "metadata": {},
   "outputs": [],
   "source": [
    "#I need to read in the design meta-data first as well as the count matix that we exported from salmon\n",
    "design4 = read.csv(\"./data/design_012424_4samples.csv\", header=TRUE)\n",
    "files <- file.path(\"./salmon\", design4$sample, \"quant.sf\")\n",
    "gtfPath <- file.path(\"./data\", \"gencode.v44.annotation.gtf.gz\")\n",
    "txdb <- makeTxDbFromGFF(file=gtfPath)\n",
    "k <- keys(txdb, keytype = \"TXNAME\")\n",
    "tx2gene <- select(txdb, k, \"GENEID\", \"TXNAME\")\n",
    "names(files) <- paste0(design4$sample)\n",
    "txi.salmon <- tximport(files, type = \"salmon\", tx2gene = tx2gene)\n",
    "DESeq2CDS_s4 = DESeqDataSetFromTximport(txi.salmon, colData=design4, design=~fetal_sex + cell_type)\n",
    "#Run DESeq2\n",
    "dds_s4 <- DESeq(DESeq2CDS_s4, parallel = TRUE)\n",
    "res_s4 <- results(dds_s4, alpha=0.05,contrast=c(\"cell_type\",\"EVT_1st\",\"CTB_1st\"))\n",
    "#How many genes in total are differentially expressed\n",
    "sum(res_s4$padj < 0.05, na.rm=TRUE)"
   ]
  },
  {
   "cell_type": "code",
   "execution_count": null,
   "id": "76635afb-2b7b-4945-bada-eb64f14e8f77",
   "metadata": {},
   "outputs": [],
   "source": [
    "#I need to read in the design meta-data first as well as the count matix that we exported from salmon\n",
    "design3 = read.csv(\"./data/design_012424_3samples.csv\", header=TRUE)\n",
    "files <- file.path(\"./salmon\", design3$sample, \"quant.sf\")\n",
    "gtfPath <- file.path(\"./data\", \"gencode.v44.annotation.gtf.gz\")\n",
    "txdb <- makeTxDbFromGFF(file=gtfPath)\n",
    "k <- keys(txdb, keytype = \"TXNAME\")\n",
    "tx2gene <- select(txdb, k, \"GENEID\", \"TXNAME\")\n",
    "names(files) <- paste0(design3$sample)\n",
    "txi.salmon <- tximport(files, type = \"salmon\", tx2gene = tx2gene)\n",
    "DESeq2CDS_s3 = DESeqDataSetFromTximport(txi.salmon, colData=design3, design=~fetal_sex + cell_type)\n",
    "#Run DESeq2\n",
    "dds_s3 <- DESeq(DESeq2CDS_s3, parallel = TRUE)\n",
    "res_s3 <- results(dds_s3, alpha=0.05,contrast=c(\"cell_type\",\"EVT_1st\",\"CTB_1st\"))\n",
    "#How many genes in total are differentially expressed\n",
    "sum(res_s3$padj < 0.05, na.rm=TRUE)"
   ]
  },
  {
   "cell_type": "markdown",
   "id": "71c9df57-ca73-4343-9d10-414178de7ff4",
   "metadata": {},
   "source": [
    "## **How does this compare to mapping with STAR?**"
   ]
  },
  {
   "cell_type": "code",
   "execution_count": null,
   "id": "571dd80b-5364-4b62-af33-5959516b4391",
   "metadata": {},
   "outputs": [],
   "source": [
    "design = read.csv(\"./data/design_012424.csv\", header=TRUE, row.names=1)\n",
    "star = read.csv(\"./data/CMM262_01232024_counts.csv\", header=TRUE, row.names=1)\n",
    "DESeq2CDS_star = DESeqDataSetFromMatrix(countData=star, colData=design, design=~fetal_sex + cell_type)\n",
    "dds_star <- DESeq(DESeq2CDS_star, parallel = TRUE)\n",
    "res_star <- results(dds_star, alpha=0.05,contrast=c(\"cell_type\",\"EVT_1st\",\"CTB_1st\"))\n",
    "#How many genes in total are differentially expressed\n",
    "sum(res_star$padj < 0.05, na.rm=TRUE)"
   ]
  },
  {
   "cell_type": "markdown",
   "id": "dae07985-4671-4fab-b4fa-c3006617971d",
   "metadata": {},
   "source": [
    "Now look at 8, 6, 4, and 3 samples:"
   ]
  },
  {
   "cell_type": "code",
   "execution_count": null,
   "id": "c634342f-097c-4746-adbe-7a1eb3f80135",
   "metadata": {},
   "outputs": [],
   "source": [
    "design_star8 = read.csv(\"./data/design_012424_8samples.csv\", header=TRUE, row.names=1)\n",
    "star_8 = read.csv(\"./data/CMM262_01232024_counts_8.csv\", header=TRUE, row.names=1)\n",
    "DESeq2CDS_star8 = DESeqDataSetFromMatrix(countData=star_8, colData=design_star8, design=~fetal_sex + cell_type)\n",
    "dds_star8 <- DESeq(DESeq2CDS_star8, parallel = TRUE)\n",
    "res_star8 <- results(dds_star8, alpha=0.05,contrast=c(\"cell_type\",\"EVT_1st\",\"CTB_1st\"))\n",
    "#How many genes in total are differentially expressed\n",
    "sum(res_star8$padj < 0.05, na.rm=TRUE)"
   ]
  },
  {
   "cell_type": "code",
   "execution_count": null,
   "id": "f197c370-496d-4d6c-bd37-145f704d4c4a",
   "metadata": {},
   "outputs": [],
   "source": [
    "design_star6 = read.csv(\"./data/design_012424_6samples.csv\", header=TRUE, row.names=1)\n",
    "star_6 = read.csv(\"./data/CMM262_01232024_counts_6.csv\", header=TRUE, row.names=1)\n",
    "DESeq2CDS_star6 = DESeqDataSetFromMatrix(countData=star_6, colData=design_star6, design=~fetal_sex + cell_type)\n",
    "dds_star6 <- DESeq(DESeq2CDS_star6, parallel = TRUE)\n",
    "res_star6 <- results(dds_star6, alpha=0.05,contrast=c(\"cell_type\",\"EVT_1st\",\"CTB_1st\"))\n",
    "#How many genes in total are differentially expressed\n",
    "sum(res_star6$padj < 0.05, na.rm=TRUE)"
   ]
  },
  {
   "cell_type": "code",
   "execution_count": null,
   "id": "c50869e1-3af9-487a-9461-55d81255c3e8",
   "metadata": {},
   "outputs": [],
   "source": [
    "design_star4 = read.csv(\"./data/design_012424_4samples.csv\", header=TRUE, row.names=1)\n",
    "star_4 = read.csv(\"./data/CMM262_01232024_counts_4.csv\", header=TRUE, row.names=1)\n",
    "DESeq2CDS_star4 = DESeqDataSetFromMatrix(countData=star_4, colData=design_star4, design=~fetal_sex + cell_type)\n",
    "dds_star4 <- DESeq(DESeq2CDS_star4, parallel = TRUE)\n",
    "res_star4 <- results(dds_star4, alpha=0.05,contrast=c(\"cell_type\",\"EVT_1st\",\"CTB_1st\"))\n",
    "#How many genes in total are differentially expressed\n",
    "sum(res_star4$padj < 0.05, na.rm=TRUE)"
   ]
  },
  {
   "cell_type": "code",
   "execution_count": null,
   "id": "134ca925-7ade-4371-8e90-e01d5cc786dc",
   "metadata": {},
   "outputs": [],
   "source": [
    "design_star3 = read.csv(\"./data/design_012424_3samples.csv\", header=TRUE, row.names=1)\n",
    "star_3 = read.csv(\"./data/CMM262_01232024_counts_3.csv\", header=TRUE, row.names=1)\n",
    "DESeq2CDS_star3 = DESeqDataSetFromMatrix(countData=star_3, colData=design_star3, design=~fetal_sex + cell_type)\n",
    "dds_star3 <- DESeq(DESeq2CDS_star3, parallel = TRUE)\n",
    "res_star3 <- results(dds_star3, alpha=0.05,contrast=c(\"cell_type\",\"EVT_1st\",\"CTB_1st\"))\n",
    "#How many genes in total are differential\n",
    "sum(res_star3$padj < 0.05, na.rm=TRUE)"
   ]
  },
  {
   "cell_type": "code",
   "execution_count": null,
   "id": "f9f8dc0c-8bca-4c2b-aa0a-ffee9506b81d",
   "metadata": {},
   "outputs": [],
   "source": [
    "star_salmon_degs <- read.csv(\"./data/DEGs_salmon_star.csv\", header=TRUE)\n",
    "star_salmon_df <- data.frame(star_salmon_degs)\n",
    "star_salmon_df"
   ]
  },
  {
   "cell_type": "code",
   "execution_count": null,
   "id": "58f3f19a-e56f-4803-b9f3-77bd087fca75",
   "metadata": {},
   "outputs": [],
   "source": []
  }
 ],
 "metadata": {
  "kernelspec": {
   "display_name": "R [conda env:rna-seq]",
   "language": "R",
   "name": "conda-env-rna-seq-r"
  },
  "language_info": {
   "codemirror_mode": "r",
   "file_extension": ".r",
   "mimetype": "text/x-r-source",
   "name": "R",
   "pygments_lexer": "r",
   "version": "4.3.2"
  }
 },
 "nbformat": 4,
 "nbformat_minor": 5
}
