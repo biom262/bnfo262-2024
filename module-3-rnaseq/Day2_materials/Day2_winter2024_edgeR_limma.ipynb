{
 "cells": [
  {
   "cell_type": "markdown",
   "id": "00d41c7b",
   "metadata": {},
   "source": [
    "## edgeR-TMM normalization with Star gene counts table"
   ]
  },
  {
   "cell_type": "markdown",
   "id": "ab90723d",
   "metadata": {},
   "source": [
    "https://www.bioconductor.org/packages/release/bioc/vignettes/edgeR/inst/doc/edgeRUsersGuide.pdf"
   ]
  },
  {
   "cell_type": "code",
   "execution_count": null,
   "id": "99a7c4b7-c7bf-477a-95f1-6a67df65d742",
   "metadata": {},
   "outputs": [],
   "source": [
    "system(\"ln -sfn ~/public/rnaseq/Day2_materials/* ~/module-3-rnaseq/Day2_materials/\")"
   ]
  },
  {
   "cell_type": "code",
   "execution_count": null,
   "id": "00fd40e7",
   "metadata": {},
   "outputs": [],
   "source": [
    "options(stringsAsFactors = FALSE)"
   ]
  },
  {
   "cell_type": "markdown",
   "id": "ffb2818c",
   "metadata": {},
   "source": [
    "Load required libraries (install packages if required)"
   ]
  },
  {
   "cell_type": "code",
   "execution_count": null,
   "id": "2c474922",
   "metadata": {},
   "outputs": [],
   "source": [
    "#Load packages\n",
    "library(limma)\n",
    "library(edgeR)\n",
    "library(data.table)\n",
    "library(RColorBrewer)\n",
    "library(gplots)"
   ]
  },
  {
   "cell_type": "markdown",
   "id": "6fd498fc",
   "metadata": {},
   "source": [
    "### Creating DGE object for edgeR"
   ]
  },
  {
   "cell_type": "markdown",
   "id": "f47b1a47",
   "metadata": {},
   "source": [
    "Read in counts file `data/SMM262_01232024_counts.csv and view head of file"
   ]
  },
  {
   "cell_type": "code",
   "execution_count": null,
   "id": "8530eb9d",
   "metadata": {},
   "outputs": [],
   "source": [
    "#Read file\n",
    "counts <- read.csv(\"./data/CMM262_01232024_counts.csv\", stringsAsFactors=F, row.names=1)\n",
    "head(counts)"
   ]
  },
  {
   "cell_type": "markdown",
   "id": "b24ee115",
   "metadata": {},
   "source": [
    "Define groups and design and create `dge` using `DGEList()`."
   ]
  },
  {
   "cell_type": "code",
   "execution_count": null,
   "id": "8f10427a",
   "metadata": {},
   "outputs": [],
   "source": [
    "group<-as.factor(c(\"CTB_1st\",\"CTB_1st\",\"CTB_1st\",\"CTB_1st\",\"CTB_1st\",\"CTB_1st\",\"CTB_1st\",\"CTB_1st\",\"CTB_1st\",\"CTB_1st\",\"EVT_1st\",\"EVT_1st\",\"EVT_1st\",\"EVT_1st\",\"EVT_1st\",\n",
    "                   \"EVT_1st\",\"EVT_1st\",\"EVT_1st\",\"EVT_1st\",\"EVT_1st\"))\n",
    "group\n",
    "\n",
    "design <- model.matrix(~0+group)\n",
    "design\n",
    "\n",
    "dge<- DGEList(counts=counts,group=group)"
   ]
  },
  {
   "cell_type": "markdown",
   "id": "93f18146",
   "metadata": {},
   "source": [
    "Plot library sizes"
   ]
  },
  {
   "cell_type": "code",
   "execution_count": null,
   "id": "48d672f4",
   "metadata": {},
   "outputs": [],
   "source": [
    "par(mar=c(10,5,5,5))\n",
    "options(scipen=5)\n",
    "barplot(dge$samples$lib.size, horiz=F, names.arg=colnames(dge$counts), las=2, cex.name = 0.5, cex.axis=.5, \n",
    "        main=\"Library Size\")"
   ]
  },
  {
   "cell_type": "code",
   "execution_count": null,
   "id": "44bceb91",
   "metadata": {},
   "outputs": [],
   "source": [
    "#To check\n",
    "class(dge)\n",
    "dim(dge)\n",
    "dge$samples"
   ]
  },
  {
   "cell_type": "markdown",
   "id": "1164af51",
   "metadata": {},
   "source": [
    "### Filtering based on cpm cutoff\n",
    "\n",
    "Filter genes with at least 10 cpm present in at least 3 samples"
   ]
  },
  {
   "cell_type": "code",
   "execution_count": null,
   "id": "fc9c1da6-2a61-45f3-949d-ea7c73f72cbf",
   "metadata": {},
   "outputs": [],
   "source": [
    "dim(dge)"
   ]
  },
  {
   "cell_type": "code",
   "execution_count": null,
   "id": "26416db1",
   "metadata": {},
   "outputs": [],
   "source": [
    "table(rowSums(dge$counts==0)==20)\n",
    "keep <- rowSums(cpm(dge)>10) >= 3\n",
    "dge.f <- dge[keep, , keep.lib.sizes=FALSE]\n",
    "dim(dge.f)"
   ]
  },
  {
   "cell_type": "markdown",
   "id": "c397e0fb",
   "metadata": {},
   "source": [
    "### Normalization using TMM, dispersion estimation using naive method, and DGE\n",
    "“TMM (weighted trimmed mean of log expression) determines scaling factor calculated after double trimming values at the two extremes based on log-intensity ratios (M-values) and log-intensity averages (A-values)” (Dillies et al. Briefings in Bioinformatics, Vol. 14 (6): 671–683, 2013)\n",
    "\n",
    "The calcNormFactors() function normalizes for RNA composition by finding a set of scaling factors for the library sizes that minimize the log-fold changes between the samples for most genes. The default method for computing these scale factors uses a trimmed mean of M-values (TMM) between each pair of samples. We call the product of the original library size and the scaling factor the effective library size. The effective library size replaces the original library size in all downsteam analyses.\n",
    "\n",
    "To normalize using TMM, \n",
    "- Calculate the normalization factors (`calcNormFactors()`) using `d`\n",
    "- Maximize the negative binomial conditional common likelihood to estimate a common dispersion value across all genes (`estimateCommonDisp()`)\n",
    "- Compute genewise exact tests for differences in the means between two groups of negative-binomially distributed counts (`exactTest()`)"
   ]
  },
  {
   "cell_type": "markdown",
   "id": "657ebe88",
   "metadata": {
    "tags": []
   },
   "source": [
    "### Estimate dispersion\n",
    "Estimate dispersion: The square root of the common dispersion gives the coefficient of variation of biological variation.\n",
    "\n",
    "\n",
    "\n",
    "The first major step in the analysis of DGE data using the NB model is to estimate the dispersion parameter for each tag, a measure of the degree of inter-library variation for that tag. Estimating the common dispersion gives an idea of overall variability across the genome for this dataset.\n",
    "\n",
    "In this example, I am renaming the variable to d1 because we can estimate dispersion by assuming everything has the same common dispersion, or we can use a generalized linear model to try to estimate the dispersion. \n",
    "\n",
    "\n",
    "Generate the estimate dispersion `d` with `estimateDisp()` using the filtered dge (`dge.f`)."
   ]
  },
  {
   "cell_type": "code",
   "execution_count": null,
   "id": "9113fd3b",
   "metadata": {
    "tags": []
   },
   "outputs": [],
   "source": [
    "#estimate dispersions\n",
    "d <- estimateDisp(dge.f, design=design)"
   ]
  },
  {
   "cell_type": "code",
   "execution_count": null,
   "id": "d87ab552",
   "metadata": {},
   "outputs": [],
   "source": [
    "d$common.dispersion\n",
    "sqrt(d$common.disp)"
   ]
  },
  {
   "cell_type": "markdown",
   "id": "844a6163",
   "metadata": {
    "tags": []
   },
   "source": [
    "Here the common dispersion is found to be 0.06 and the coefficient of biological variation (BCV) is around 0.25. "
   ]
  },
  {
   "cell_type": "code",
   "execution_count": null,
   "id": "a595b392",
   "metadata": {},
   "outputs": [],
   "source": [
    "TMM <- calcNormFactors(d, method=\"TMM\")\n",
    "TMM <- estimateCommonDisp(TMM)\n",
    "TMM <- exactTest(TMM)\n",
    "dges <- table(p.adjust(TMM$table$PValue, method=\"BH\")<0.05)\n",
    "dges"
   ]
  },
  {
   "cell_type": "markdown",
   "id": "c00ce860-f9cf-4af5-a760-8de4d37409b0",
   "metadata": {},
   "source": [
    "**This means that we have 7977 differentially expressed genes with EdgeR**"
   ]
  },
  {
   "cell_type": "markdown",
   "id": "41d4d043-af46-47f5-9320-73f86f3f7583",
   "metadata": {},
   "source": [
    "If we want to take a look at the top 10:"
   ]
  },
  {
   "cell_type": "code",
   "execution_count": null,
   "id": "23772dc1-cfd1-4997-a7b0-281e053ed195",
   "metadata": {},
   "outputs": [],
   "source": [
    "TMM.table<-data.frame(topTags(TMM, n=20))\n",
    "TMM.table"
   ]
  },
  {
   "cell_type": "code",
   "execution_count": null,
   "id": "d6f50477-cd50-435a-909f-83d5b61a3d0d",
   "metadata": {},
   "outputs": [],
   "source": [
    "#write these DGEs out\n",
    "DGEs_05 <- topTags(TMM, n=Inf, adjust.method=\"BH\")\n",
    "keep <- DGEs_05$table$FDR <= 0.05\n",
    "write.table(DGEs_05[keep,],file=\"./output/edgeR_TMM_p0.05.txt\",sep=\"\\t\")"
   ]
  },
  {
   "cell_type": "markdown",
   "id": "d44fa58f",
   "metadata": {},
   "source": [
    "## Plots"
   ]
  },
  {
   "cell_type": "markdown",
   "id": "dd89f0d4",
   "metadata": {},
   "source": [
    "### Raw and unfiltered data"
   ]
  },
  {
   "cell_type": "markdown",
   "id": "896c7e99",
   "metadata": {},
   "source": [
    "First calculate cpm and log cpm using the unfiltered data (`dge`)"
   ]
  },
  {
   "cell_type": "code",
   "execution_count": null,
   "id": "5f965369",
   "metadata": {},
   "outputs": [],
   "source": [
    "# Raw data\n",
    "cpm <- cpm(dge)\n",
    "lcpm <- cpm(dge, log=TRUE)"
   ]
  },
  {
   "cell_type": "markdown",
   "id": "d75ba9e2",
   "metadata": {},
   "source": [
    "Now calculate the log cpm for the filtered data (`dge.f`)"
   ]
  },
  {
   "cell_type": "code",
   "execution_count": null,
   "id": "50d72237",
   "metadata": {},
   "outputs": [],
   "source": [
    "# Filtered data\n",
    "lcpm.f <- cpm(dge.f, log=TRUE)"
   ]
  },
  {
   "cell_type": "markdown",
   "id": "ab5ab229-d2fa-4c92-a6a9-186d03627567",
   "metadata": {},
   "source": [
    "Lastly calculated the TMM normalized data using `dge.f` and get the log cpm of the normalized data (`dge.norm`)."
   ]
  },
  {
   "cell_type": "code",
   "execution_count": null,
   "id": "3af15249-5c72-44aa-8ffe-abcbcd62de66",
   "metadata": {},
   "outputs": [],
   "source": [
    "# TMM normalized data\n",
    "dge.norm <- calcNormFactors(dge.f,method=\"TMM\") \n",
    "dge.norm$samples$norm.factors\n",
    "lcpm.norm <- cpm(dge.norm, log=TRUE)"
   ]
  },
  {
   "cell_type": "code",
   "execution_count": null,
   "id": "0a5dd304",
   "metadata": {},
   "outputs": [],
   "source": [
    "#set colours for graphs\n",
    "nsamples <- ncol(dge)\n",
    "nsamples<-(dge.f)\n",
    "nsamples<-ncol(dge.norm)\n",
    "col <- brewer.pal(nsamples, \"Paired\")\n",
    "\n",
    "#Visualise filtered vs unfiltered data\n",
    "par(mfrow=c(1,2))\n",
    "\n",
    "#plot unfiltered data\n",
    "samplenames<-c(\"CTB_1st\",\"CTB_1st\",\"CTB_1st\",\"CTB_1st\",\"CTB_1st\",\"CTB_1st\",\"CTB_1st\",\"CTB_1st\",\"CTB_1st\",\"CTB_1st\",\"EVT_1st\",\"EVT_1st\",\"EVT_1st\",\"EVT_1st\",\"EVT_1st\",\n",
    "                   \"EVT_1st\",\"EVT_1st\",\"EVT_1st\",\"EVT_1st\",\"EVT_1st\")\n",
    "\n",
    "plot(density(lcpm[,1]),col=col(lcpm,as.factor = FALSE),lwd=1,ylim=c(0,2.5),las=2,main=\"\",xlab=\"\")\n",
    "\n",
    "title(main=\"A. Raw data\", xlab=\"Log-cpm\")\n",
    "abline(v=0, lty=3)\n",
    "for (i in 2:nsamples){\n",
    "  den <- density(lcpm[,i])\n",
    "  lines(den$x, den$y, col=col[i], lwd=2)\n",
    "}\n",
    "legend(\"topright\", samplenames, text.col=col, bty=\"n\",cex=0.8,pt.cex=0.8)\n",
    "\n",
    "\n",
    "#plot filtered data\n",
    "plot(density(lcpm.f[,1]), col=col(lcpm.f,as.factor=FALSE), lwd=2, ylim=c(0,0.5), las=2,\n",
    "     main=\"\", xlab=\"\")\n",
    "\n",
    "title(main=\"B. Filtered data\", xlab=\"Log-cpm\")\n",
    "abline(v=0, lty=3)\n",
    "for (i in 2:nsamples){\n",
    "  den <- density(lcpm.f[,i])\n",
    "  lines(den$x, den$y, col=col[i], lwd=2)\n",
    "}\n",
    "legend(\"topright\", samplenames, text.col=col, bty=\"n\",cex=0.8,pt.cex=0.8)"
   ]
  },
  {
   "cell_type": "markdown",
   "id": "ce0d2b2b",
   "metadata": {},
   "source": [
    "### Boxplots of TMM-Normalized vs. unnormalized data"
   ]
  },
  {
   "cell_type": "code",
   "execution_count": null,
   "id": "f482dcb7",
   "metadata": {},
   "outputs": [],
   "source": [
    "# Unnormalized data\n",
    "lcpm <- cpm(dge, log=TRUE)"
   ]
  },
  {
   "cell_type": "code",
   "execution_count": null,
   "id": "0f672dc5",
   "metadata": {},
   "outputs": [],
   "source": [
    "# TMM normalized data\n",
    "dge.norm <- calcNormFactors(dge.f,method=\"TMM\") \n",
    "dge.norm$samples$norm.factors\n",
    "lcpm.norm <- cpm(dge.norm, log=TRUE)"
   ]
  },
  {
   "cell_type": "code",
   "execution_count": null,
   "id": "ec486e2e",
   "metadata": {},
   "outputs": [],
   "source": [
    "par(mfrow=c(1,2))\n",
    "\n",
    "# Unnormalised data\n",
    "boxplot(lcpm,las=2, col=col, main=\"\",ylim=c(2,20),names=c(\"CTB_1st\",\"CTB_1st\",\"CTB_1st\",\"CTB_1st\",\"CTB_1st\",\"CTB_1st\",\"CTB_1st\",\"CTB_1st\",\"CTB_1st\",\"CTB_1st\",\"EVT_1st\",\"EVT_1st\",\"EVT_1st\",\"EVT_1st\",\"EVT_1st\",\n",
    "                   \"EVT_1st\",\"EVT_1st\",\"EVT_1st\",\"EVT_1st\",\"EVT_1st\"))\n",
    "title(main=\"A. Unnormalized data\",ylab=\"Log-cpm\")\n",
    "\n",
    "# TMM normalized data\n",
    "boxplot(lcpm.norm, las=2, col=col, main=\"\", ylim=c(2,20),\n",
    "        names=c(\"CTB_1st\",\"CTB_1st\",\"CTB_1st\",\"CTB_1st\",\"CTB_1st\",\"CTB_1st\",\"CTB_1st\",\"CTB_1st\",\"CTB_1st\",\"CTB_1st\",\"EVT_1st\",\"EVT_1st\",\"EVT_1st\",\"EVT_1st\",\"EVT_1st\",\n",
    "                   \"EVT_1st\",\"EVT_1st\",\"EVT_1st\",\"EVT_1st\",\"EVT_1st\"))\n",
    "\n",
    "title(main=\"B. TMM Normalized data\",ylab=\"Log-cpm\")"
   ]
  },
  {
   "cell_type": "markdown",
   "id": "ee1d490c",
   "metadata": {},
   "source": [
    "### PCA plot\n",
    "Make a PCA plot using the log cpm normalized data (`lcpm.norm`)"
   ]
  },
  {
   "cell_type": "code",
   "execution_count": null,
   "id": "ebdebf6f",
   "metadata": {},
   "outputs": [],
   "source": [
    "#MDS plot PCA\n",
    "par(mfrow=c(1,2))\n",
    "col.group <- group\n",
    "levels(col.group) <- brewer.pal(nlevels(col.group), \"Set1\")\n",
    "col.group <- as.character(col.group)\n",
    "plotMDS(lcpm.norm, labels=group, col=col.group)\n",
    "title(main=\"Samples\")"
   ]
  },
  {
   "cell_type": "markdown",
   "id": "33741747",
   "metadata": {},
   "source": [
    "### Heatmap of genes significantly different between groups (top 20)"
   ]
  },
  {
   "cell_type": "markdown",
   "id": "ef286eb0",
   "metadata": {},
   "source": [
    "<div class=\"alert alert-block alert-success\">\n",
    "    <p><b>Exercise:</b> Generate the heatmap for significantly different genes</p>\n",
    "</div>\n",
    "\n",
    "Hint: First subset the genes in the log cpm TMM-normalized data (`lcpm.norm`) using the genes in the `TMM.table`"
   ]
  },
  {
   "cell_type": "code",
   "execution_count": null,
   "id": "0b630d9a",
   "metadata": {},
   "outputs": [],
   "source": [
    "# subset miRNAs from lcpm normalized data\n",
    "genes<-as.list(row.names(TMM.table))\n",
    "genes_lcpm.norm<-subset(lcpm.norm,rownames(lcpm.norm) %in% genes)"
   ]
  },
  {
   "cell_type": "code",
   "execution_count": null,
   "id": "bc3af33d",
   "metadata": {},
   "outputs": [],
   "source": [
    "## Get some nicer colours\n",
    "mypalette <- brewer.pal(11,\"RdYlBu\")\n",
    "morecols <- colorRampPalette(mypalette)\n",
    "# Set up colour vector for celltype variable\n",
    "col.cell <- c(\"purple\",\"orange\")[group]\n",
    "\n",
    "heatmap.2(genes_lcpm.norm,col=rev(morecols(50)),trace=\"none\", main=\"p<0.05 TMM normalized\",\n",
    "          ColSideColors=col.cell,scale=\"row\",margins=c(9,9), cexCol=0.8)\n"
   ]
  },
  {
   "cell_type": "markdown",
   "id": "e46fb45e-b305-4b84-9810-87465ca1340d",
   "metadata": {},
   "source": [
    "Total number of DGEs seems low so we can try with the GLM"
   ]
  },
  {
   "cell_type": "code",
   "execution_count": null,
   "id": "f2965a30-0bcf-4b5f-b051-46500d42f44f",
   "metadata": {},
   "outputs": [],
   "source": [
    "y <- DGEList(counts=counts,group=group)\n",
    "keep <- rowSums(y$counts) >= 10\n",
    "y$counts <- y$counts[keep,]\n",
    "y <- calcNormFactors(y, method=\"TMM\")\n",
    "design <- model.matrix(~0+group)\n",
    "y <- estimateDisp(y,design)\n",
    "fit <- glmQLFit(y,design)\n",
    "qlf <- glmQLFTest(fit,coef=2)"
   ]
  },
  {
   "cell_type": "code",
   "execution_count": null,
   "id": "288ed35f-94cb-49ba-9109-bf5a898d6dde",
   "metadata": {},
   "outputs": [],
   "source": [
    "dges_qlf <- table(p.adjust(TMM$table$PValue, method=\"BH\")<0.05)\n",
    "dges_qlf"
   ]
  },
  {
   "cell_type": "markdown",
   "id": "f886ee5d-efd6-4331-a969-ed57dd3b7d44",
   "metadata": {},
   "source": [
    "# Limma-voom"
   ]
  },
  {
   "cell_type": "markdown",
   "id": "b43573d2-6de6-46bc-a64a-3e782cc85951",
   "metadata": {},
   "source": [
    "https://www.ncbi.nlm.nih.gov/pmc/articles/PMC4937821/"
   ]
  },
  {
   "cell_type": "markdown",
   "id": "01b2e60b-d863-41c3-8994-21d2ee09316a",
   "metadata": {},
   "source": [
    "It has been shown that for RNA-seq count data, the variance is not independent of the mean – this is true of raw counts or when transformed to log-CPM values. Methods that model counts using a Negative Binomial distribution assume a quadratic mean-variance relationship. In limma, linear modelling is carried out on the log-CPM values which are assumed to be normally distributed and the mean-variance relationship is accommodated using precision weights calculated by the voom function.\n",
    "\n",
    "When operating on a DGEList-object, voom converts raw counts to log-CPM values by automatically extracting library sizes and normalisation factors from x itself. \n",
    "\n",
    "Typically, the “voom-plot” shows a decreasing trend between the means and variances resulting from a combination of technical variation in the sequencing experiment and biological variation amongst the replicate samples from different cell populations. Experiments with high biological variation usually result in flatter trends, where variance values plateau at high expression values. Experiments with low biological variation tend to result in sharp decreasing trends."
   ]
  },
  {
   "cell_type": "markdown",
   "id": "b25ae9f2-719e-44f0-9903-64cf83c99380",
   "metadata": {},
   "source": [
    "First set up the design matrix"
   ]
  },
  {
   "cell_type": "code",
   "execution_count": null,
   "id": "c70289ca-0245-4223-96dd-621adeeec7ea",
   "metadata": {},
   "outputs": [],
   "source": [
    "#limma-voom \n",
    "#Set up design\n",
    "design <- model.matrix(~0 + group)\n",
    "colnames(design) <- gsub(\"group\",\"\", colnames(design))\n",
    "design"
   ]
  },
  {
   "cell_type": "markdown",
   "id": "43acc190-b5f4-4aa9-a150-8adcdd3f72f4",
   "metadata": {},
   "source": [
    "Then use [`makeContrasts()`](https://www.rdocumentation.org/packages/limma/versions/3.28.14/topics/makeContrasts) to \"express contrasts between a set of parameters as a numeric matrix\"."
   ]
  },
  {
   "cell_type": "code",
   "execution_count": null,
   "id": "5ae8e3f2-af90-421b-912a-d35377181c97",
   "metadata": {},
   "outputs": [],
   "source": [
    "cm <- makeContrasts(CTBvsEVT=CTB_1st-EVT_1st,levels=design)"
   ]
  },
  {
   "cell_type": "markdown",
   "id": "2ce49be9-7e8c-417b-8ed8-427f6fee1b82",
   "metadata": {},
   "source": [
    "Apply `voom()` to remove heteroscedasticity from count data"
   ]
  },
  {
   "cell_type": "code",
   "execution_count": null,
   "id": "ba925a41",
   "metadata": {},
   "outputs": [],
   "source": [
    "v <- voom(dge.norm, design, plot=TRUE)\n",
    "write.csv(v$E, \"./output/TMM_and_Voom_normalized_counts.csv\")"
   ]
  },
  {
   "cell_type": "markdown",
   "id": "0580f66f-a042-4cc7-bebd-538a116cf2a6",
   "metadata": {},
   "source": [
    "Fit the linear model"
   ]
  },
  {
   "cell_type": "code",
   "execution_count": null,
   "id": "22002a08",
   "metadata": {},
   "outputs": [],
   "source": [
    "vfit <- lmFit(v,design)\n",
    "vfit <- contrasts.fit(vfit, contrasts=cm)\n",
    "efit <- eBayes(vfit)\n",
    "plotSA(efit, main=\"Final model: Mean-variance trend\")"
   ]
  },
  {
   "cell_type": "markdown",
   "id": "57bbc65c-9ec8-4499-b1be-df8bfcc931d6",
   "metadata": {},
   "source": [
    "Use `decideTests()` to determine which genes are up-regulated, down-regulated or not significantly different."
   ]
  },
  {
   "cell_type": "code",
   "execution_count": null,
   "id": "4932f652",
   "metadata": {},
   "outputs": [],
   "source": [
    "dt <- decideTests(efit)\n",
    "summary(dt)"
   ]
  },
  {
   "cell_type": "markdown",
   "id": "2849683e-4fdf-475c-8d1c-6f0088ddbb65",
   "metadata": {},
   "source": [
    "**This shows that with limma_voom we found 8296 DEGs**"
   ]
  },
  {
   "cell_type": "markdown",
   "id": "68854d28-07a1-49c3-a0f2-b3591684d877",
   "metadata": {
    "tags": []
   },
   "source": [
    "### Genes with adjusted p<0.05"
   ]
  },
  {
   "cell_type": "code",
   "execution_count": null,
   "id": "01430d8a",
   "metadata": {},
   "outputs": [],
   "source": [
    "#write out p0.01 RNAs\n",
    "CTB_vs_EVT<-topTreat(efit,coef=1,n=Inf)\n",
    "head(CTB_vs_EVT)\n",
    "ENSID<-row.names(CTB_vs_EVT)\n",
    "norm<-data.frame(v$E)\n",
    "merged<-merge(CTB_vs_EVT,norm,by=0,all=TRUE)\n",
    "final<-subset(merged,merged$adj.P.Val<0.05)\n",
    "write.table(final,file=\"./output/final_mRNAs_p0.05_limma.txt\",sep=\"\\t\")"
   ]
  },
  {
   "cell_type": "markdown",
   "id": "e27dd9e7-6f79-4b2c-915e-5db208f2bb3e",
   "metadata": {},
   "source": [
    "### Heatmap with genes with p<0.05"
   ]
  },
  {
   "cell_type": "code",
   "execution_count": null,
   "id": "5800cf0d",
   "metadata": {
    "tags": []
   },
   "outputs": [],
   "source": [
    "#heatmap\n",
    "#subset miRNAs from lcpm normalized data\n",
    "mRNAs<-as.list(final$Row.names)\n",
    "lcpm.norm.heatmap<-as.matrix(subset(norm,rownames(norm) %in% mRNAs))\n",
    "\n",
    "## Get some nicer colours\n",
    "mypalette <- brewer.pal(11,\"RdYlBu\")\n",
    "morecols <- colorRampPalette(mypalette)\n",
    "# Set up colour vector for celltype variable\n",
    "col.cell <- c(\"purple\",\"orange\")[group]\n",
    "heatmap.2(lcpm.norm.heatmap,col=rev(morecols(50)),trace=\"none\", main=\"p<0.05 TMM normalized\",\n",
    "          ColSideColors=col.cell,scale=\"row\",margins=c(9,9), cexCol=0.8)"
   ]
  },
  {
   "cell_type": "code",
   "execution_count": null,
   "id": "04026d14-65bb-4775-80ce-82d2262ebe65",
   "metadata": {},
   "outputs": [],
   "source": [
    "star_salmon_degs_EdgeR_limma <- read.csv(\"./data/DEGs_salmon_star_edgeR_limma.csv\", header=TRUE)\n",
    "star_salmon_degs_EdgeR_limma <- data.frame(star_salmon_degs_EdgeR_limma)\n",
    "star_salmon_degs_EdgeR_limma"
   ]
  },
  {
   "cell_type": "code",
   "execution_count": null,
   "id": "cbdb15e5-084d-43f4-a184-12cd6fd5bca9",
   "metadata": {},
   "outputs": [],
   "source": []
  }
 ],
 "metadata": {
  "kernelspec": {
   "display_name": "R [conda env:rna-seq]",
   "language": "R",
   "name": "conda-env-rna-seq-r"
  },
  "language_info": {
   "codemirror_mode": "r",
   "file_extension": ".r",
   "mimetype": "text/x-r-source",
   "name": "R",
   "pygments_lexer": "r",
   "version": "4.3.2"
  }
 },
 "nbformat": 4,
 "nbformat_minor": 5
}
