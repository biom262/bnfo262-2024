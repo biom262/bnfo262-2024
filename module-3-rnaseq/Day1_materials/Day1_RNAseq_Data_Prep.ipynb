{
 "cells": [
  {
   "cell_type": "markdown",
   "metadata": {},
   "source": [
    "# BNFO262: RNA-sequencing, Day <br>Part 1 - (RNA-seq Differential Expression Data Preparation)\n",
    "\n",
    "**Authors:** Michelle Franc Ragsac (mragsac@eng.ucsd.edu) and Eric Kofman (ekofman@eng.ucsd.edu)\n",
    "\n",
    "> *Based on the RNA-sequencing notebook from the 2020 BISB Bootcamp taught by Clarence Mah (ckmah@ucsd.edu)--one of the TAs for this class this year: https://github.com/mragsac/BISB-Bootcamp-2020/tree/master/day4/module5_rnaseq*\n",
    "\n",
    "Within this notebook, we'll be going through the steps taken on the command line to process RNA-sequencing data from the FASTQ file format to a counts matrix containing the representation of each gene within a sample. By the end of this notebook, you will know how to process RNA-sequencing data with a basic pipeline, gain experience with commonly-used sequence alignment tools, and recognize common sequencing file types! \n",
    "\n",
    "<div class=\"alert alert-block alert-warning\">\n",
    "    <p>Please note that despite the fact this notebook uses a Python kernel, all of the cells use <code>%%bash</code> iPython magic commands! We created the notebook this way so that it would be compatible with the Jupyter Hub for this class.</p>\n",
    "</div>\n",
    "\n",
    "---\n",
    "\n",
    "![Diagram of RNA-Sequencing Data Analysis Pipeline](img/day1_00_overview-figure.png)\n",
    "\n",
    "<i><b>Diagram of RNA-Sequencing Data Analysis Pipeline</b></i>\n",
    "\n",
    "---\n",
    "\n",
    "There are quite a few tools that we'll be using in this pipeline, and you can find their tool manuals below: \n",
    "\n",
    "> #### Bioinformatics Tool Manuals in Order of Appearance\n",
    "> \n",
    "> 1. **[FastQC](https://www.bioinformatics.babraham.ac.uk/projects/fastqc/)**: A quality control tool for high throughput sequence data \n",
    "> 2. **[Samtools](http://www.htslib.org/)**: A suite of programs for interacting with high-throughput sequencing data\n",
    "> 3. **[`S`pliced `T`ranscripts `A`lignment to a `R`eference (STAR)](https://github.com/alexdobin/STAR/blob/master/doc/STARmanual.pdf)**: A *fast* tool for aligning reads to a reference genome  \n",
    "> 4. **[featureCounts](http://bioinf.wehi.edu.au/featureCounts/)**: A read summarization program that counts mapped reads for genomic features such as genes, exons, promoter, gene bodies, genomic bins and chromosomal locations\n",
    "> 5. **[MultiQC](https://multiqc.info/)**: A tool which is able to summarize the output from numerous bioinformatics tools.\n",
    "\n",
    "---\n",
    "\n",
    "### Table of Contents\n",
    "\n",
    "1. Reviewing UNIX Command Line Commands for Navigating the Terminal\n",
    "2. Checking the Quality of Raw Sequencing FASTQ Files\n",
    "3. Aligning or Mapping RNA-sequencing FASTQ Reads to the Genome \n",
    "4. Sorting and Indexing Aligned Sequencing Reads with `samtools`\n",
    "5. Generating a Gene Expression Counts Matrix using the `featureCounts` Program\n",
    "6. Generate a Summary Quality Control Document with `MultiQC` \n",
    "\n",
    "---"
   ]
  },
  {
   "cell_type": "markdown",
   "metadata": {},
   "source": [
    "## Creating a symlink to the data\n",
    "Run the following command to create a symlink to the data needed for this notebook:"
   ]
  },
  {
   "cell_type": "code",
   "execution_count": null,
   "metadata": {},
   "outputs": [],
   "source": [
    "%%bash\n",
    "ln -sfn ~/public/rnaseq/Day1_materials/data ~/module-3-rnaseq/Day1_materials/data"
   ]
  },
  {
   "cell_type": "markdown",
   "metadata": {},
   "source": [
    "## Reviewing UNIX Command Line Commands for Navigating the Terminal\n",
    "\n",
    "Before we go into bioinformatics command line tools, let's start out by reviewing some UNIX commands, along with some basic rules to follow to help keep your computational analyses organized! \n",
    "\n",
    "Within this portion of the notebook, we'll review: \n",
    "\n",
    "* Using `pwd` to preview the current \"working directory\" in which we are located in on the terminal\n",
    "* Using `ls` to list the contents of the current working directory\n",
    "\n",
    "### Previewing the Current Working Directory with the `pwd` Command\n",
    "\n",
    "Whenever opening the terminal, it's helpful to first determine where you're located within your computer's filesystem before you run any other programs or commands. We can preview the current working directory with the `pwd` command. \n",
    "\n",
    "<div class=\"alert alert-block alert-info\">\n",
    "    <p>Because our Jupyter Notebook is located in the <code>module-3-rnaseq/Day1_materials</code> directory, the results of our <code>pwd</code> command should reflect the location of this directory.</p>\n",
    "</div>"
   ]
  },
  {
   "cell_type": "code",
   "execution_count": null,
   "metadata": {},
   "outputs": [],
   "source": [
    "%%bash\n",
    "\n",
    "# Use pwd to determine our current working directory\n",
    "CMD"
   ]
  },
  {
   "cell_type": "markdown",
   "metadata": {},
   "source": [
    "### Listing the Contents of the Current Working Directory with the `ls` Command\n",
    "\n",
    "Now that we have a handle of where we're located within our computer's filesystem, we can use the `ls` command to list out the contents of the folder we're located in. \n",
    "\n",
    "<div class=\"alert alert-block alert-info\">\n",
    "    <p>Because our Jupyter Notebook is located in the <code>module-3-rnaseq/Day1_materials</code> directory, the results of our <code>ls</code> command should reflect the contents of this directory.</p>\n",
    "</div>"
   ]
  },
  {
   "cell_type": "code",
   "execution_count": null,
   "metadata": {},
   "outputs": [],
   "source": [
    "%%bash\n",
    "\n",
    "# Use ls to list the contents of the current working directory\n",
    "CMD"
   ]
  },
  {
   "cell_type": "markdown",
   "metadata": {},
   "source": [
    "From this command, we can see that there are two Jupyter Notebooks present for this module, the `README.md` file for this module, along with three folders: \n",
    "\n",
    "* The **`data/`** folder contains the data that we'll be using to learn about RNA-sequencing analysis for this module \n",
    "* The **`results/`** folder contains the outputs that you should expect from running our RNA-sequencing pipeline on the data files we've provided--just in case you want to run through the steps on your own and see if you did things correctly! \n",
    "* The **`img/`** folder contains some image files that are used in these notebooks\n",
    "\n",
    "Let's view the contents within the `data/` folder, but also introduce one of the helpful flags that you can use with the `ls` command. `ls -l` allows you to view the contents of a directory in *long* format. This includes the permissions for the file (e.g., read, write, or execute permissions), the size of the file in bytes, along with the date the file was last modified. "
   ]
  },
  {
   "cell_type": "code",
   "execution_count": null,
   "metadata": {},
   "outputs": [],
   "source": [
    "%%bash\n",
    "\n",
    "# Use ls to show the contents of the data folder that match yeast.*\n",
    "CMD -l data/yeast.*"
   ]
  },
  {
   "cell_type": "markdown",
   "metadata": {},
   "source": [
    "<div class=\"alert alert-block alert-warning\">\n",
    "    <p>For this notebook, we'll be using the <code>yeast.*</code> files to demonstrate the different steps in an RNA-sequencing analysis pipeline in order to save time.</p>\n",
    "    <p>These represent just a small subsampling of reads so that working with our files doesn't take too long. </p>\n",
    "</div>\n",
    "\n",
    "<div class=\"alert alert-block alert-info\">\n",
    "    <p>With the above block, we said <code>yeast.*</code>. The <code>*</code> is a common symbol that you will see within this notebook and in UNIX commands; it typically represents a <i>wildcard</i>, meaning that we would like to include every single type of file extension after the <code>yeast.</code> text! (e.g., <code>yeast.fasta</code>, <code>yeast.gtf</code>, etc.) Another example is <code>*.fasta</code>, meaning all FASTA files that are present.</p>\n",
    "</div>\n",
    "\n",
    "<div class=\"alert alert-block alert-info\">\n",
    "    <p>If you're ever confused about basic UNIX commands and what their different flags mean, we highly recommend the ExplainShell resource! You can type in the command that you're struggling to understand, and it will explain each component for the command in a semi-interactive website. The website pulls from the <code>man</code> (manual) pages for the commands that you would like to search for.</p>\n",
    "    <p><b>Link to ExplainShell Website</b>: <a href=\"https://explainshell.com/\">https://explainshell.com/</a></p>\n",
    "</div>\n",
    "\n",
    "---"
   ]
  },
  {
   "cell_type": "markdown",
   "metadata": {},
   "source": [
    "## Checking the Quality of Raw Sequencing FASTQ Files\n",
    "\n",
    "Within this portion of the notebook, we'll be covering some of the basics behind the FASTQ file format (along with how it's organized) and a common method for assessing the quality of your sequencing data using the `FastQC` software.\n",
    "\n",
    "### Background on the FASTQ File Format\n",
    "\n",
    "FASTQ files are text-based files for storing a biological sequence along with its corresponding quality scores, and are the most common file format that a bioinformatician would recieve from a sequencing run for further analysis. Both the sequence letter and quality score are each encoded with a single ASCII character. These files usually contain four lines per sequence. \n",
    "\n",
    "---\n",
    "\n",
    "![FASTQ File Format Description](img/day1_02_fastq-file-format.png)\n",
    "\n",
    "[Hosseini, Morteza, Diogo Pratas, and Armando J. Pinho. \"A survey on data compression methods for biological sequences.\" Information 7.4 (2016): 56.](https://www.mdpi.com/2078-2489/7/4/56/htm)\n",
    "\n",
    "---\n",
    "\n",
    "- **Line 1** begins with a `@` character and is followed by a sequence identifier and an *optional* description (like a `FASTA` title line)\n",
    "- **Line 2** contains the raw sequence letters \n",
    "- **Line 3** begins with a `+` character and is *optionally* followed by the same sequence identifier (and any description) again\n",
    "- **Line 4** encodes the quality values for the sequence in Line 2, and *must* contain the same number of symbols as letters in the sequence\n",
    "\n",
    "It's important to become familiar with FASTQ files and how they're organized as they're one of the most common elements that you'll see across different bioinformatics pipelines that involve sequencing data (regardless of sequencing method)! \n",
    "\n",
    "<div class=\"alert alert-block alert-info\">\n",
    "    <p>If you have <b>paired-end</b> sequencing data, you will usually get <i>two</i> FASTQ files from the sequencing core, one labeled with an <code>R1</code> in its filename and one labeled with an <code>R2</code> in its filename!</p>\n",
    "    <p>For <b>single-end</b> runs, then you will typically get <i>one</i> FASTQ file to evaluate.</p>\n",
    "</div>"
   ]
  },
  {
   "cell_type": "markdown",
   "metadata": {},
   "source": [
    "### Previewing the FASTQ File Format with the `head`, `grep`, and `wc` UNIX Commands\n",
    "\n",
    "Let's review some more UNIX commands as we learn about the `*.fastq` file format! \n",
    "\n",
    "* We can use the `head` command to preview the head, or beginning, of a file (the `-n` flag allows you to specify the number of lines that you would like to preview from the beginning of the file)\n",
    "* `grep` is a powerful command-line utility for searching plain-text data files for specific patterns using regular expressions; you can find more information and some tutorials at the following link: https://www.geeksforgeeks.org/grep-command-in-unixlinux/\n",
    "\n",
    "<div class=\"alert alert-block alert-info\">\n",
    "    <p><b>What are Regular Expressions?</b></p>\n",
    "    <p>While we won't be covering them in this notebook, <b>regular expressions</b> are useful for extracting information from text, such as code, log files, spreadsheets, and more! With regular expressions, you write <i>expressions</i> to search for a specific pattern of characters. They're a bit cumbersome to learn at first, but if you're interested, here are a few resources that we've selected for you to learn more from:</p>\n",
    "    <ul>\n",
    "        <li><b>w3schools Python Regex Resource:</b> <a href=\"https://www.w3schools.com/python/python_regex.asp\">https://www.w3schools.com/python/python_regex.asp</a></li>\n",
    "        <li><b>RegexOne Website:</b> <a href=\"https://regexone.com/\">https://regexone.com/</a></li>\n",
    "        <li><b>RegExr Website:</b> <a href=\"https://regexr.com/\">https://regexr.com/</a></li>\n",
    "    </ul>\n",
    "</div>\n",
    "\n",
    "#### Using the `head` Command to Preview a FASTQ File"
   ]
  },
  {
   "cell_type": "code",
   "execution_count": null,
   "metadata": {},
   "outputs": [],
   "source": [
    "%%bash\n",
    "\n",
    "# Preview the first 8 lines of the first FASTQ file in the read pair (R1)\n",
    "CMD -n NUM data/yeast_R1.fastq"
   ]
  },
  {
   "cell_type": "markdown",
   "metadata": {},
   "source": [
    "From this command, we're previewing two separate reads that were produced in the yeast experiment. The name of each of our reads begins with the pattern `@SRR*`! We can also see the sequences that were read out by the sequencer for both of these reads, along with their associated quality scores at each base! \n",
    "\n",
    "<div class=\"alert alert-block alert-info\">\n",
    "    <p><code>tail</code> is the counterpart command for <code>head</code> as it allows you to view the <i>tail</i> or end of a file! It follows the same syntax as <code>head</code>.</p>\n",
    "</div>\n",
    "\n",
    "#### Using the `grep` and `wc` Commands to Determine the Number of Reads in a FASTQ File\n",
    "\n",
    "Since we know that each of our read headers starts with a `@SRR*` pattern, we can use that information to construct a `grep` command with a simple regular expression! `grep` commands usually follow the pattern below: \n",
    "\n",
    "```bash\n",
    "grep [regular expression] filename\n",
    "```\n",
    "\n",
    "The command will then return all *lines* that contain the text following the regular expression one is searching for! \n",
    "\n",
    "If we were to run this command within the notebook to look for read headers in our file, then we would clog the notebook with many, many, *many* lines from our FASTQ file that match the `@SRR*` pattern. Instead, we'll *pipe* the output (or, redirect the output) into another command."
   ]
  },
  {
   "cell_type": "code",
   "execution_count": null,
   "metadata": {},
   "outputs": [],
   "source": [
    "%%bash\n",
    "\n",
    "# Extract all read headers from our FASTQ file, then preview the output using head\n",
    "CMD @SRR* data/yeast_R1.fastq | CMD"
   ]
  },
  {
   "cell_type": "markdown",
   "metadata": {},
   "source": [
    "Instead of just previewing what the output of the command looks like, we can use the `wc -l` command (`wc` with the `-l` flag) to determine the number of lines that are present in the piped result from our `grep` command!"
   ]
  },
  {
   "cell_type": "code",
   "execution_count": null,
   "metadata": {},
   "outputs": [],
   "source": [
    "%%bash\n",
    "\n",
    "# Extract all read headers from our FASTQ file, then \n",
    "# determine the number of lines present in the output using the wc -l command\n",
    "CMD @SRR* data/yeast_R1.fastq | CMD"
   ]
  },
  {
   "cell_type": "markdown",
   "metadata": {},
   "source": [
    "From this, we can see that there are 23,520 reads present in our `data/yeast_R1.fastq` file! \n",
    "\n",
    "<div class=\"alert alert-block alert-success\">\n",
    "    <p><b>Exercise:</b> How many reads are present in the <code>data/yeast_R2.fastq</code> file? Is it what you would expect to see? Why?</p>\n",
    "</div>"
   ]
  },
  {
   "cell_type": "code",
   "execution_count": null,
   "metadata": {},
   "outputs": [],
   "source": [
    "%%bash\n",
    "\n",
    "# TODO"
   ]
  },
  {
   "cell_type": "markdown",
   "metadata": {},
   "source": [
    "### Generating a Quality Control Report with the `fastqc` Program\n",
    "\n",
    "Now that we've gotten a handle for the FASTQ files that we're evaluating, let's try and assess the quality of the sequencing run that we're looking at! **FastQC** is a program that performs quality checks on raw sequencing data in the form of FASTQ, SAM, or BAM-formatted files. While FastQC has the capability to be used interactively with a graphical user interface (GUI), we'll be using it non-interactively on the command-line!\n",
    "\n",
    "<div class=\"alert alert-block alert-info\">\n",
    "    <p><b>Analysis Modules included in the FastQC Software</b></p>\n",
    "    <p>There are quite a few modules that you'll see in a <code>FastQC</code> report for FASTQ files, so we've summarized what each of them will show you below in the order they will appear in the report for easy reference (this information can also be found in the documentation): </p>\n",
    "    <ol>\n",
    "        <li><b>Basic Statistics</b>:\n",
    "            <br>Simple composition statistics for the file analyzed</li>\n",
    "        <li><b>Per Base Sequence Quality</b>:\n",
    "            <br>Shows and overview of the range of quality values across all bases at each position in the file via a Box-Whisker plot</li>\n",
    "        <li><b>Per Sequence Quality</b>:\n",
    "            <br>Allows you to see if a subset of the sequences in the file have universally low quality values</li>\n",
    "        <li><b>Per Base Sequence Content</b>:\n",
    "            <br>Allows you to see the proportion of each base (e.g., <code>A</code>, <code>C</code>, <code>T</code>, or <code>G</code>) at each position across all sequences in the file</li>\n",
    "        <li><b>Per Sequence GC Content</b>:\n",
    "            <br>Measures the GC% content across the length of the sequence in the file and compares against a modelled normal distribution of GC% content</li>\n",
    "        <li><b>Per Base N Content</b>\n",
    "            <br>Plots the percentage of base calls at each position with a <code>N</code> (<code>N</code>'s are called when the sequencer does not have sufficient confidence to call a base as a specific nucleotide)</li>\n",
    "        <li><b>Sequence Length Distribution</b>:\n",
    "            <br>Generates a graph showing the distribution of fragment sizes in the file</li> \n",
    "        <li><b>Duplicate Sequences</b>:\n",
    "            <br>Plots the relative number of sequences with different degress of duplication in the file</li>\n",
    "        <li><b>Overrepresented Sequences</b>:\n",
    "            <br>Lists all the sequences that make up more than <code>0.1%</code> of the total number of sequences and its matches to common sequencing contaminants</li>\n",
    "        <li><b>Adapter Content</b>:\n",
    "            <br>Plots a cumulative percentage count of the proportion of the library that contains known adapter sequences</li>\n",
    "        <li><b>Kmer Content</b>:\n",
    "            <br>Plots the distribution of top 6 most biased kmers present within the file's sequences</li>\n",
    "        <li><b>Per Tile Sequence Quality</b>: (Note: <i>Only appears in Illumina libraries</i>)\n",
    "            <br>Shows the deviation from the average quality in each flowcell tile</li>\n",
    "    </ol>\n",
    "</div>\n",
    "\n",
    "#### Running the `FastQC` Software on the Command Line\n",
    "\n",
    "Luckily, running the command for `FastQC` is quite simple! Let's start out by making two folders, a `results/` folder to hold all of our results, and a `01_fastqc_output/` folder nested within the `results/` folder to hold our results for this section of the notebook! "
   ]
  },
  {
   "cell_type": "code",
   "execution_count": null,
   "metadata": {},
   "outputs": [],
   "source": [
    "%%bash\n",
    "\n",
    "# Create a folder for results and the fastqc output\n",
    "mkdir -p results/01_fastqc_output/\n",
    "\n",
    "# Run the command to generate fastqc reports for yeast_R1 and yeast_R2 fastq files\n",
    "# and output to the folder we've created \n",
    "TOOL data/yeast_R1.fastq data/yeast_R2.fastq -o results/01_fastqc_output"
   ]
  },
  {
   "cell_type": "markdown",
   "metadata": {},
   "source": [
    "With the `ls` command, we can see what files are present in the `results/fastqc_output/` folder! "
   ]
  },
  {
   "cell_type": "code",
   "execution_count": null,
   "metadata": {},
   "outputs": [],
   "source": [
    "%%bash\n",
    "\n",
    "# Show the output of the fastqc command with the ls command\n",
    "CMD -l results/01_fastqc_output/"
   ]
  },
  {
   "cell_type": "markdown",
   "metadata": {},
   "source": [
    "---\n",
    "\n",
    "<div class=\"alert alert-block alert-danger\">\n",
    "    <b>Let's download the output files so we can open the <code>html</code> reports for our FASTQ files in our browser!</b> \n",
    "</div>\n",
    "\n",
    "---"
   ]
  },
  {
   "cell_type": "markdown",
   "metadata": {},
   "source": [
    "## Aligning or Mapping RNA-sequencing FASTQ Reads to the Genome \n",
    "\n",
    "Now that we've assessed the quality control of our reads (and removed any reads we would like to exclude due to contamination if necessary, etc.), we can now try to **align** or **map** our reads to the genome! In general terms, the alignment or mapping step is the process of figuring out *where* in the genome our read sequences are from. \n",
    "\n",
    "<div class=\"alert alert-block alert-info\">\n",
    "    <p>The short read alignment problem is an interesting, but fairly difficult problem for two reasons: (i) the reference genome is large and it is difficult to search large sequences than smaller sequences, and (ii) we generally aren't looking for <i>exact</i> matches within the reference genome.</p>\n",
    "</div>\n",
    "\n",
    "There are two main options that you can follow depending on the availability of a genome sequence: \n",
    "\n",
    "> * When studying an organism with a reference genome, it is possible to infer which transcripts are expressed by mapping the reads to the reference genome (**genome mapping**) or transcriptome (**transcriptome mapping**). Mapping reads to the genome requires no knowledge of the set of transcribed regions or the way in which exons are spliced together. This approach allows the discovery of new, unannotated transcripts.\n",
    "> * When working on an organism without a reference genome, reads need to be assembled first into longer contigs (**de novo assembly**). These contigs can then be considered as the expressed transcriptome to which reads are re-mapped for quantification.\n",
    ">\n",
    "> *Referenced from: https://www.ebi.ac.uk/training-beta/online/courses/functional-genomics-ii-common-technologies-and-data-analysis-methods/rna-sequencing/performing-a-rna-seq-experiment/data-analysis/read-mapping-or-alignment/*\n",
    "\n",
    "While there are many bioinformatics tools available to perform the alignment of short reads, the most common read time found through the Illumina sequencing platform, we'll be learning how to use the software known as `STAR`! \n",
    "\n",
    "<div class=\"alert alert-block alert-warning\">\n",
    "    <p>While <code>STAR</code> has <i>a lot</i> of functionality, we won't be going through each individual function within this notebook. We'll be just be going through the flags that we need to get things running.</p>\n",
    "    <p>We <i>highly encourage</i> you to review the documentation at the following link: <a href=\"https://github.com/alexdobin/STAR/blob/master/doc/STARmanual.pdf\">https://github.com/alexdobin/STAR/blob/master/doc/STARmanual.pdf</a>. (Don't be too intimidated by how long the document is! Reading documentation is a common part of bioinformatics work, so knowing how to parse through all of it is a valuable skill!)</p>\n",
    "</div>"
   ]
  },
  {
   "cell_type": "markdown",
   "metadata": {},
   "source": [
    "### Generating a Genome Index with the `genomeGenerate` Run Mode for `STAR` \n",
    "\n",
    "```\n",
    "--runMode: genomeGenerate mode\n",
    "--genomeDir: /path/to/store/genome_indices\n",
    "--genomeFastaFiles: /path/to/FASTA_file\n",
    "--sjdbGTFfile: /path/to/GTF_file\n",
    "```"
   ]
  },
  {
   "cell_type": "code",
   "execution_count": null,
   "metadata": {},
   "outputs": [],
   "source": [
    "%%bash\n",
    "\n",
    "TOOL --runThreadN 1 \\\n",
    "    --runMode MODE \\\n",
    "    --genomeDir results/ref/ \\\n",
    "    --genomeFastaFiles data/yeast.fasta \\\n",
    "    --genomeSAindexNbases 10 \\\n",
    "    --sjdbGTFfile data/yeast.gtf"
   ]
  },
  {
   "cell_type": "markdown",
   "metadata": {},
   "source": [
    "### Aligning Reads to the Reference Genome with `STAR`\n",
    "\n",
    "```\n",
    "--genomeDir: /path/to/genome_indices_directory\n",
    "--runThreadN: number of threads / cores\n",
    "--readFilesIn: /path/to/FASTQ_file\n",
    "--outFileNamePrefix: prefix for all output files\n",
    "--outSAMtype: output filetype (SAM default)\n",
    "--outSAMunmapped: what to do with unmapped reads\n",
    "```"
   ]
  },
  {
   "cell_type": "code",
   "execution_count": null,
   "metadata": {},
   "outputs": [],
   "source": [
    "%%bash\n",
    "\n",
    "TOOL --runThreadN 1 \\\n",
    "    --genomeDir results/ref/ \\\n",
    "    --readFilesIn data/yeast_R1.fastq data/yeast_R2.fastq \\\n",
    "    --outFileNamePrefix results/02_STAR/yeast \\\n",
    "    --outSAMunmapped Within"
   ]
  },
  {
   "cell_type": "markdown",
   "metadata": {},
   "source": [
    "<div class=\"alert alert-block alert-success\">\n",
    "    <p><b>Exercise:</b> What files were generated by <code>STAR</code> during the alignment step?</p>\n",
    "</div>"
   ]
  },
  {
   "cell_type": "code",
   "execution_count": null,
   "metadata": {},
   "outputs": [],
   "source": [
    "%%bash\n",
    "\n",
    "# TODO"
   ]
  },
  {
   "cell_type": "markdown",
   "metadata": {},
   "source": [
    "Now we know what files were produced by our analysis, let's evaluate one of them! For `STAR` runs, you can find quick diagnostic information from the run under the `*Log.final.out` file that is generated in the output folder. "
   ]
  },
  {
   "cell_type": "code",
   "execution_count": null,
   "metadata": {},
   "outputs": [],
   "source": [
    "%%bash\n",
    "\n",
    "# Use the cat command to print out the contents of the yeastLog.final.out file \n",
    "CMD results/02_STAR/yeastLog.final.out"
   ]
  },
  {
   "cell_type": "markdown",
   "metadata": {},
   "source": [
    "From this output, we can see that we were able to obtain a decent percentage of uniquely-mapped reads from our dataset, and everything was able to align *extremely* quickly--since we're using a small test dataset to demonstrate the commands. Typically, an alignment run, especially those on larger genomes like `Homo sapiens` or `Mus musculus`, would take *much* longer! \n",
    "\n",
    "### Background on the SAM/BAM File Format\n",
    "\n",
    "There are several files generated during alignment, the most important of which is the alignment file itself! Alignment files can come in either a `SAM` (Sequence Alignment/Map) or in their compressed counterpart, the `BAM` (Binary Alignment/Map) format. While originally developed to be a text-based method for storing biological sequences aligned to a reference sequence, they have also been adapted to support unmapped sequences! \n",
    "\n",
    "Generally, the SAM format consists of a header and a subsequent alignment section and SAM files are typically analyzed and edited using the `SAMtools` software suite. Header lines begin with the `@` symbol in order to distinguish them from the alignment section. "
   ]
  },
  {
   "cell_type": "code",
   "execution_count": null,
   "metadata": {},
   "outputs": [],
   "source": [
    "%%bash\n",
    "\n",
    "# Let's preview the sam file that we generated with the head command!\n",
    "CMD results/02_STAR/yeastAligned.out.sam "
   ]
  },
  {
   "cell_type": "markdown",
   "metadata": {},
   "source": [
    "With this, we can see a preview of some of the header lines within the file. Let's try and view some of the alignment lines instead by deselecting these lines with `grep -v` and using head again! "
   ]
  },
  {
   "cell_type": "code",
   "execution_count": null,
   "metadata": {},
   "outputs": [],
   "source": [
    "%%bash\n",
    "\n",
    "# Deselect header lines from the sam file, and then pipe the output to head\n",
    "CMD -v ^@ results/02_STAR/yeastAligned.out.sam | CMD"
   ]
  },
  {
   "cell_type": "markdown",
   "metadata": {},
   "source": [
    "From our output of the alignment section of our file, we can see that there are quite a few columns present! Here's a handy table containing what each column is: \n",
    "\n",
    "---\n",
    "\n",
    "![SAM Alignment Column Information](https://www.michaelchimenti.com/wp-content/uploads/2018/06/sequence_string_sam-768x381.png)\n",
    "\n",
    "*Referenced from: https://www.michaelchimenti.com/2018/06/three-useful-references-decode-sam-files/*\n",
    "\n",
    "---"
   ]
  },
  {
   "cell_type": "markdown",
   "metadata": {},
   "source": [
    "<div class=\"alert alert-block alert-info\">\n",
    "    <p>Again, we won't be going over <i>all</i> of the functionality of <code>samtools</code>, but you can find most of the information for how to use the package within its documentation at the following link: <a href=\"http://www.htslib.org/\">http://www.htslib.org/</a></p>\n",
    "    <p>Aaron Quinlan, Ph.D. at the University of Utah has also developed a wonderful tutorial website for using <code>samtools</code> to manipulate and view SAM- and BAM-formatted files: <a href=\"http://quinlanlab.org/tutorials/samtools/samtools.html\">http://quinlanlab.org/tutorials/samtools/samtools.html</a>!</p>\n",
    "</div>\n",
    "\n",
    "---"
   ]
  },
  {
   "cell_type": "markdown",
   "metadata": {},
   "source": [
    "## Sorting and Indexing Aligned Sequencing Reads with `samtools`\n",
    "\n",
    "With our reads aligned and stored in the SAM file format, we can now convert our alignment file to BAM file format (the binary alternative to the plain-text SAM file format), **sort** and **index** the alignment file. \n",
    "\n",
    "### Converting Between the SAM and BAM File Formats using the `samtools view` Command\n",
    "\n",
    "Generally, to do anything useful with alignment data, we need to first convert our SAM files to the BAM file format as the binary format is much easier for computers to work with in a more efficient manner. However, this makes the files *unreadable* to us humans. We can easily convert between the two files formats using the `samtools view` command. \n",
    "\n",
    "#### Converting from SAM to BAM \n",
    "\n",
    "To convert from SAM to BAM format, we must specify that our input file is a SAM file as the expected input is a BAM file. We can then use the UNIX redirect operator, `>`, to redirect the output to a file instead of printing the results to the terminal (or in our case, the Jupyter notebook!)."
   ]
  },
  {
   "cell_type": "code",
   "execution_count": null,
   "metadata": {},
   "outputs": [],
   "source": [
    "%%bash\n",
    "\n",
    "# Create a folder to hold the outputs for this section of the notebook\n",
    "mkdir -p results/03_samtools/\n",
    "\n",
    "# Use the samtools view command to convert our SAM output to BAM instead\n",
    "TOOL CMD -S -b results/02_STAR/yeastAligned.out.sam > results/03_samtools/yeastAligned.out.bam"
   ]
  },
  {
   "cell_type": "markdown",
   "metadata": {},
   "source": [
    "#### Converting from BAM to SAM\n",
    "\n",
    "If we wanted to move in the opposite direction and convert from BAM to SAM, we could use the `samtools view` command again, but this time it's a little simpler as we don't need to provide any flags! "
   ]
  },
  {
   "cell_type": "code",
   "execution_count": null,
   "metadata": {},
   "outputs": [],
   "source": [
    "%%bash\n",
    "\n",
    "# Use the samtools view command to preview our BAM file as a SAM file \n",
    "TOOL CMD results/03_samtools/yeastAligned.out.bam | head"
   ]
  },
  {
   "cell_type": "markdown",
   "metadata": {},
   "source": [
    "<div class=\"alert alert-block alert-info\">\n",
    "    <p>If you wanted to save the BAM file as a SAM file, you could pipe the output to a location of your choice similar to how we did for the SAM to BAM file conversion!</p>\n",
    "</div>\n",
    "\n",
    "### Sorting BAM Files with the `samtools sort` Command\n",
    "\n",
    "You might have noticed that when we previewed our SAM files, our alignments were *not* in order by their chromosomal position. When you align FASTQ files, the alignments are produced in random order with respect to their position in the reference genome as they follow the order that the sequences occured in the input FASTQ files! \n",
    "\n",
    "In order to do anything useful, we must sort the alignments to they are ordered positionally according to their coordinates on the genome, or \"genome order\". We can sort our files using the `samtools` sort command!"
   ]
  },
  {
   "cell_type": "code",
   "execution_count": null,
   "metadata": {},
   "outputs": [],
   "source": [
    "%%bash\n",
    "\n",
    "# Sort our BAM file using samtools sort and save the output to a new file\n",
    "TOOL CMD results/03_samtools/yeastAligned.out.bam > results/03_samtools/yeastAligned.out.sorted.bam"
   ]
  },
  {
   "cell_type": "markdown",
   "metadata": {},
   "source": [
    "### Indexing BAM Files with the `samtools index` Command\n",
    "\n",
    "Now that our BAM file is sorted by chromosomal coordinates, we can **index** it! Indexing a sorted BAM file allows us to quickly extract alignments that overlap particular genomic coordinates. It's also an important step to do as it's often required by genome viewers, such as IGV (http://software.broadinstitute.org/software/igv/), so that these software tools can quickly display alignments in each genomic region that you navigate to using their graphic interface! \n",
    "\n",
    "Indexing BAM files creates a new companion file format, known as the `BAI` file format (Binary Alignment Index), and can be easily created using the `samtools index` command. "
   ]
  },
  {
   "cell_type": "code",
   "execution_count": null,
   "metadata": {},
   "outputs": [],
   "source": [
    "%%bash\n",
    "\n",
    "# Index our BAM file using samtools index and save the output to our desired location\n",
    "TOOL CMD results/03_samtools/yeastAligned.out.sorted.bam results/03_samtools/yeastAligned.out.sorted.bai"
   ]
  },
  {
   "cell_type": "markdown",
   "metadata": {},
   "source": [
    "<div class=\"alert alert-block alert-info\">\n",
    "    <p>Different from the <code>samtools view</code> and <code>samtools sort</code> commands, to specify an output location and filename for the <code>samtools index</code> command, you do not need to use the redirect operator (<code>></code>). To learn more, you can also view the <code>man</code> pages for <code>samtools</code> on the terminal!</p>\n",
    "</div>\n",
    "\n",
    "### Viewing Practical Summary Information about Alignments with the `samtools flagstat` Command\n",
    "\n",
    "Finally, sometimes you would like learn some basic statistics about the alignments in your BAM file! An easy way to do that is using the `samtools flagstat` command. This command parses through the bitwise `FLAG` column of all of your alignments and determines information such as the number of total reads, duplicate reads, mapped reads, paired reads, etc.! "
   ]
  },
  {
   "cell_type": "code",
   "execution_count": null,
   "metadata": {},
   "outputs": [],
   "source": [
    "%%bash\n",
    "\n",
    "# Use the samtools flagstat command to view summary statistics of the BAM file\n",
    "TOOL CMD results/03_samtools/yeastAligned.out.sorted.bam"
   ]
  },
  {
   "cell_type": "markdown",
   "metadata": {},
   "source": [
    "---\n",
    "\n",
    "## Generating a Quality Report for Aligned Files using `FastQC` \n",
    "\n",
    "Now that we've generated our alignments and sorted them, we can generate a quality report for them as well to view in the browser! Luckily, we already know how to do this--we can use the `FastQC` software once again!"
   ]
  },
  {
   "cell_type": "code",
   "execution_count": null,
   "metadata": {},
   "outputs": [],
   "source": [
    "%%bash\n",
    "\n",
    "# Generate another folder for FastQC output \n",
    "mkdir -p results/04_fastqc_output_alignments/\n",
    "\n",
    "# Use fastqc to calculate quality control statistics for our alignment file \n",
    "TOOL results/03_samtools/yeastAligned.out.sorted.bam -o results/04_fastqc_output_alignments/"
   ]
  },
  {
   "cell_type": "markdown",
   "metadata": {},
   "source": [
    "<div class=\"alert alert-block alert-warning\">\n",
    "    <p>We'll skip inspecting this output for now and will save it for the end!</p>\n",
    "</div>\n",
    "\n",
    "---"
   ]
  },
  {
   "cell_type": "markdown",
   "metadata": {},
   "source": [
    "## Generating a Gene Expression Counts Matrix using the `featureCounts` Program\n",
    "\n",
    "The final step of the command-line portion for RNA-sequencing data processing is determining the number of reads have mapped to each gene. \n",
    "\n",
    "While there are many tools that can use BAM files as input and output the number of reads (or counts) associated with each feature of interest (e.g., genes, exons, transcripts, promoters, etc.), one commonly used tool is `featureCounts`. \n",
    "\n",
    "<div class=\"alert alert-block alert-info\">\n",
    "    <p>While <code>featureCounts</code> reports the \"raw\" counts of reads that map to a single location (unique mappings), it is best used for counting at the gene level and sum the number of reads associated with each of the exons belonging to a specific gene. There are some cases where you would like to use other tools to consider different cases, such as accounting for multiple transcripts for a given gene, or considering transcripts that can map to multiple regions of a genome.</p>\n",
    "</div>\n",
    "\n",
    "Generally, during this step, the genomic coordinates of where the read is mapped (contained within the BAM file) are cross-referenced with the genomic coordinates of features (contained within GTF files), such as exons, genes, or transcripts. In our case, we are considering **genes** as our features!\n",
    "\n",
    "---\n",
    "\n",
    "![Comparison Between GTF File and Read Alignment](img/day1_05_counts-matrix-gtf-diagram.png)\n",
    "\n",
    "*Referenced from: https://hbctraining.github.io/Intro-to-rnaseq-hpc-O2/lessons/05_counting_reads.html*\n",
    "\n",
    "---"
   ]
  },
  {
   "cell_type": "markdown",
   "metadata": {},
   "source": [
    "Generally, `featureCounts` takes three inputs: \n",
    "\n",
    "- `-a` genome annotation file (`GTF`) where each entry is a feature\n",
    "- `-o` output counts file\n",
    "- the last parameter below is the input read file (`bam`)"
   ]
  },
  {
   "cell_type": "code",
   "execution_count": null,
   "metadata": {},
   "outputs": [],
   "source": [
    "%%bash\n",
    "\n",
    "# Create a directory to hold the output for this portion of the notebook\n",
    "mkdir -p results/05_featureCounts/\n",
    "\n",
    "# Run the featureCounts command to generate our counts matrix\n",
    "TOOOL -a data/yeast.gtf -p \\\n",
    "    -o results/05_featureCounts/counts.txt \\\n",
    "    results/03_samtools/yeastAligned.out.sorted.bam"
   ]
  },
  {
   "cell_type": "markdown",
   "metadata": {},
   "source": [
    "<div class=\"alert alert-block alert-success\">\n",
    "    <p><b>Exercise:</b> What are the contents of the <code>featureCounts</code> summary file that was generated?</p>\n",
    "</div>"
   ]
  },
  {
   "cell_type": "code",
   "execution_count": null,
   "metadata": {},
   "outputs": [],
   "source": [
    "%%bash\n",
    "\n",
    "#TODO\n"
   ]
  },
  {
   "cell_type": "markdown",
   "metadata": {},
   "source": [
    "---\n",
    "\n",
    "## Generate a Summary Quality Control Document with `MultiQC` \n",
    "\n",
    "Now that we've finished running all of the command-line portions of the RNA-sequencing analysis pipeline, instead of viewing quality reports separately, we can consolidate everything into a single document using the `MultiQC` program! `MultiQC` is a tool that aggregates quality reports from commonly-used bioinformatics programs into a single HTML document that can be used as a quick reference for an experiment, shared with collaborators, or just used to make you look cool! It visualizes statistics from different steps in the pipeline, plots multiple samples together, and is also well-documented via their GitHub page! "
   ]
  },
  {
   "cell_type": "code",
   "execution_count": null,
   "metadata": {},
   "outputs": [],
   "source": [
    "%%bash\n",
    "\n",
    "# Use the multiqc results command to generate summary reports for our data files \n",
    "TOOL CMD -o results/06_multiqc_output"
   ]
  },
  {
   "cell_type": "markdown",
   "metadata": {},
   "source": [
    "---\n",
    "\n",
    "<div class=\"alert alert-block alert-danger\">\n",
    "    <b>Let's download the output files so we can open the <code>html</code> reports for our entire RNA-sequencing analysis pipeline in our browser!</b> \n",
    "</div>"
   ]
  }
 ],
 "metadata": {
  "kernelspec": {
   "display_name": "Python [conda env:rna-seq]",
   "language": "python",
   "name": "conda-env-rna-seq-py"
  },
  "language_info": {
   "codemirror_mode": {
    "name": "ipython",
    "version": 3
   },
   "file_extension": ".py",
   "mimetype": "text/x-python",
   "name": "python",
   "nbconvert_exporter": "python",
   "pygments_lexer": "ipython3",
   "version": "3.12.1"
  }
 },
 "nbformat": 4,
 "nbformat_minor": 4
}
