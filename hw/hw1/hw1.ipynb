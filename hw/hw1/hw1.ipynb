{
 "cells": [
  {
   "cell_type": "markdown",
   "id": "574fb33a-f3b5-477b-8c00-e139267063dc",
   "metadata": {
    "id": "574fb33a-f3b5-477b-8c00-e139267063dc"
   },
   "source": [
    "# Homework 1: Statistics and RNA-seq\n",
    "The modules for this assignment were taught by Professor Graham McVicker and Professor Robert Morey."
   ]
  },
  {
   "cell_type": "markdown",
   "id": "09d229ac-c7d4-4a80-857e-f7f3c0d2a2ce",
   "metadata": {
    "id": "09d229ac-c7d4-4a80-857e-f7f3c0d2a2ce"
   },
   "source": [
    "**Name:** *your_name_here*\n",
    "\n",
    "**PID:** *your_PID_here*"
   ]
  },
  {
   "cell_type": "markdown",
   "id": "5cb2e080-dbbb-4b34-9c97-f499b5c0cd62",
   "metadata": {
    "id": "5cb2e080-dbbb-4b34-9c97-f499b5c0cd62"
   },
   "source": [
    "## Instructions"
   ]
  },
  {
   "cell_type": "markdown",
   "id": "f218b62d-b116-4ce4-aaa3-0da161ef9509",
   "metadata": {
    "id": "f218b62d-b116-4ce4-aaa3-0da161ef9509"
   },
   "source": [
    "Answer the following questions in your own words using a Jupyter notebook and upload a PDF of your code and written answers to Gradescope. Make sure to write your name and PID at the start of your answers. This assignment is due 2/1/24 at 9:00AM."
   ]
  },
  {
   "cell_type": "markdown",
   "id": "7fb0b8c3-2591-4767-9947-82a89a4d2f6c",
   "metadata": {
    "id": "7fb0b8c3-2591-4767-9947-82a89a4d2f6c"
   },
   "source": [
    "See this document for instructions on creating a Jupyter notebook:\n",
    "\n",
    "https://docs.google.com/document/d/15Ux16sVp9EsBU_tJiqCMJnrqqjuBor5s/edit?usp=sharing&ouid=102134196267797631717&rtpof=true&sd=true\n",
    "\n",
    "Please use the cmm262-notebook:stats environment for this assignment. Use the R[conda env:stats] kernel for Part 1."
   ]
  },
  {
   "cell_type": "markdown",
   "id": "f4e19df5-dd4b-47b9-8db7-b3704b4f4a31",
   "metadata": {
    "id": "f4e19df5-dd4b-47b9-8db7-b3704b4f4a31"
   },
   "source": [
    "## Part 1: Statistics"
   ]
  },
  {
   "cell_type": "markdown",
   "id": "c447d03d-ce3b-4cd1-be12-d56995e32993",
   "metadata": {
    "id": "c447d03d-ce3b-4cd1-be12-d56995e32993"
   },
   "source": [
    "Reminder to switch your kernel to R [conda env:stats] for Part 1.\n",
    "\n",
    "Flora colossus is a plant-like organism native to the planet X. This species is capable of human speech but their vocabulary consists solely of three words: \"I\", \"am\", and their name. It is thought that F. colossus can communicate a vast array of complex thoughts and expressions through the pitch and intonation of these three words, but an exact translation has not yet been thoroughly explored.\n",
    "\n",
    "In an attempt at decoding these rules, scientists asked an F. colossus named Groot to translate a set of 50 words carrying either a negative (neg) or positive (pos) connotation (con). They recorded the responses to each word, and extracted the highest pitch from each response. Their data appears in the file colossus_pitch.csv"
   ]
  },
  {
   "cell_type": "markdown",
   "id": "71ad2381-9db2-4362-bc1f-066450ca0d4c",
   "metadata": {
    "id": "71ad2381-9db2-4362-bc1f-066450ca0d4c"
   },
   "source": [
    "The following questions refer to this file:\n"
   ]
  },
  {
   "cell_type": "code",
   "execution_count": null,
   "id": "931d2d87-e45b-4b38-ad6a-6eb12d2089a5",
   "metadata": {
    "id": "931d2d87-e45b-4b38-ad6a-6eb12d2089a5",
    "vscode": {
     "languageId": "r"
    }
   },
   "outputs": [],
   "source": [
    "# let's load the data into a variable named \"data\"\n",
    "data = read.csv(\"colossus_pitch.csv\")\n",
    "head(data)"
   ]
  },
  {
   "cell_type": "markdown",
   "id": "3d711116-480b-45e4-8470-cee37dbcbd0c",
   "metadata": {
    "id": "3d711116-480b-45e4-8470-cee37dbcbd0c"
   },
   "source": [
    "### Problem 1"
   ]
  },
  {
   "cell_type": "markdown",
   "id": "abe61ce9-04e3-47a2-b7e9-1738ecbf6d4c",
   "metadata": {
    "id": "abe61ce9-04e3-47a2-b7e9-1738ecbf6d4c"
   },
   "source": [
    "Plot two histograms for the pitches in response to 1) the negative words and 2) the positive words. Please label your axes. Based on the plots, do you think there is a significant difference between the two variables? Justify your reasoning. (3 points)"
   ]
  },
  {
   "cell_type": "markdown",
   "id": "8a7bcb1d-4296-4795-b4d8-439d67fc168f",
   "metadata": {
    "id": "8a7bcb1d-4296-4795-b4d8-439d67fc168f"
   },
   "source": [
    "ANSWER:"
   ]
  },
  {
   "cell_type": "code",
   "execution_count": null,
   "id": "5291ef68-8591-4e46-b17e-17b4e4e13fa2",
   "metadata": {
    "id": "5291ef68-8591-4e46-b17e-17b4e4e13fa2",
    "vscode": {
     "languageId": "r"
    }
   },
   "outputs": [],
   "source": []
  },
  {
   "cell_type": "markdown",
   "id": "9b9f4be5-c993-4c54-80dd-b85a988b0973",
   "metadata": {},
   "source": []
  },
  {
   "cell_type": "markdown",
   "id": "49e22ab9-0217-4a21-83c8-a3a3022a0c5b",
   "metadata": {
    "id": "49e22ab9-0217-4a21-83c8-a3a3022a0c5b"
   },
   "source": [
    "### Problem 2"
   ]
  },
  {
   "cell_type": "markdown",
   "id": "a060d8e7-f5b9-4c59-a114-6b82676da6a3",
   "metadata": {
    "id": "a060d8e7-f5b9-4c59-a114-6b82676da6a3"
   },
   "source": [
    "Report the mean and standard deviation of the pitches for 1) the negative words and 2) the positive words. (2 points)"
   ]
  },
  {
   "cell_type": "code",
   "execution_count": null,
   "id": "78301589-5d6c-4087-b798-7f2872635745",
   "metadata": {
    "id": "78301589-5d6c-4087-b798-7f2872635745",
    "vscode": {
     "languageId": "r"
    }
   },
   "outputs": [],
   "source": []
  },
  {
   "cell_type": "markdown",
   "id": "a093b4c0-384a-4d9d-87cb-0c3ff539e879",
   "metadata": {
    "id": "a093b4c0-384a-4d9d-87cb-0c3ff539e879"
   },
   "source": [
    "### Problem 3"
   ]
  },
  {
   "cell_type": "markdown",
   "id": "9b5217f2-17a7-4d51-8c3c-0b2b01824c14",
   "metadata": {
    "id": "9b5217f2-17a7-4d51-8c3c-0b2b01824c14"
   },
   "source": [
    "The scientists think that F. colossus will respond with a lower pitch to words carrying a negative connotation and a higher pitch to words carrying a positive connotation.\n",
    "\n",
    "Use your results from the previous question to calculate a z-score for this hypothesis. (1 point)"
   ]
  },
  {
   "cell_type": "markdown",
   "id": "f6d51f93-abd8-4b9d-92c1-420211cea703",
   "metadata": {
    "id": "f6d51f93-abd8-4b9d-92c1-420211cea703"
   },
   "source": [
    "ANSWER:"
   ]
  },
  {
   "cell_type": "code",
   "execution_count": null,
   "id": "4baf6c56-a558-4c83-beb6-31cfc6164e43",
   "metadata": {
    "id": "4baf6c56-a558-4c83-beb6-31cfc6164e43",
    "vscode": {
     "languageId": "r"
    }
   },
   "outputs": [],
   "source": []
  },
  {
   "cell_type": "markdown",
   "id": "b2a0b503-ea68-46c7-bbca-8e526b84d569",
   "metadata": {
    "id": "b2a0b503-ea68-46c7-bbca-8e526b84d569"
   },
   "source": [
    "### Problem 4"
   ]
  },
  {
   "cell_type": "markdown",
   "id": "0dd37635-93d8-48f0-bc69-b79f0baeed6f",
   "metadata": {
    "id": "0dd37635-93d8-48f0-bc69-b79f0baeed6f"
   },
   "source": [
    "Perform a two-sided z-test and compute the p-value using the pnorm() function. Use the results of the prior question as your test statistic. (1 point)"
   ]
  },
  {
   "cell_type": "markdown",
   "id": "4329fd24-2642-4b3b-a7ab-626ef5a58f3a",
   "metadata": {
    "id": "4329fd24-2642-4b3b-a7ab-626ef5a58f3a"
   },
   "source": [
    "ANSWER:"
   ]
  },
  {
   "cell_type": "code",
   "execution_count": null,
   "id": "c6fcae47-66b4-40d1-8476-b0884d460138",
   "metadata": {
    "id": "c6fcae47-66b4-40d1-8476-b0884d460138",
    "vscode": {
     "languageId": "r"
    }
   },
   "outputs": [],
   "source": []
  },
  {
   "cell_type": "markdown",
   "id": "a1bdff0b-1bde-4727-87af-c2bfc0fd8821",
   "metadata": {
    "id": "a1bdff0b-1bde-4727-87af-c2bfc0fd8821"
   },
   "source": [
    "### Problem 5"
   ]
  },
  {
   "cell_type": "markdown",
   "id": "f2225ff7-fb3a-4e6b-b9d7-cf84dd131b02",
   "metadata": {
    "id": "f2225ff7-fb3a-4e6b-b9d7-cf84dd131b02"
   },
   "source": [
    "Under the threshold $\\alpha=0.05$, is this a significant result? Was the scientists' hypothesis correct? (1 point)"
   ]
  },
  {
   "cell_type": "markdown",
   "id": "2dc7cfcd-f197-490c-b9ce-830d58c071a7",
   "metadata": {
    "id": "2dc7cfcd-f197-490c-b9ce-830d58c071a7"
   },
   "source": [
    "ANSWER:"
   ]
  },
  {
   "cell_type": "markdown",
   "id": "6e885b17-8926-4b26-bd0e-25d66130acc4",
   "metadata": {
    "id": "6e885b17-8926-4b26-bd0e-25d66130acc4"
   },
   "source": []
  },
  {
   "cell_type": "markdown",
   "id": "b905bc50-96fc-4d71-99c7-03ac1159deda",
   "metadata": {
    "id": "b905bc50-96fc-4d71-99c7-03ac1159deda"
   },
   "source": [
    "### Problem 6"
   ]
  },
  {
   "cell_type": "markdown",
   "id": "8f267c38-1cee-468d-94dc-ac77157d76c7",
   "metadata": {
    "id": "8f267c38-1cee-468d-94dc-ac77157d76c7"
   },
   "source": [
    "Let's say that we decide to use a t-test instead of a z-test. What kind of distribution are we assuming that the sample means (of the pitches) follow now? Are we now more or less likely to reject the null hypothesis? For full credit, please justify your response. (3 points)"
   ]
  },
  {
   "cell_type": "markdown",
   "id": "65b04aa4-ff11-4abe-9bfb-afd5ca253778",
   "metadata": {
    "id": "65b04aa4-ff11-4abe-9bfb-afd5ca253778"
   },
   "source": [
    "ANSWER:"
   ]
  },
  {
   "cell_type": "markdown",
   "id": "3e863d00-aed8-451e-9730-4a94b742da0a",
   "metadata": {
    "id": "3e863d00-aed8-451e-9730-4a94b742da0a"
   },
   "source": []
  },
  {
   "cell_type": "markdown",
   "id": "31ee667f",
   "metadata": {
    "id": "31ee667f"
   },
   "source": [
    "## Part 2: RNA-seq"
   ]
  },
  {
   "cell_type": "markdown",
   "id": "23a0b6cc",
   "metadata": {
    "id": "23a0b6cc"
   },
   "source": [
    "### Problem 7"
   ]
  },
  {
   "cell_type": "markdown",
   "id": "4eb7a64d",
   "metadata": {
    "id": "4eb7a64d"
   },
   "source": [
    "For the following main steps of a full differential expression RNA-seq analysis, explain the purpose of what is done computationally and give an example of a tool you would use (if relevant). (3 sentence limit for each step) (4 points)\n",
    "\n",
    "a. QC the FASTQ files\n",
    "\n",
    "b. Align the FASTQ files\n",
    "\n",
    "c. Sort and index the aligned reads\n",
    "\n",
    "d. QC the bam file\n",
    "\n",
    "e. Count reads for every gene\n",
    "\n",
    "f. Normalize the counts\n",
    "\n",
    "g. Perform differential expression analysis\n",
    "\n",
    "h. Visualize the results"
   ]
  },
  {
   "cell_type": "markdown",
   "id": "adfd346f",
   "metadata": {
    "id": "adfd346f"
   },
   "source": [
    "ANSWER:"
   ]
  },
  {
   "cell_type": "markdown",
   "id": "b2b61d0c",
   "metadata": {
    "id": "b2b61d0c"
   },
   "source": []
  },
  {
   "cell_type": "markdown",
   "id": "6ee3e59c",
   "metadata": {
    "id": "6ee3e59c"
   },
   "source": [
    "### Problem 8"
   ]
  },
  {
   "cell_type": "markdown",
   "id": "a90af2f6",
   "metadata": {
    "id": "a90af2f6"
   },
   "source": [
    "Before loading your data into DESeq2 to perform your differential expression analysis, do you need to normalize your count matrix? If not, why not? (2 points)"
   ]
  },
  {
   "cell_type": "markdown",
   "id": "5887f687",
   "metadata": {
    "id": "5887f687"
   },
   "source": [
    "ANSWER:"
   ]
  },
  {
   "cell_type": "markdown",
   "id": "e561c91d",
   "metadata": {
    "id": "e561c91d"
   },
   "source": []
  },
  {
   "cell_type": "markdown",
   "id": "d1d2a274",
   "metadata": {
    "id": "d1d2a274"
   },
   "source": [
    "### Problem 9"
   ]
  },
  {
   "cell_type": "markdown",
   "id": "bf717556",
   "metadata": {
    "id": "bf717556"
   },
   "source": [
    "Given the gene expression table below with read counts for Rep1, Rep2, and Rep3, which two samples are the most similar to one another? (Hint: Calculate TPMs and sum the absolute value of TPM differences between every pair of samples. You can also use a scale factor of 10 instead of 1 million) (3 points)"
   ]
  },
  {
   "cell_type": "markdown",
   "id": "75270c98",
   "metadata": {
    "id": "75270c98"
   },
   "source": [
    "| Gene name | Rep 1 | Rep 2 | Rep 3 |\n",
    "|---|---|---|---|\n",
    "| A (2kb) | 15 | 3 | 30 |\n",
    "| B (4kb) | 10 | 22 | 60 |\n",
    "| C (1kb) | 5 | 10 | 15 |\n",
    "| D (10kb) | 0 | 0 | 1 |"
   ]
  },
  {
   "cell_type": "markdown",
   "id": "7ff0e541",
   "metadata": {
    "id": "7ff0e541"
   },
   "source": [
    "ANSWER:"
   ]
  },
  {
   "cell_type": "markdown",
   "id": "ef6390be",
   "metadata": {
    "id": "ef6390be"
   },
   "source": []
  },
  {
   "cell_type": "markdown",
   "id": "d1c86698",
   "metadata": {
    "id": "d1c86698"
   },
   "source": [
    "### Problem 10"
   ]
  },
  {
   "cell_type": "markdown",
   "id": "a15589ed",
   "metadata": {
    "id": "a15589ed"
   },
   "source": [
    "Your collaborator sent you some processed mouse data they wanted you to analyze, but forgot to include the sample annotations so you don’t know what type of mice the samples are from. You do know that Gene_A and Gene_B are upregulated in the knockout (KO) mice compared to the wildtype (WT) mice. Based on the heatmap below, which samples do you think are from the WT and KO groups? Briefly explain your reasoning using the genes. (3 points)"
   ]
  },
  {
   "cell_type": "markdown",
   "id": "ba8f574e",
   "metadata": {
    "id": "ba8f574e"
   },
   "source": [
    "ANSWER:"
   ]
  },
  {
   "cell_type": "markdown",
   "id": "bf475af3",
   "metadata": {
    "id": "bf475af3"
   },
   "source": []
  }
 ],
 "metadata": {
  "colab": {
   "provenance": []
  },
  "kernelspec": {
   "display_name": "R [conda env:stats]",
   "language": "R",
   "name": "conda-env-stats-r"
  },
  "language_info": {
   "codemirror_mode": "r",
   "file_extension": ".r",
   "mimetype": "text/x-r-source",
   "name": "R",
   "pygments_lexer": "r",
   "version": "4.1.3"
  }
 },
 "nbformat": 4,
 "nbformat_minor": 5
}
