{
 "cells": [
  {
   "cell_type": "code",
   "execution_count": null,
   "metadata": {},
   "outputs": [],
   "source": [
    "import numpy as np\n",
    "import pandas as pd\n",
    "\n",
    "import networkx as nx\n",
    "import scipy.stats\n",
    "from statannot import add_stat_annotation\n",
    "from matplotlib_venn import venn3_unweighted\n",
    "\n",
    "import matplotlib.pyplot as plt\n",
    "import seaborn as sns\n",
    "sns.set_style('white')\n",
    "%matplotlib inline\n",
    "\n",
    "import matplotlib as mpl\n",
    "mpl.rcParams['pdf.fonttype'] = 42"
   ]
  },
  {
   "cell_type": "markdown",
   "metadata": {},
   "source": [
    "### Define Functions"
   ]
  },
  {
   "cell_type": "code",
   "execution_count": null,
   "metadata": {},
   "outputs": [],
   "source": [
    "def get_degree_centrality(prots, cent_dict):\n",
    "    cancer_c_arr = list()\n",
    "    mendelian_c_arr = list()\n",
    "    other_c_arr = list()\n",
    "    for unip in prots:\n",
    "        degree = cent_dict[unip]\n",
    "        if unip in cancer_genes:\n",
    "            cancer_c_arr.append([unip, degree])\n",
    "        if unip in omim_genes:\n",
    "            mendelian_c_arr.append([unip, degree])  \n",
    "        if unip not in cancer_genes and unip not in omim_genes:\n",
    "            other_c_arr.append([unip, degree])\n",
    "\n",
    "    arr1 = [[unip,degree*(len(prots)-1),'Cancer\\ndriver'] for unip,degree in cancer_c_arr]\n",
    "    arr2 = [[unip,degree*(len(prots)-1),'Mendelian\\ndisease'] for unip,degree in mendelian_c_arr]\n",
    "    arr3 = [[unip,degree*(len(prots)-1),'Other'] for unip,degree in other_c_arr]\n",
    "    arr_tot = arr1 + arr2 + arr3\n",
    "\n",
    "    cent_df = pd.DataFrame(arr_tot, columns=['unip','degree','type'])\n",
    "    return(cent_df)"
   ]
  },
  {
   "cell_type": "code",
   "execution_count": null,
   "metadata": {},
   "outputs": [],
   "source": [
    "def get_centrality(prots, cent_dict):\n",
    "    cancer_c_arr = list()\n",
    "    mendelian_c_arr = list()\n",
    "    other_c_arr = list()\n",
    "    for unip in prots:\n",
    "        degree = cent_dict[unip]\n",
    "        if unip in cancer_genes:\n",
    "            cancer_c_arr.append([unip, degree])\n",
    "        if unip in omim_genes:\n",
    "            mendelian_c_arr.append([unip, degree])  \n",
    "        if unip not in cancer_genes and unip not in omim_genes:\n",
    "            other_c_arr.append([unip, degree])\n",
    "\n",
    "    arr1 = [[unip,degree,'Cancer\\ndriver'] for unip,degree in cancer_c_arr]\n",
    "    arr2 = [[unip,degree,'Mendelian\\ndisease'] for unip,degree in mendelian_c_arr]\n",
    "    arr3 = [[unip,degree,'Other'] for unip,degree in other_c_arr]\n",
    "    arr_tot = arr1 + arr2 + arr3\n",
    "\n",
    "    cent_df = pd.DataFrame(arr_tot, columns=['unip','degree','type'])\n",
    "    return(cent_df)"
   ]
  },
  {
   "cell_type": "code",
   "execution_count": null,
   "metadata": {},
   "outputs": [],
   "source": [
    "%%bash\n",
    "# create data directory\n",
    "mkdir -p data\n",
    "# create symlink to input data\n",
    "ln -sfn ~/public/networks/NetFeatures-main/data data/NetFeatures\n",
    "# create output directory\n",
    "mkdir -p out/NetFeatures"
   ]
  },
  {
   "cell_type": "markdown",
   "metadata": {},
   "source": [
    "### Read STRING PPI network"
   ]
  },
  {
   "cell_type": "markdown",
   "metadata": {},
   "source": [
    "The following PPI network is downloaded from the STRING database v11 with the following link: https://stringdb-static.org/download/protein.links.detailed.v11.0/9606.protein.links.detailed.v11.0.txt.gz\n",
    "Only the experimentally verified interactions with a confidence score higher than 0.4 (400 in the file) are extracted which produced a network of 12811 proteins with 97376 undirected interactions where proteins are listed using Ensembl Protein IDs. Then these ENSP IDs are converted to UniProt IDs which resulted in some duplicates (and some ENSP IDs do not map to UniProt IDs) which resulted in a PPI network of 11851 proteins with 84114 undirected interactions. This network is used for the following analysis."
   ]
  },
  {
   "cell_type": "code",
   "execution_count": null,
   "metadata": {},
   "outputs": [],
   "source": [
    "string_df = pd.read_table('data/NetFeatures/string_network_experimental_0.4_unips.txt')\n",
    "string_df = string_df.drop_duplicates()\n",
    "print(string_df.shape)\n",
    "string_df.head()"
   ]
  },
  {
   "cell_type": "code",
   "execution_count": null,
   "metadata": {},
   "outputs": [],
   "source": [
    "string_unips = list(np.unique(string_df.values))\n",
    "print(len(string_unips), string_unips[:5])"
   ]
  },
  {
   "cell_type": "markdown",
   "metadata": {},
   "source": [
    "### Read 125 known cancer driver genes from Vogelstein et al., 2013"
   ]
  },
  {
   "cell_type": "markdown",
   "metadata": {},
   "source": [
    "A list of 125 cancer genes is obtained from Vogelstein et al., 2013 (https://pubmed.ncbi.nlm.nih.gov/23539594/) which are listed using HGNC gene symbols. These gene symbols are converted to UniProt protein IDs, which map to 127 proteins used for the following analysis."
   ]
  },
  {
   "cell_type": "code",
   "execution_count": null,
   "metadata": {},
   "outputs": [],
   "source": [
    "infile = open('data/NetFeatures/cancer_genes_vogelstein_unips.txt','r')\n",
    "cancer_genes = infile.read().strip().split('\\n')\n",
    "print(len(cancer_genes), cancer_genes[:5])\n",
    "infile.close()"
   ]
  },
  {
   "cell_type": "markdown",
   "metadata": {},
   "source": [
    "### Read Mendelian genes from the OMIM database"
   ]
  },
  {
   "cell_type": "markdown",
   "metadata": {},
   "source": [
    "A list of 4524 Mendelian genes is obtained from the OMIM database and converted from their original HGNC gene symbols to UniProt protein IDs for the following analysis."
   ]
  },
  {
   "cell_type": "code",
   "execution_count": null,
   "metadata": {},
   "outputs": [],
   "source": [
    "infile = open('data/NetFeatures/omim_genes_unips.txt','r')\n",
    "omim_genes = infile.read().strip().split('\\n')\n",
    "print(len(omim_genes), omim_genes[:5])\n",
    "infile.close()"
   ]
  },
  {
   "cell_type": "markdown",
   "metadata": {},
   "source": [
    "### Look at the overlap between the 3 UniProt protein groups"
   ]
  },
  {
   "cell_type": "code",
   "execution_count": null,
   "metadata": {},
   "outputs": [],
   "source": [
    "print(len(string_unips), string_unips[:5])\n",
    "print(len(cancer_genes), cancer_genes[:5])\n",
    "print(len(omim_genes), omim_genes[:5])"
   ]
  },
  {
   "cell_type": "code",
   "execution_count": null,
   "metadata": {},
   "outputs": [],
   "source": [
    "set1 = set(string_unips)\n",
    "set2 = set(cancer_genes)\n",
    "set3 = set(omim_genes)\n",
    "\n",
    "venn3_unweighted([set1, set2, set3], ('STRING', 'Cancer', 'Mendelian'))\n",
    "plt.show()"
   ]
  },
  {
   "cell_type": "markdown",
   "metadata": {},
   "source": [
    "### Compute network centrality features"
   ]
  },
  {
   "cell_type": "markdown",
   "metadata": {},
   "source": [
    "#### Create a graph"
   ]
  },
  {
   "cell_type": "code",
   "execution_count": null,
   "metadata": {},
   "outputs": [],
   "source": [
    "# The following is the size of the STRING PPI network when using UniProt IDs\n",
    "G = nx.Graph()\n",
    "G.add_edges_from(string_df.values)\n",
    "print(len(G.nodes()))\n",
    "print(len(G.edges()))\n",
    "prots = list(G.nodes())"
   ]
  },
  {
   "cell_type": "code",
   "execution_count": null,
   "metadata": {},
   "outputs": [],
   "source": [
    "print(len(cancer_genes), len(omim_genes), len(prots))"
   ]
  },
  {
   "cell_type": "markdown",
   "metadata": {},
   "source": [
    "#### Compute degree centrality"
   ]
  },
  {
   "cell_type": "code",
   "execution_count": null,
   "metadata": {},
   "outputs": [],
   "source": [
    "degree_dict = nx.degree_centrality(G)"
   ]
  },
  {
   "cell_type": "code",
   "execution_count": null,
   "metadata": {},
   "outputs": [],
   "source": [
    "degree_df = get_degree_centrality(prots, degree_dict)\n",
    "degree_df.head()"
   ]
  },
  {
   "cell_type": "code",
   "execution_count": null,
   "metadata": {},
   "outputs": [],
   "source": [
    "degree_df.to_csv('out/NetFeatures/string_degree.txt',sep='\\t',index=False)"
   ]
  },
  {
   "cell_type": "markdown",
   "metadata": {},
   "source": [
    "#### Compute betweenness centrality"
   ]
  },
  {
   "cell_type": "code",
   "execution_count": null,
   "metadata": {},
   "outputs": [],
   "source": [
    "# takes about 11-12 mins\n",
    "between_dict = nx.betweenness_centrality(G)"
   ]
  },
  {
   "cell_type": "code",
   "execution_count": null,
   "metadata": {},
   "outputs": [],
   "source": [
    "between_df = get_centrality(prots, between_dict)\n",
    "between_df.head()"
   ]
  },
  {
   "cell_type": "code",
   "execution_count": null,
   "metadata": {},
   "outputs": [],
   "source": [
    "between_df.to_csv('out/NetFeatures/string_betweenness.txt',sep='\\t',index=False)"
   ]
  },
  {
   "cell_type": "markdown",
   "metadata": {},
   "source": [
    "#### Compute closeness centrality"
   ]
  },
  {
   "cell_type": "code",
   "execution_count": null,
   "metadata": {},
   "outputs": [],
   "source": [
    "# takes about 3-4 mins\n",
    "close_dict = nx.closeness_centrality(G)"
   ]
  },
  {
   "cell_type": "code",
   "execution_count": null,
   "metadata": {},
   "outputs": [],
   "source": [
    "close_df = get_centrality(prots, close_dict)\n",
    "close_df.head()"
   ]
  },
  {
   "cell_type": "code",
   "execution_count": null,
   "metadata": {},
   "outputs": [],
   "source": [
    "close_df.to_csv('out/NetFeatures/string_closeness.txt',sep='\\t',index=False)"
   ]
  },
  {
   "cell_type": "markdown",
   "metadata": {},
   "source": [
    "#### Compute eigenvector centrality"
   ]
  },
  {
   "cell_type": "code",
   "execution_count": null,
   "metadata": {},
   "outputs": [],
   "source": [
    "eigen_dict = nx.eigenvector_centrality(G,max_iter=1000)"
   ]
  },
  {
   "cell_type": "code",
   "execution_count": null,
   "metadata": {},
   "outputs": [],
   "source": [
    "eigen_df = get_centrality(prots, eigen_dict)\n",
    "eigen_df.head()"
   ]
  },
  {
   "cell_type": "code",
   "execution_count": null,
   "metadata": {},
   "outputs": [],
   "source": [
    "eigen_df.to_csv('out/NetFeatures/string_eigenvector.txt',sep='\\t',index=False)"
   ]
  },
  {
   "cell_type": "markdown",
   "metadata": {},
   "source": [
    "### Figure 2"
   ]
  },
  {
   "cell_type": "code",
   "execution_count": null,
   "metadata": {},
   "outputs": [],
   "source": [
    "mpl.rc('figure', titlesize=10)\n",
    "mpl.rc('axes', labelsize=11)\n",
    "mpl.rc('xtick', labelsize=9)\n",
    "mpl.rc('ytick', labelsize=9)"
   ]
  },
  {
   "cell_type": "code",
   "execution_count": null,
   "metadata": {},
   "outputs": [],
   "source": [
    "x = \"type\"\n",
    "y = \"degree\"\n",
    "order = ['Cancer\\ndriver', 'Mendelian\\ndisease', 'Other']\n",
    "flierprops = dict(markerfacecolor = 'lightgrey', markeredgecolor='lightgrey', markersize = 2)\n",
    "\n",
    "fig = plt.figure(figsize=(8, 2.85))\n",
    "\n",
    "plt.subplot(1, 4, 1)\n",
    "df = degree_df.copy()\n",
    "ax1 = sns.boxplot(x=x, y=y, order=order, data=df, flierprops=flierprops, linewidth=1)\n",
    "plt.xlabel('')\n",
    "plt.ylabel('Degree')\n",
    "plt.xticks(rotation=45)\n",
    "plt.ylim(0,65)\n",
    "add_stat_annotation(ax1, data=df, x=x, y=y, order=order,\n",
    "                    box_pairs=[(\"Cancer\\ndriver\", \"Other\"), (\"Mendelian\\ndisease\", \"Other\"),\n",
    "                              (\"Cancer\\ndriver\", \"Mendelian\\ndisease\")],\n",
    "                    test='Mann-Whitney',\n",
    "                    text_format='star', loc='outside', verbose=2, linewidth=1,\n",
    "                    line_offset=0.08, text_offset=0.1)\n",
    "plt.ylim(0,105)\n",
    "\n",
    "plt.subplot(1, 4, 2)\n",
    "df = between_df.copy()\n",
    "ax2 = sns.boxplot(x=x, y=y, order=order, data=df, flierprops=flierprops, linewidth=1)\n",
    "plt.xlabel('')\n",
    "plt.ylabel('Betweenness')\n",
    "plt.xticks(rotation=45)\n",
    "plt.ylim(0,0.0031)\n",
    "add_stat_annotation(ax2, data=df, x=x, y=y, order=order,\n",
    "                    box_pairs=[(\"Cancer\\ndriver\", \"Other\"), (\"Mendelian\\ndisease\", \"Other\"),\n",
    "                              (\"Cancer\\ndriver\", \"Mendelian\\ndisease\")],\n",
    "                    test='Mann-Whitney',\n",
    "                    text_format='star', loc='outside', verbose=2, linewidth=1,\n",
    "                    line_offset=0.08, text_offset=0.1)\n",
    "plt.ylim(0,0.005)\n",
    "\n",
    "plt.subplot(1, 4, 3)\n",
    "df = close_df.copy()\n",
    "ax3 = sns.boxplot(x=x, y=y, order=order, data=df, flierprops=flierprops, linewidth=1)\n",
    "plt.xlabel('')\n",
    "plt.ylabel('Closeness')\n",
    "plt.xticks(rotation=45)\n",
    "plt.ylim(0.1,0.32)\n",
    "add_stat_annotation(ax3, data=df, x=x, y=y, order=order,\n",
    "                    box_pairs=[(\"Cancer\\ndriver\", \"Other\"), (\"Mendelian\\ndisease\", \"Other\"),\n",
    "                              (\"Cancer\\ndriver\", \"Mendelian\\ndisease\")],\n",
    "                    test='Mann-Whitney',\n",
    "                    text_format='star', loc='outside', verbose=2, linewidth=1,\n",
    "                    line_offset=0.08, text_offset=0.1)\n",
    "plt.ylim(0.1,0.45)\n",
    "\n",
    "plt.subplot(1, 4, 4)\n",
    "df = eigen_df.copy()\n",
    "ax4 = sns.boxplot(x=x, y=y, order=order, data=df, flierprops=flierprops, linewidth=1)\n",
    "plt.xlabel('')\n",
    "plt.ylabel('Eigenvector')\n",
    "plt.xticks(rotation=45)\n",
    "plt.ylim(0,0.00068)\n",
    "add_stat_annotation(ax4, data=df, x=x, y=y, order=order,\n",
    "                    box_pairs=[(\"Cancer\\ndriver\", \"Other\"), (\"Mendelian\\ndisease\", \"Other\"),\n",
    "                              (\"Cancer\\ndriver\", \"Mendelian\\ndisease\")],\n",
    "                    test='Mann-Whitney',\n",
    "                    text_format='star', loc='outside', verbose=2, linewidth=1,\n",
    "                    line_offset=0.08, text_offset=0.1)\n",
    "plt.ylim(0,0.0011)\n",
    "\n",
    "fig.tight_layout()\n",
    "fig.subplots_adjust(wspace=.6)\n",
    "plt.savefig('out/NetFeatures/Fig2.pdf', transparent=True)\n",
    "plt.show()"
   ]
  }
 ],
 "metadata": {
  "kernelspec": {
   "display_name": "Python [conda env:networks]",
   "language": "python",
   "name": "conda-env-networks-py"
  },
  "language_info": {
   "codemirror_mode": {
    "name": "ipython",
    "version": 3
   },
   "file_extension": ".py",
   "mimetype": "text/x-python",
   "name": "python",
   "nbconvert_exporter": "python",
   "pygments_lexer": "ipython3",
   "version": "3.11.0"
  }
 },
 "nbformat": 4,
 "nbformat_minor": 4
}
