{
 "cells": [
  {
   "cell_type": "markdown",
   "id": "6512dd64-63e5-451b-8278-b03095c1d23a",
   "metadata": {},
   "source": [
    "# 10X Genomics - test dataset \"3000 PBMCs From a Healthy Individual\""
   ]
  },
  {
   "cell_type": "markdown",
   "id": "1d33ba23-ffe4-4ac5-8fbf-14a695de6e4f",
   "metadata": {},
   "source": [
    "You can find this data and many other single cell datasets here:\n",
    "\n",
    "https://support.10xgenomics.com/single-cell-gene-expression/datasets/1.1.0/pbmc3k"
   ]
  },
  {
   "cell_type": "markdown",
   "id": "76d7ef1c-eec6-4a2d-9419-80e42a80cdf4",
   "metadata": {},
   "source": [
    "## 1 Import Python packages/libraries to use in analysis"
   ]
  },
  {
   "cell_type": "code",
   "execution_count": null,
   "id": "d417b805-da3d-4894-91ca-661818aa17ba",
   "metadata": {},
   "outputs": [],
   "source": [
    "import scanpy as sc\n",
    "import pandas as pd\n",
    "import numpy as np\n",
    "import scipy as sp\n",
    "import matplotlib.pyplot as plt\n",
    "from matplotlib import rcParams\n",
    "from matplotlib import colors\n",
    "import seaborn as sns\n",
    "import warnings;\n",
    "warnings.filterwarnings('ignore');\n",
    "from gprofiler import GProfiler\n",
    "sc.settings.verbosity = 3 # verbosity: errors (0), warnings (1), info (2), hints (3)\n",
    "sc.settings.set_figure_params(dpi=170, color_map='viridis')  # low dpi (dots per inch) yields small inline figures\n",
    "sc.logging.print_header()\n",
    "results_file = './PBMCs3000.h5ad'\n",
    "results_file_denoised = './PBMCs3000_deno.h5ad'"
   ]
  },
  {
   "cell_type": "markdown",
   "id": "392dcce6-a282-4a05-a597-231d99e2d29c",
   "metadata": {},
   "source": [
    "Load the data"
   ]
  },
  {
   "cell_type": "code",
   "execution_count": null,
   "id": "cc90cea8-bd1b-4719-8f90-452a6659e26b",
   "metadata": {},
   "outputs": [],
   "source": [
    "adata = sc.read_10x_mtx('./PBMC/hg19/',  # the directory with the `.mtx` file\n",
    "    var_names='gene_symbols',                  # use gene symbols for the variable names (variables-axis index)\n",
    "    cache=True)          "
   ]
  },
  {
   "cell_type": "markdown",
   "id": "b57c6bd9-e611-44ac-8b37-7e6b0f886060",
   "metadata": {},
   "source": [
    "Make sure that the gene names are unique"
   ]
  },
  {
   "cell_type": "code",
   "execution_count": null,
   "id": "9c091876-b222-4150-9379-87285b089d6e",
   "metadata": {},
   "outputs": [],
   "source": [
    "adata.var_names_make_unique()  # this is unnecessary if using 'gene_ids'"
   ]
  },
  {
   "cell_type": "markdown",
   "id": "58f73880-1af7-4ba1-9a56-4faae2aa0b22",
   "metadata": {},
   "source": [
    "Take a look at the data"
   ]
  },
  {
   "cell_type": "code",
   "execution_count": null,
   "id": "41e33c0d-d2ac-4cee-bdfc-e3e8315f78a2",
   "metadata": {},
   "outputs": [],
   "source": [
    "adata"
   ]
  },
  {
   "cell_type": "markdown",
   "id": "729338e6-075d-4d73-978e-19ff7d790b58",
   "metadata": {},
   "source": [
    "## 2 Pre-processing "
   ]
  },
  {
   "cell_type": "markdown",
   "id": "376a76ec-bfea-41ad-b521-17703a2edb17",
   "metadata": {},
   "source": [
    "Below, try to run your own pre-processing on the data. Take a look at the mitochondrial content (percent mito), the number of genes in each cell, and the number of reads (counts) in each cell. Next, make thresholding decisions and decide what genes and cells to filter out. Below I have helped with the commands to filter out cells and genes but you need to decide what numbers to enter where you see a \"?\"."
   ]
  },
  {
   "cell_type": "code",
   "execution_count": null,
   "id": "d874ec96-607c-4eee-a0d3-2eb93f1a4968",
   "metadata": {},
   "outputs": [],
   "source": []
  },
  {
   "cell_type": "code",
   "execution_count": null,
   "id": "cc8c07bd-093d-46b2-bb36-c69ff9beb3f8",
   "metadata": {},
   "outputs": [],
   "source": []
  },
  {
   "cell_type": "code",
   "execution_count": null,
   "id": "47954d97-a67c-4515-b300-22df51bcfda3",
   "metadata": {},
   "outputs": [],
   "source": [
    "# Filter cells according to identified QC thresholds:\n",
    "print('Total number of cells: {:d}'.format(adata.n_obs))\n",
    "\n",
    "sc.pp.filter_cells(adata, min_counts = ?)\n",
    "print('Number of cells after min count filter: {:d}'.format(adata.n_obs))\n",
    "\n",
    "sc.pp.filter_cells(adata, max_counts = ?)\n",
    "print('Number of cells after max count filter: {:d}'.format(adata.n_obs))\n",
    "\n",
    "adata = adata[adata.obs['percent_mito'] < ?]\n",
    "print('Number of cells after MT filter: {:d}'.format(adata.n_obs))\n",
    "\n",
    "sc.pp.filter_cells(adata, min_genes = ?)\n",
    "print('Number of cells after gene filter: {:d}'.format(adata.n_obs))"
   ]
  },
  {
   "cell_type": "code",
   "execution_count": null,
   "id": "09137079-bfbf-4696-afbe-29118a081dd9",
   "metadata": {},
   "outputs": [],
   "source": [
    "#Filter genes:\n",
    "print('Total number of genes: {:d}'.format(adata.n_vars))\n",
    "\n",
    "# Min ? cells - filters out ? count genes\n",
    "sc.pp.filter_genes(adata, min_cells=?)\n",
    "print('Number of genes after cell filter: {:d}'.format(adata.n_vars))"
   ]
  }
 ],
 "metadata": {
  "kernelspec": {
   "display_name": "scanpy_2022",
   "language": "python",
   "name": "scanpy_2022"
  },
  "language_info": {
   "codemirror_mode": {
    "name": "ipython",
    "version": 3
   },
   "file_extension": ".py",
   "mimetype": "text/x-python",
   "name": "python",
   "nbconvert_exporter": "python",
   "pygments_lexer": "ipython3",
   "version": "3.10.4"
  }
 },
 "nbformat": 4,
 "nbformat_minor": 5
}
