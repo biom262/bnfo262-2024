{
 "cells": [
  {
   "cell_type": "markdown",
   "id": "129e49f9-d998-4396-804a-e42f897c901c",
   "metadata": {},
   "source": [
    "# BNFO62: Population Genetics, Day 1\n",
    "\n",
    "**Author:** Tiffany Amariuta"
   ]
  },
  {
   "cell_type": "markdown",
   "id": "1f994921-e86e-4da3-ae18-53437ee4bc60",
   "metadata": {},
   "source": [
    "#### Create a symbolic link to the data"
   ]
  },
  {
   "cell_type": "code",
   "execution_count": null,
   "id": "ef8ad18c-1811-4cbb-9940-5d4c22e28bb9",
   "metadata": {},
   "outputs": [],
   "source": [
    "system(\"ln -sfn ~/public/popgen/InClass_Day1 ~/module-10-popgen/Day1/InClass_Day1\")"
   ]
  },
  {
   "cell_type": "markdown",
   "id": "9ed0c49e-f1ce-461c-9349-5f6475888323",
   "metadata": {},
   "source": [
    "#### Load required libraries. Check that these are installed without error"
   ]
  },
  {
   "cell_type": "code",
   "execution_count": null,
   "id": "99b82be4-63c3-42f1-a197-7e5f28a3ed38",
   "metadata": {},
   "outputs": [],
   "source": [
    "library(data.table)\n",
    "library(susieR)"
   ]
  },
  {
   "cell_type": "markdown",
   "id": "4cc69017-b408-46f5-ac20-742319a05d8e",
   "metadata": {},
   "source": [
    "### Today we will be using SuSiE, a tool for fine-mapping analysis. \n",
    "Use the SuSiE tutorial website as a reference: https://stephenslab.github.io/susieR/articles/finemapping_summary_statistics.html\n",
    "\n",
    "Our gene of interest is ENSG00000078403 Chromosome 10: 21,524,646-21,743,630 "
   ]
  },
  {
   "cell_type": "markdown",
   "id": "9b904f88-2c94-4fff-9c9f-28673a17c2a9",
   "metadata": {},
   "source": [
    "**Exercise 1.**\n",
    "\n",
    "Extract summary statistics for Breast Cancer GWAS for only the SNPs in the window corresponding to our gene of interest. \n",
    "1. Find the SNPs that are within 500kb +/- the gene body using the 1000G.EUR.10.bim file \n",
    "2. save this file to variable y, then write table as shown below. "
   ]
  },
  {
   "cell_type": "code",
   "execution_count": null,
   "id": "99a5cb74-eaac-4f10-b14c-b5301ea4d5d8",
   "metadata": {},
   "outputs": [],
   "source": [
    "y <- fread(\"InClass_Day1/UKB_460K.cancer_BREAST.sumstats.gz\", header = T)\n",
    "\n",
    "#### fill in with your code ####\n",
    "\n",
    "write.table(y, file = \"BrCa_GWAS_ENSG00000078403_locus.txt\", row.names = F, col.names = T, sep = \"\\t\", quote = F)\n",
    "system(\"gzip -f BrCa_GWAS_ENSG00000078403_locus.txt\")"
   ]
  },
  {
   "cell_type": "markdown",
   "id": "5f512c08-5e52-4b86-beb9-195ed8168d0e",
   "metadata": {},
   "source": [
    "**Exercise 2.**\n",
    "\n",
    "Make a locus zoom plot using one of SuSiE's built-in functions. A locus zoom plot has genomic coordinate on the x-axis and -log10p-value on the y-axis. "
   ]
  },
  {
   "cell_type": "code",
   "execution_count": null,
   "id": "7880d96c-b26c-4c77-9b85-87d9b46ab69f",
   "metadata": {},
   "outputs": [],
   "source": [
    "#### fill in with your code ####"
   ]
  },
  {
   "cell_type": "markdown",
   "id": "741e3112-e4fd-4192-bf93-2a08ebce6ebe",
   "metadata": {},
   "source": [
    "**Exercise 3.**\n",
    "\n",
    "Run SuSiE to perform fine-mapping of this locus. You will need information about linkage disequilibrium between pairs of variants in order to do this. I have already computed the linkage disequilibrium between pairs of variants in this locus. \n",
    "\n",
    "Once you have run SuSiE, use the susie_plot() function on the output with y = \"PIP\" to visualize the credible set SNPs. \n",
    "\n",
    "How many credible set SNPs did you find? "
   ]
  },
  {
   "cell_type": "code",
   "execution_count": null,
   "id": "f2d9bdf3-1196-4d64-a244-2c87b0f307e0",
   "metadata": {},
   "outputs": [],
   "source": [
    "R <- fread(\"InClass_Day1/LDmatrix_ENSG00000078403_locus.txt.gz\", header = F) #Tiffany did this ahead of time using plink2R and computing LD using 1KG individuals for this locus\n",
    "\n",
    "#### fill in with your code ####"
   ]
  },
  {
   "cell_type": "markdown",
   "id": "a0caa3b7-9069-4630-a84f-4541b31c77e0",
   "metadata": {},
   "source": [
    "**Exercise 4.**\n",
    "\n",
    "What are the genomic coordinates of the putative causal SNPs? "
   ]
  },
  {
   "cell_type": "code",
   "execution_count": null,
   "id": "fa640b37-99db-49b0-baca-182b0fd8d6b4",
   "metadata": {},
   "outputs": [],
   "source": [
    "#### fill in with your code ####"
   ]
  },
  {
   "cell_type": "markdown",
   "id": "22423490-eabc-4584-aa3b-6be7fb962e65",
   "metadata": {},
   "source": [
    "**Exercise 5.**\n",
    "\n",
    "What is L and how does changing L change the output of SuSiE, if at all? Test L = {1,2,3,4,5,6,7,8,9,10}."
   ]
  },
  {
   "cell_type": "code",
   "execution_count": null,
   "id": "9c323b8c-1208-4243-a64b-49073fb44213",
   "metadata": {},
   "outputs": [],
   "source": [
    "#### fill in with your code ####"
   ]
  },
  {
   "cell_type": "markdown",
   "id": "06c89e1c-43c2-43f0-a20c-4402ed5841c6",
   "metadata": {},
   "source": [
    "**Exercise 6.**\n",
    "\n",
    "Is it reasonable that there are this many causal variants in one locus? What else might be going on to explain this behavior? \n"
   ]
  },
  {
   "cell_type": "markdown",
   "id": "94bf5951-e800-4b96-9a7c-270a8f35ad27",
   "metadata": {},
   "source": [
    "ANSWER: "
   ]
  },
  {
   "cell_type": "markdown",
   "id": "9bb3d5dc-cd67-4fb3-b181-3df495c5ca3c",
   "metadata": {},
   "source": [
    "**Exercise 7.**\n",
    "\n",
    "How does run time scale with the number of SNPs in a locus? "
   ]
  },
  {
   "cell_type": "code",
   "execution_count": null,
   "id": "468c5490-8086-4324-9bce-80e138f05a48",
   "metadata": {},
   "outputs": [],
   "source": [
    "#You may use the following function to time your code: \n",
    "\n",
    "start <- proc.time()\n",
    "#run some code \n",
    "elapsed_time <- proc.time() - start\n",
    "elapsed_time <- elapsed_time[3]\n",
    "\n",
    "#### fill in with your code ####"
   ]
  }
 ],
 "metadata": {
  "kernelspec": {
   "display_name": "R [conda env:popgen]",
   "language": "R",
   "name": "conda-env-popgen-r"
  },
  "language_info": {
   "codemirror_mode": "r",
   "file_extension": ".r",
   "mimetype": "text/x-r-source",
   "name": "R",
   "pygments_lexer": "r",
   "version": "4.2.3"
  }
 },
 "nbformat": 4,
 "nbformat_minor": 5
}
