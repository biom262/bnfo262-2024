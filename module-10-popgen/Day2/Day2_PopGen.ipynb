{
 "cells": [
  {
   "cell_type": "markdown",
   "id": "f8fe5635-ceab-4f70-8dbb-14764809a3cb",
   "metadata": {},
   "source": [
    "# BNFO62: Population Genetics, Day 2\n",
    "\n",
    "**Author:** Tiffany Amariuta"
   ]
  },
  {
   "cell_type": "markdown",
   "id": "782f72a6-1a6a-42fc-ac43-190e4e4edaff",
   "metadata": {},
   "source": [
    "#### Copy over the data"
   ]
  },
  {
   "cell_type": "code",
   "execution_count": null,
   "id": "b53baa57-6c13-4259-ba80-631542a8a240",
   "metadata": {},
   "outputs": [],
   "source": [
    "system(\"cp -r ~/public/popgen/InClass_Day2 ~/module-10-popgen/Day2/InClass_Day2\")"
   ]
  },
  {
   "cell_type": "markdown",
   "id": "35f8ccd8-8b5c-4f09-b2c3-f5a10b25c52c",
   "metadata": {},
   "source": [
    "#### Load required libraries\n",
    "Check that these are installed without error. Note, it is okay if plink2R has a warning about Rcpp, the scripts will still run. "
   ]
  },
  {
   "cell_type": "code",
   "execution_count": null,
   "id": "4e3a8e87-a343-49fa-b2d5-7c962fd5c466",
   "metadata": {},
   "outputs": [],
   "source": [
    "library(data.table)\n",
    "library(plink2R) #I followed this: https://github.com/gabraham/plink2R/issues/1#issuecomment-1337177621\n",
    "library(glmnet) #install.packages(\"glmnet\")\n",
    "#library(RcppEigen) #failed to install from source. \n",
    "\n",
    "#check that these are installed (needed for FUSION)\n",
    "library(\"optparse\")\n",
    "library('plink2R')\n",
    "library('glmnet')\n",
    "library('methods')"
   ]
  },
  {
   "cell_type": "markdown",
   "id": "27067ccd-2268-483b-bef6-a74145cb62ea",
   "metadata": {},
   "source": [
    "To prepare this workshop, I have selected a couple genes associated with Alzheimer's disease and Ulcerative Colitis. These genes will be the focus of our TWAS analysis. \n",
    "\n",
    "Our first task will be to run FUSION (http://gusevlab.org/projects/fusion/) to build gene expression prediction models for our TWAS analysis. \n",
    "\n",
    "First, let's explore the gene expression and genotype reference files that I've provided. Please answer question 1 in the chunk below.  "
   ]
  },
  {
   "cell_type": "code",
   "execution_count": null,
   "id": "6ba2e949-57d9-46a9-8bf4-6e247cd34c24",
   "metadata": {},
   "outputs": [],
   "source": [
    "gene1 <- \"ENSG00000158864.12\" #a gene that is implicated in Alzheimer's\n",
    "gene2 <- \"ENSG00000116704.7\" #a gene that is implicated in Ulcerative Colitis\n",
    "\n",
    "list.files()"
   ]
  },
  {
   "cell_type": "code",
   "execution_count": null,
   "id": "5da1db11-16e3-4f14-8a2a-42ec9bdf4312",
   "metadata": {},
   "outputs": [],
   "source": [
    "fam_file <- fread(\"InClass_Day2/1000G.EUR.1.fam\", header = T) #people\n",
    "head(fam_file)"
   ]
  },
  {
   "cell_type": "code",
   "execution_count": null,
   "id": "72df418c-ff80-40f8-9205-2a61b9030037",
   "metadata": {},
   "outputs": [],
   "source": [
    "bim_file <- fread(\"InClass_Day2/1000G.EUR.1.bim\", header = T) #SNPs\n",
    "head(bim_file)"
   ]
  },
  {
   "cell_type": "code",
   "execution_count": null,
   "id": "3fc42db9-264d-4509-a3bd-89db5cc18582",
   "metadata": {},
   "outputs": [],
   "source": [
    "bed_file <- fread(\"InClass_Day2/1000G.EUR.1.bed\", header = T) #genotypes; this will not work because the file is binary, so we use read_plink()\n",
    "head(bed_file)"
   ]
  },
  {
   "cell_type": "code",
   "execution_count": null,
   "id": "35c54e47-3996-451c-9d7f-1b28ba28e08b",
   "metadata": {},
   "outputs": [],
   "source": [
    "genotypes = read_plink(\"InClass_Day2/1000G.EUR.1\",impute=\"avg\") #notice how we don't provide the suffix; read_plink needs the entire trio to read\n",
    "#type this and press tab after the $: head(genotypes$)"
   ]
  },
  {
   "cell_type": "code",
   "execution_count": null,
   "id": "69bdced8-0fa0-4f42-a0c6-52e7c34f5ff8",
   "metadata": {},
   "outputs": [],
   "source": [
    "head(genotypes$fam)"
   ]
  },
  {
   "cell_type": "code",
   "execution_count": null,
   "id": "f5984a05-c0e7-46d5-9b7e-735f7aa1a77f",
   "metadata": {},
   "outputs": [],
   "source": [
    "head(genotypes$bim)"
   ]
  },
  {
   "cell_type": "code",
   "execution_count": null,
   "id": "288fabae-65a8-4c33-9bac-6f8782e77b82",
   "metadata": {},
   "outputs": [],
   "source": [
    "genotypes$bed[1:5,1:5]"
   ]
  },
  {
   "cell_type": "code",
   "execution_count": null,
   "id": "e95c3465-691e-408d-bbba-ddde533318c2",
   "metadata": {},
   "outputs": [],
   "source": [
    "dim(genotypes$bed) "
   ]
  },
  {
   "cell_type": "code",
   "execution_count": null,
   "id": "2306029c-7e94-4563-8613-0479cc8d5699",
   "metadata": {},
   "outputs": [],
   "source": [
    "nrow(genotypes$fam)"
   ]
  },
  {
   "cell_type": "code",
   "execution_count": null,
   "id": "a1d4e534-b5f2-4707-a58a-7e531e148baa",
   "metadata": {},
   "outputs": [],
   "source": [
    "nrow(genotypes$bim)\n",
    "#therefore in bed file genotype matrix, people on the rows, SNPs on the columns"
   ]
  },
  {
   "cell_type": "markdown",
   "id": "173cc61f-9a18-45f1-9534-235799abfd43",
   "metadata": {},
   "source": [
    "#### Question 1: What do the numbers 0, 1, and 2 represent? "
   ]
  },
  {
   "cell_type": "markdown",
   "id": "947b6e9c-a84c-4fe5-945d-0831fda93b46",
   "metadata": {},
   "source": [
    "ANSWER 1: "
   ]
  },
  {
   "cell_type": "markdown",
   "id": "7a62eeb3-f237-4d0b-ad6e-e27c0114f6df",
   "metadata": {},
   "source": [
    "Let's take a look at the alleles in the genotype file. The minor allele frequency is defined as the proportion of alleles seen in the population that are minor. Individuals with genotype = 2 have 2 minor alleles; Individuals with genotype = 1 have 1 minor and 1 major allele; Individuals with genotype = 0 have 2 major alleles. \n",
    "\n",
    "**Exercise 1**: How many rare alleles are there (minor allele frequency < 1%)? How many common alleles are there (minor allele frequency > 5%)? A sanity check that you are doing this analysis right is that if you plot a histogram of the MAF, you will see values ranging from 0 to 0.5. "
   ]
  },
  {
   "cell_type": "code",
   "execution_count": null,
   "id": "9140e559-9c3b-4a36-a363-36d6b5f160f4",
   "metadata": {},
   "outputs": [],
   "source": [
    "#### YOUR CODE HERE ####"
   ]
  },
  {
   "cell_type": "markdown",
   "id": "c8299091-7dba-4b49-9c1d-3b280f250a55",
   "metadata": {},
   "source": [
    "Let's examine the gene expression data. These are gene expression matrices in two tissues relevant to Alheimer's and Ulcerative Colitis. Please answer question 2 in the chunk below. "
   ]
  },
  {
   "cell_type": "code",
   "execution_count": null,
   "id": "32d09ab4-6ddb-45f9-a9f2-3242d73ff5fb",
   "metadata": {},
   "outputs": [],
   "source": [
    "blood_gene_expression <- fread(\"InClass_Day2/GTEx_matrix_blood.txt\", header = T)\n",
    "blood_gene_expression[1:5,1:10]\n",
    "\n",
    "brain_gene_expression <- fread(\"InClass_Day2/GTEx_matrix_brain.txt\", header = T)\n",
    "brain_gene_expression[1:5,1:10]"
   ]
  },
  {
   "cell_type": "markdown",
   "id": "5ea04b7b-3a6d-4073-85b3-eb567e52ba48",
   "metadata": {},
   "source": [
    "#### Question 2: What are on the columns? What are on the rows?\n",
    "\n",
    "ANSWER 2: \n",
    "\n",
    "*Note - I took a sample of genes for this exercise; ordinarily there will be ~20K genes in total per tissue.*"
   ]
  },
  {
   "cell_type": "code",
   "execution_count": null,
   "id": "65f503cf-e1cc-4801-b1ad-f5056afd903b",
   "metadata": {},
   "outputs": [],
   "source": [
    "#### YOUR CODE HERE ####"
   ]
  },
  {
   "cell_type": "markdown",
   "id": "8e057ba8-dbd7-4a6a-890d-35b037f4656d",
   "metadata": {},
   "source": [
    "Let's examine the genotype data for the people for which gene expression was measured. I previously extracted the SNPs in a cis window (+/- 500 kb) around our genes of interest. Let's look at one of these genes: ENSG00000158864.12. Most genes will be expressed in multiple tissues, e.g. in both blood and brain tissue that we are considering in this exercise. But not all individuals will have donated each type of tissue, so there will be different individuals in the brain versus blood datasets. Given this, please answer the question in the chunk below. "
   ]
  },
  {
   "cell_type": "code",
   "execution_count": null,
   "id": "75dfcd93-376b-4266-8fb9-6a2139a9af7c",
   "metadata": {},
   "outputs": [],
   "source": [
    "GTEx_genotypes = read_plink(\"InClass_Day2/ENSG00000158864.12_brain\",impute=\"avg\") \n",
    "GTEx_genotypes$bed[1:5,1:5]\n",
    "head(GTEx_genotypes$fam)\n",
    "head(GTEx_genotypes$bim)"
   ]
  },
  {
   "cell_type": "code",
   "execution_count": null,
   "id": "d11ac79a-3481-4def-8036-d2b6ac4aa3b8",
   "metadata": {},
   "outputs": [],
   "source": [
    "# Question2 : How many individuals are in common between the brain dataset and the blood dataset? \n",
    "\n",
    "#### YOUR CODE HERE ####"
   ]
  },
  {
   "cell_type": "markdown",
   "id": "496456b1-43ba-4b36-a059-ad807840f574",
   "metadata": {},
   "source": [
    "In today's exercise, we will be checking for an association with each of these genes with Alzheimer's and Ulcerative Colitis. Since each of these genes are expressed in blood and brain tissue, we will be making 8 associations (all combinations of gene 1 vs. 2, tissue 1 vs. 2, disease 1 vs. 2) \n",
    "\n",
    "As we learned in lecture, it is very important to consider the relevant tissue context for a disease. If a gene has a role in Ulcerative Colitis, it is more likely going to act via blood tissue than via brain tissue. Likewise, if a gene has a role in Alzheimer's it is more likely going to act via brain tissue than blood tissue. We can test this hypothesis. Moreover, we can test the hypothesis that these genes have different eQTL models in different tissues. \n",
    "\n",
    "For each gene, we will run FUSION using both blood and brain gene expression data. \n",
    "\n",
    "Because we are skipping heritability estimation with GCTA, we need to comment out lines 150-160 in FUSION.compute_weights.R; please do this now.\n",
    "\n",
    "Let's first get familiar with running FUSION and supplying relevant arguments. Please answer Question 3 below. \n"
   ]
  },
  {
   "cell_type": "code",
   "execution_count": null,
   "id": "b1d06e53-68d6-423f-8458-9bd7264ddb3a",
   "metadata": {},
   "outputs": [],
   "source": [
    "gene1 <- \"ENSG00000158864.12\" #a gene that is implicated in Alzheimer's\n",
    "gene2 <- \"ENSG00000116704.7\" #a gene that is implicated in Ulcerative Colitis\n",
    "tissue1 <- \"brain\"\n",
    "tissue2 <- \"blood\"\n",
    "\n",
    "gene <- gene1\n",
    "tissue <- tissue1\n",
    "\n",
    "#We can use the system() function to run unix/bash commands in R. \n",
    "#I have downloaded the fusion software to a directory that is in the same parent directory as our current working directory \"InClass_Day2\".\n",
    "\n",
    "system(paste0(\"Rscript FUSION.compute_weights_classedit.R --bfile InClass_Day2/\",gene,\"_\",tissue,\" --covar InClass_Day2/covar_\",tissue,\".txt --tmp InClass_Day2/tmp/tmp_\",gene,\n",
    "              \" --out GeneExpressionModel_\",gene,\"_\",tissue,\" --hsq_set 0.05 --models top1,lasso,enet --verbose 2 > log_\",gene,\"_\",tissue,\".txt\"))"
   ]
  },
  {
   "cell_type": "markdown",
   "id": "22146f0d-674d-4e16-bbdc-738b297145b7",
   "metadata": {},
   "source": [
    "#### Question 3: How much variance of gene expression of ENSG00000158864.12 in brain tissue is explained by covariates? Hint: check the log file which will be created in our current working directory. "
   ]
  },
  {
   "cell_type": "markdown",
   "id": "2ed993b1-2b3d-46e1-ab05-fe40af77817e",
   "metadata": {},
   "source": [
    "ANSWER 3: "
   ]
  },
  {
   "cell_type": "markdown",
   "id": "dd731dc0-0d91-47ba-b41b-f6f175b2df8f",
   "metadata": {},
   "source": [
    "Let's check out what FUSION did. "
   ]
  },
  {
   "cell_type": "code",
   "execution_count": null,
   "id": "2b76d316-9577-408b-9816-87532e0ea654",
   "metadata": {},
   "outputs": [],
   "source": [
    "logfiles <- list.files(pattern = \"log_\")\n",
    "y <- fread(logfiles[1])\n",
    "\n",
    "#Proportion of gene expression explained by covaraites was computed (this is then regressed out of gene expression variable).\n",
    "\n",
    "#Then PLINK was run to update the phenotype (gene expression) variable with residualized gene expression values. \n",
    "\n",
    "#Then, heritability estimation was skipped \"### Skipping heritability estimate\"\n",
    "\n",
    "#Now gene expression models (3 types) are being fit via cross-validation. "
   ]
  },
  {
   "cell_type": "markdown",
   "id": "aceea69d-e6ae-4051-b948-1745b1479bd8",
   "metadata": {},
   "source": [
    "When we ran the FUSION compute_weights script, we also generated an Rdat file. Let's check this out to see what it contains. Please answer the question below.  "
   ]
  },
  {
   "cell_type": "code",
   "execution_count": null,
   "id": "517bdb81-6061-4b44-a117-b9a84ebefaac",
   "metadata": {},
   "outputs": [],
   "source": [
    "load(paste0(\"GeneExpressionModel_\",gene,\"_\",tissue,\".wgt.RDat\"))\n",
    "\n",
    "GTEx_genotypes_brain = read_plink(paste0(\"InClass_Day2/\",gene,\"_\",tissue),impute=\"avg\")\n",
    "nrow(GTEx_genotypes_brain$bim) #there are 349 SNPs in the cis window of this gene\n",
    "\n",
    "#The files in the Rdat object were: \n",
    "wgt.matrix\n",
    "cv.performance\n",
    "hsq\n",
    "hsq.pv"
   ]
  },
  {
   "cell_type": "code",
   "execution_count": null,
   "id": "e2abb7b8-b1a5-48cc-82e0-c814afc136fd",
   "metadata": {},
   "outputs": [],
   "source": [
    "dim(wgt.matrix) #there are 349 rows (SNPs)\n",
    "head(wgt.matrix) #we ran 3 different types of eQTL models here. "
   ]
  },
  {
   "cell_type": "markdown",
   "id": "700cc646-3ed1-4d3a-89dc-79f17b7d6a4d",
   "metadata": {},
   "source": [
    "#### Question 4. How many SNPs (features) were found to be predictive in the lasso model? In the enet model? "
   ]
  },
  {
   "cell_type": "code",
   "execution_count": null,
   "id": "9c2c4fa4-f7d5-442c-87d9-c038f273e6f8",
   "metadata": {},
   "outputs": [],
   "source": [
    "#Answer 4. \n",
    "\n",
    "#### YOUR CODE HERE ####"
   ]
  },
  {
   "cell_type": "markdown",
   "id": "910dbc49-5bad-4ac1-8998-2e7f31dbe63b",
   "metadata": {},
   "source": [
    "Let's complete generating the eQTL models (weights) for the other combinations of genes and tissues, which are inputs to the TWAS analysis we will do next. "
   ]
  },
  {
   "cell_type": "code",
   "execution_count": null,
   "id": "0ce11b15-7cd1-433e-93a6-a64c802fa720",
   "metadata": {},
   "outputs": [],
   "source": [
    "#### YOUR CODE HERE ####"
   ]
  },
  {
   "cell_type": "markdown",
   "id": "75254257-9953-4c94-891c-0579cc43ae92",
   "metadata": {},
   "source": [
    "Now we have almost all the input files we need to run TWAS. The last step is to make a POS file that tells TWAS which genes we want to analyze and where their weight files exist. "
   ]
  },
  {
   "cell_type": "code",
   "execution_count": null,
   "id": "35151819-ae9d-4a0c-a08d-0bfa5c314187",
   "metadata": {},
   "outputs": [],
   "source": [
    "#POS file has this format: PANEL   WGT     ID      CHR     P0      P1      N\n",
    "pos_file <- matrix(0,nrow = 4, ncol = 7) #2 tissues x 2 genes; initialize empty matrix\n",
    "\n",
    "#PANEL is the tissue\n",
    "#WGT is the path to the gene expression model (Rdat files)\n",
    "#ID is the gene / tissue name\n",
    "#For CHR, P0 (start), P1 (end): we obtain these for each gene from either gene expression file. \n",
    "\n",
    "ge_blood <- fread(\"InClass_Day2/GTEx_matrix_blood.txt\", header = T)\n",
    "ge_brain <- fread(\"InClass_Day2/GTEx_matrix_brain.txt\", header = T)\n",
    "colnames(ge_blood)[1] <- \"chr\"\n",
    "colnames(ge_brain)[1] <- \"chr\"\n",
    "\n",
    "row_count <- 1\n",
    "for (i in 1:2){ #count gene\n",
    "  gene <- get(paste0(\"gene\",i))\n",
    "  for (j in 1:2){ #count tissue\n",
    "    tissue <- get(paste0(\"tissue\",j))\n",
    "    m <- match(gene,ge_blood$gene_id) #doesn't matter if ge_blood or ge_brain\n",
    "    pos_file[row_count,] <- c(tissue,paste0(\"GeneExpressionModel_\",gene,\"_\",tissue,\".wgt.RDat\"),paste0(\"InClass_Day2/\",gene,\":\",tissue),\n",
    "                              strsplit(ge_blood$chr[m], split = \"chr\")[[1]][2], ge_blood$start[m], ge_blood$end[m], ncol(get(paste0(\"ge_\",tissue)))-4)\n",
    "    row_count <- row_count + 1\n",
    "  }\n",
    "}\n",
    "\n",
    "colnames(pos_file) <- c(\"PANEL\",\"WGT\",\"ID\",\"CHR\",\"P0\",\"P1\",\"N\")\n",
    "write.table(pos_file, file = \"twas.pos\", row.names=F, col.names = T, sep = \"\\t\", quote = F)"
   ]
  },
  {
   "cell_type": "markdown",
   "id": "b4f444d3-1cf8-4890-ad9f-6ec452956c1e",
   "metadata": {},
   "source": [
    "Now we have all of our input files! Let's remind ourselves what the GWAS summary statistics look like and then we will run TWAS. "
   ]
  },
  {
   "cell_type": "code",
   "execution_count": null,
   "id": "5b0916fc-d9c9-48e4-89a8-cb8efac67181",
   "metadata": {},
   "outputs": [],
   "source": [
    "gwas <- fread(\"InClass_Day2/PASS_Alzheimers_deRojas2021.sumstats\", header = T, nrows = 10) #just a sample of rows\n",
    "head(gwas)\n",
    " \n",
    "#Then, we need to run a different FUSION script. We will execute this in bash, but run it from R. Notice, now that we generated the POS file, we don't have to individually specify each gene. Notice, if these genes came from a different chromosome, we would have to run separate TWAS commands. \n",
    "system(\"for sumstats in PASS_Alzheimers_deRojas2021.sumstats PASS_UC_deLange2017.sumstats\n",
    "do \n",
    "FUSION.assoc_test --sumstats InClass_Day2/${sumstats} --weights twas.pos --weights_dir . --ref_ld_chr InClass_Day2/1000G.EUR. --chr 1 --out TWAS_${sumstats}.dat\n",
    "done\")\n",
    "\n",
    "#Look at the log: no genes were skipped. Sometimes TWAS skips genes when there are no GWAS SNPs near the eQTL model SNPs."
   ]
  },
  {
   "cell_type": "markdown",
   "id": "79697249-9461-4547-8b07-2eaf6300e7d8",
   "metadata": {},
   "source": [
    "Let's check out the results of the TWAS. Which genes are significantly associated with UC vs Alzheimer's? "
   ]
  },
  {
   "cell_type": "code",
   "execution_count": null,
   "id": "65830276-9c85-4a07-88fd-71dd1f39d062",
   "metadata": {},
   "outputs": [],
   "source": [
    "#### YOUR CODE HERE ####"
   ]
  }
 ],
 "metadata": {
  "kernelspec": {
   "display_name": "R [conda env:popgen]",
   "language": "R",
   "name": "conda-env-popgen-r"
  },
  "language_info": {
   "codemirror_mode": "r",
   "file_extension": ".r",
   "mimetype": "text/x-r-source",
   "name": "R",
   "pygments_lexer": "r",
   "version": "4.2.3"
  }
 },
 "nbformat": 4,
 "nbformat_minor": 5
}
