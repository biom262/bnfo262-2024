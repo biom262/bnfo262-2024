{
 "cells": [
  {
   "cell_type": "markdown",
   "id": "9c0d42a6-a3c6-4de8-9f82-3d0e6ec3393d",
   "metadata": {},
   "source": [
    "### Ancillary plots "
   ]
  },
  {
   "cell_type": "code",
   "execution_count": null,
   "id": "062b606b-21b9-4c60-b4d5-78feec1aa79e",
   "metadata": {},
   "outputs": [],
   "source": [
    "library(ggplot2)"
   ]
  },
  {
   "cell_type": "markdown",
   "id": "cba609e5-c9c0-4cde-b9ae-6c199f95793a",
   "metadata": {},
   "source": [
    "### Generate a plot of PMF for die roll"
   ]
  },
  {
   "cell_type": "code",
   "execution_count": null,
   "id": "fc284c83-cae0-4cbb-a9a3-3d3339a64c50",
   "metadata": {},
   "outputs": [],
   "source": [
    "die.pmf <- data.frame(x = c(1,2,3,4,5,6),\n",
    "                      mass = rep(1/6, 6))\n",
    "ggplot(data=die.pmf, aes(x, mass)) + geom_point(color=\"blue\", size=3) + theme_bw(base_size=22)"
   ]
  },
  {
   "cell_type": "markdown",
   "id": "03a2c977-3574-453d-954d-7a114604b35b",
   "metadata": {},
   "source": [
    "### Generate normal PDF"
   ]
  },
  {
   "cell_type": "code",
   "execution_count": null,
   "id": "4c9effa4-8310-47f2-8ca0-fba382c7acd1",
   "metadata": {},
   "outputs": [],
   "source": [
    "x = seq(-3, 3, by=0.01)\n",
    "y = dnorm(x)\n",
    "normal.pdf <- data.frame(x=x, density=y) \n",
    "ggplot(data=normal.pdf, aes(x, density)) + geom_line(color=\"blue\") + theme_bw(base_size=22)"
   ]
  },
  {
   "cell_type": "markdown",
   "id": "060aeb49-aee5-4dde-8bb8-6a97d82932f8",
   "metadata": {},
   "source": [
    "### Generate a poisson PMF"
   ]
  },
  {
   "cell_type": "code",
   "execution_count": null,
   "id": "7b724008-2114-4ca5-8636-90e3bf0680dd",
   "metadata": {},
   "outputs": [],
   "source": [
    "x = seq(0, 10, by=1)\n",
    "y = dpois(x, lambda=3)\n",
    "pois.pmf <- data.frame(x=x, mass=y) \n",
    "ggplot(data=pois.pmf, aes(x, mass)) + geom_point(color=\"blue\", size=3) + theme_bw(base_size=22)"
   ]
  },
  {
   "cell_type": "markdown",
   "id": "9d5cf96a-7e92-4d4e-9203-ee8650e9a83f",
   "metadata": {},
   "source": [
    "### Generate a normal CDF"
   ]
  },
  {
   "cell_type": "code",
   "execution_count": null,
   "id": "731836ee-556d-487c-a542-5550aad905f1",
   "metadata": {},
   "outputs": [],
   "source": [
    "x = seq(-3, 3, by=0.01)\n",
    "y = pnorm(x)\n",
    "normal.cdf <- data.frame(x=x, Fx=y) \n",
    "ggplot(data=normal.cdf, aes(x, Fx)) + geom_line(color=\"blue\") + theme_bw(base_size=22)"
   ]
  },
  {
   "cell_type": "markdown",
   "id": "f33e6bdf-98aa-46b2-8436-e3e28ac334fb",
   "metadata": {},
   "source": [
    "### Generate a bernouli PMF"
   ]
  },
  {
   "cell_type": "markdown",
   "id": "857e4199-6b0f-4786-a00f-c2089718dfee",
   "metadata": {},
   "source": [
    "x = c(0, 1)\n",
    "y = c(0.5, 0.5)\n",
    "bernouli.pmf <- data.frame(x=x, mass=y)\n",
    "ggplot(data=bernouli.pmf, aes(x, mass)) + geom_point(color=\"blue\", size=3) + theme_bw(base_size=22) + ylim(c(0,1))"
   ]
  },
  {
   "cell_type": "markdown",
   "id": "5724c542-ce95-48f4-ad6d-cb86f25f25b6",
   "metadata": {},
   "source": [
    "### Generate a Bernoulis with p=0.75"
   ]
  },
  {
   "cell_type": "code",
   "execution_count": null,
   "id": "27a8538f-2972-43c8-8452-654844718272",
   "metadata": {},
   "outputs": [],
   "source": [
    "x = c(0, 1)\n",
    "y = c(0.25, 0.75)\n",
    "bernouli.pmf <- data.frame(x=x, mass=y)\n",
    "ggplot(data=bernouli.pmf, aes(x, mass)) + geom_point(color=\"blue\", size=3) + theme_bw(base_size=22) + ylim(c(0,1))"
   ]
  }
 ],
 "metadata": {
  "kernelspec": {
   "display_name": "R [conda env:stats]",
   "language": "R",
   "name": "conda-env-stats-r"
  },
  "language_info": {
   "codemirror_mode": "r",
   "file_extension": ".r",
   "mimetype": "text/x-r-source",
   "name": "R",
   "pygments_lexer": "r",
   "version": "4.1.3"
  }
 },
 "nbformat": 4,
 "nbformat_minor": 5
}
