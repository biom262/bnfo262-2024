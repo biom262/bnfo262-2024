{
 "cells": [
  {
   "cell_type": "markdown",
   "metadata": {},
   "source": [
    "## Genotype data and sample information"
   ]
  },
  {
   "cell_type": "markdown",
   "metadata": {},
   "source": [
    "We will use genotyping data from the 1000 genomes project. Specifically we will use genotypes from Yoruba individuals from Nigeria"
   ]
  },
  {
   "cell_type": "markdown",
   "metadata": {},
   "source": [
    "### Read Samples"
   ]
  },
  {
   "cell_type": "markdown",
   "metadata": {},
   "source": [
    "Read in the identifiers of the samples. Each sample is an immortalized lymphoblastoid cell line derived from a different Yoruba individual. "
   ]
  },
  {
   "cell_type": "code",
   "execution_count": null,
   "metadata": {},
   "outputs": [],
   "source": [
    "# use 'as.characeter' to make sure we have the sample names as a vector of character strings (rather than\n",
    "# a factor)\n",
    "sample.tab <- read.table(\"../Data/samples.txt\", header=F)\n",
    "sample.names <- as.character(sample.tab$V1)\n",
    "head(sample.names)"
   ]
  },
  {
   "cell_type": "markdown",
   "metadata": {},
   "source": [
    "### Read Genotypes"
   ]
  },
  {
   "cell_type": "markdown",
   "metadata": {},
   "source": [
    "Read in SNP genotypes for each of the samples. For simplicity, we will only use SNPs on chromosome 22. The first 4 columns give information about the SNP, the remaining columns give the genotypes for each sample. The genotypes are coded as the number of copies of allele2 that each individual carries and can therefore be 0, 1, or 2. For convenience, also  create a 'genotype matrix' that only contains columns with genotype counts."
   ]
  },
  {
   "cell_type": "code",
   "execution_count": null,
   "metadata": {},
   "outputs": [],
   "source": [
    "genotypes.tab <- read.table(\"../Data/chr22_genotypes.txt\", header=T)\n",
    "head(genotypes.tab)\n",
    "\n",
    "genotype.matrix <- genotypes.tab[,sample.names]\n",
    "head(genotype.matrix)"
   ]
  },
  {
   "cell_type": "markdown",
   "metadata": {},
   "source": [
    "### Analyze genotype data\n",
    "\n",
    "Here are a few questions to get people familiar with the genotype data\n"
   ]
  },
  {
   "cell_type": "markdown",
   "metadata": {},
   "source": [
    "Q: How many samples are there?"
   ]
  },
  {
   "cell_type": "code",
   "execution_count": null,
   "metadata": {},
   "outputs": [],
   "source": [
    "### Your code here..."
   ]
  },
  {
   "cell_type": "markdown",
   "metadata": {},
   "source": [
    "Q: what is the chromosomal position and alleles of SNP rs55926024? "
   ]
  },
  {
   "cell_type": "code",
   "execution_count": null,
   "metadata": {},
   "outputs": [],
   "source": [
    "### Your code here..."
   ]
  },
  {
   "cell_type": "markdown",
   "metadata": {},
   "source": [
    "Q: How many individuals are heterozygous for SNP rs55926024?"
   ]
  },
  {
   "cell_type": "code",
   "execution_count": null,
   "metadata": {},
   "outputs": [],
   "source": [
    "### Your code here..."
   ]
  },
  {
   "cell_type": "markdown",
   "metadata": {},
   "source": [
    "Q: What is the frequency of allele2 for rs55926024 in our samples?"
   ]
  },
  {
   "cell_type": "code",
   "execution_count": null,
   "metadata": {},
   "outputs": [],
   "source": [
    "### Your code here..."
   ]
  },
  {
   "cell_type": "markdown",
   "metadata": {},
   "source": [
    "### Gene expression data\n",
    "\n",
    "We will use RNA-seq gene expression data from the GEUVADIS project. The data are from the same Yoruba cell lines that we have genotypes for. The reads have already been mapped to the genome and the number of reads overlapping exons of Ensembl genes has computed.\n",
    "\n",
    "#### Read RNA-seq counts data\n",
    "\n",
    "Read in mapped RNA-seq read counts for each gene. The first columns 5 give information about the gene. The subsequent columns that start with \"NA\" (e.g. NA18520) contain mapped read counts for  each sample in the study. \n",
    "    "
   ]
  },
  {
   "cell_type": "code",
   "execution_count": null,
   "metadata": {},
   "outputs": [],
   "source": [
    "all.gene.tab <- read.table(\"../Data/gene_mapped_read_counts.txt\", header=T)\n",
    "head(all.gene.tab)"
   ]
  },
  {
   "cell_type": "markdown",
   "metadata": {},
   "source": [
    "## Compute TPM expression values\n",
    "Create an expression matrix containing transcripts-per-million (TPM) as a measure of gene expression. Could alternatively use RPKM\n",
    "\n",
    "Explanation of TPM from (see http://www.rna-seqblog.com/rpkm-fpkm-and-tpm-clearly-explained/):\n",
    "1. Divide the read counts by the length of each gene in kilobases. \n",
    "This gives you reads per kilobase (RPK).\n",
    "2. Count up all the RPK values in a sample and divide this number by 1,000,000. This is your “per million” scaling factor.\n",
    "3. Divide the RPK values by the “per million” scaling factor. This gives you TPM."
   ]
  },
  {
   "cell_type": "code",
   "execution_count": null,
   "metadata": {},
   "outputs": [],
   "source": [
    "all.count.matrix <- all.gene.tab[,sample.names]\n",
    "\n",
    "# compute RPK values for each gene (Divide the read counts by the length of each gene in kilobases)\n",
    "## Your code here...\n",
    "\n",
    "\n",
    "# get column RPK totals (hint: try using apply function)\n",
    "## Your code here...\n",
    "\n",
    "\n",
    "# divide each column by \"per million\"\" scaling factor to get TPM\n",
    "## Your code here..."
   ]
  },
  {
   "cell_type": "markdown",
   "metadata": {},
   "source": [
    "## Analyze gene expression values\n",
    "\n",
    "Q: How many genes are in the gene expression table?"
   ]
  },
  {
   "cell_type": "code",
   "execution_count": null,
   "metadata": {},
   "outputs": [],
   "source": [
    "## Your code here..."
   ]
  },
  {
   "cell_type": "markdown",
   "metadata": {},
   "source": [
    "This is a lot of 'genes'! The Ensembl 'ENSG' gene list contains many pseudo-genes, and low-expression lncRNAs etc.\n",
    "\n",
    "Calculate mean expression across samples, then make a histogram of log TPM values for genes that have \n",
    "mean TPM > 0.0."
   ]
  },
  {
   "cell_type": "code",
   "execution_count": null,
   "metadata": {},
   "outputs": [],
   "source": []
  },
  {
   "cell_type": "markdown",
   "metadata": {},
   "source": [
    "\n",
    "The mean expression distribution is bimodal, with a large number of low-expression genes.\n",
    "\n",
    "Q: How many genes have TPM values > 1.0?\n"
   ]
  },
  {
   "cell_type": "code",
   "execution_count": null,
   "metadata": {},
   "outputs": [],
   "source": [
    "## Your code here..."
   ]
  },
  {
   "cell_type": "markdown",
   "metadata": {},
   "source": [
    "\n",
    "This is a reasonable number of genes to consider expressed in this cell type (lymphoblastoid cell lines). So lets discard all genes with TPM < 1.0 from further analyses.\n"
   ]
  },
  {
   "cell_type": "markdown",
   "metadata": {},
   "source": [
    "## Other data pre-processing\n",
    "\n",
    "There are additional steps we could take when processing the gene expression and genotype data.\n",
    "\n",
    "- Correct for population structure by doing principal components analysis of genotype matrix (PCs could be used as co-variates in linear model)\n",
    "- Correct for expression batch effects by regressing out PCs, performing quantile normalization\n",
    "\n",
    "\n",
    "## identifying eQTLs\n",
    "\n",
    "Get a set of genes that are on chr22 and that have TPM > 1.0"
   ]
  },
  {
   "cell_type": "code",
   "execution_count": null,
   "metadata": {},
   "outputs": [],
   "source": [
    "\n",
    "### Your code here"
   ]
  },
  {
   "cell_type": "markdown",
   "metadata": {},
   "source": [
    "Plot the expression of gene ENSG00000218537 (MIF-AS1) as a function of the genotype of the SNP rs5760108. "
   ]
  },
  {
   "cell_type": "code",
   "execution_count": null,
   "metadata": {},
   "outputs": [],
   "source": [
    "\n",
    "### Your code here\n",
    "# 1. get TPM expression for gene ENSG00000218537\n",
    "\n",
    "# 2. get genotypes of SNP rs5760108\n",
    "\n",
    "# 3. make scatterplot with genotypes on X axis, expression on Y axis\n"
   ]
  },
  {
   "cell_type": "markdown",
   "metadata": {},
   "source": [
    "\n",
    "Fit a linear model, using expression as the response and genotype as the predictor\n"
   ]
  },
  {
   "cell_type": "code",
   "execution_count": null,
   "metadata": {},
   "outputs": [],
   "source": [
    "### Your code here...\n",
    "### Hint: look or google how to use lm function in R"
   ]
  },
  {
   "cell_type": "markdown",
   "metadata": {},
   "source": [
    "Get the slope (often called effect size or Beta) and p-value from the regression, and add the fit line to the genotype vs. expression plot."
   ]
  },
  {
   "cell_type": "code",
   "execution_count": null,
   "metadata": {},
   "outputs": [],
   "source": [
    "### Your code here...\n",
    "### Hint: use the summary function to get information about the fitted linear model"
   ]
  },
  {
   "cell_type": "markdown",
   "metadata": {},
   "source": [
    "Now lets test all SNPs that are close (within 50kb) of the gene ENSG00000218537 for association.\n",
    "\n",
    "First get the genotypes of all of the nearby SNPs."
   ]
  },
  {
   "cell_type": "code",
   "execution_count": null,
   "metadata": {},
   "outputs": [],
   "source": [
    "### Your code here...\n",
    "\n",
    "# 1. Define the start and end of a region\n",
    "# as the start of ENSG00000218537 - 50000 and the end of ENSG00000218537 + 50000\n",
    "\n",
    "\n",
    "# 2 get the SNPs out\n",
    "\n",
    "# 3. get genotypes of the SNPs\n",
    "\n",
    "# 4. how many SNPs are there in this region?\n"
   ]
  },
  {
   "cell_type": "markdown",
   "metadata": {},
   "source": [
    "\n",
    "Next perform linear regression of the genoypes of each SNP against the expression of the gene and make a histogram of the p-values.\n"
   ]
  },
  {
   "cell_type": "code",
   "execution_count": null,
   "metadata": {},
   "outputs": [],
   "source": [
    "## Your code here...\n",
    "# 1.  use a for loop, to loop over the SNPs, fit a linear model for each one\n",
    "\n",
    "# 2. plot a histogram of the resulting p-values\n"
   ]
  },
  {
   "cell_type": "markdown",
   "metadata": {},
   "source": [
    "Plot the genomic position of the SNPs (x-axis) against their -log10 p-values (y-axis)"
   ]
  },
  {
   "cell_type": "code",
   "execution_count": null,
   "metadata": {},
   "outputs": [],
   "source": [
    "\n",
    "### Your code here...\n"
   ]
  },
  {
   "cell_type": "code",
   "execution_count": null,
   "metadata": {},
   "outputs": [],
   "source": []
  }
 ],
 "metadata": {
  "kernelspec": {
   "display_name": "R",
   "language": "R",
   "name": "ir"
  },
  "language_info": {
   "codemirror_mode": "r",
   "file_extension": ".r",
   "mimetype": "text/x-r-source",
   "name": "R",
   "pygments_lexer": "r",
   "version": "3.6.3"
  }
 },
 "nbformat": 4,
 "nbformat_minor": 4
}
