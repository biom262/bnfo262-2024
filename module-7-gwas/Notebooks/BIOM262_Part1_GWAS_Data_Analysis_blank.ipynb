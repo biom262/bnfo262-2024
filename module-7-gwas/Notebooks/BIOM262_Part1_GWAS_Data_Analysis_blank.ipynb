{
 "cells": [
  {
   "cell_type": "markdown",
   "metadata": {},
   "source": [
    "## Exploring GWAS Summary statistics"
   ]
  },
  {
   "cell_type": "markdown",
   "metadata": {},
   "source": [
    "GWAS *summary statistics* are computed statistics like p-values and odds-ratios etc. that describe the strength of association between the genotype at a SNP and a trait of interest. This differs from *individual level* data, which are the complete set of genotypes and phenotypes for each individual. Summary statistics take up a lot less space, and also don't have the same privacy concerns that genotype data have."
   ]
  },
  {
   "cell_type": "markdown",
   "metadata": {},
   "source": [
    "Read in summary statistics from a genome-wide association study of \n",
    "Rheumatoid Arthritis. These data are from this study:\n",
    "https://www.nature.com/articles/nature12873"
   ]
  },
  {
   "cell_type": "code",
   "execution_count": null,
   "metadata": {},
   "outputs": [],
   "source": [
    "gwas.tab <- read.table(\"../Data/RA_GWAS.txt\", header=T)\n",
    "head(gwas.tab)"
   ]
  },
  {
   "cell_type": "markdown",
   "metadata": {},
   "source": [
    "Note that these data have been thinned to reduce the size of the dataset for this class. Recent GWAS often include data from >8,000,000 SNPs. How many SNPs are in this data table?"
   ]
  },
  {
   "cell_type": "code",
   "execution_count": null,
   "metadata": {},
   "outputs": [],
   "source": [
    "### Your code here..."
   ]
  },
  {
   "cell_type": "markdown",
   "metadata": {},
   "source": [
    "Let's take a look at the data. Make a histogram of the p-values."
   ]
  },
  {
   "cell_type": "code",
   "execution_count": null,
   "metadata": {
    "scrolled": true
   },
   "outputs": [],
   "source": [
    "### Your code here..."
   ]
  },
  {
   "cell_type": "markdown",
   "metadata": {},
   "source": [
    "Notice that the distribution looks faily uniform, but with an excess of low\n",
    "p-values.\n",
    "\n",
    "A quantile-quantile plot provides a better way to see how the distribution deviates from the null-expection of uniformity. In addition, if we use -log10 p-values, we can really see what is going on the low-p-value tail of the distribution.\n"
   ]
  },
  {
   "cell_type": "code",
   "execution_count": null,
   "metadata": {},
   "outputs": [],
   "source": [
    "### Your code here..."
   ]
  },
  {
   "cell_type": "markdown",
   "metadata": {},
   "source": [
    "There are some very low p-values that make it difficult\n",
    "to see the relationship between the two distributions,\n",
    "so threshold p-values below 1e-20 to 1e-20."
   ]
  },
  {
   "cell_type": "code",
   "execution_count": null,
   "metadata": {},
   "outputs": [],
   "source": [
    "### Your code here..."
   ]
  },
  {
   "cell_type": "markdown",
   "metadata": {},
   "source": [
    "## Make a Manhattan plot"
   ]
  },
  {
   "cell_type": "markdown",
   "metadata": {},
   "source": [
    "Let's make a manhattan plot, which shows the association signal\n",
    "across the genome. "
   ]
  },
  {
   "cell_type": "code",
   "execution_count": null,
   "metadata": {},
   "outputs": [],
   "source": [
    "### Your code here..."
   ]
  },
  {
   "cell_type": "markdown",
   "metadata": {},
   "source": [
    "What is the region with the extremely low p-values?"
   ]
  },
  {
   "cell_type": "code",
   "execution_count": null,
   "metadata": {},
   "outputs": [],
   "source": [
    "### Your code here..."
   ]
  },
  {
   "cell_type": "markdown",
   "metadata": {},
   "source": [
    "Let's zoom in on this region."
   ]
  },
  {
   "cell_type": "code",
   "execution_count": null,
   "metadata": {},
   "outputs": [],
   "source": [
    "### Your code here..."
   ]
  },
  {
   "cell_type": "markdown",
   "metadata": {},
   "source": [
    "*Q:* What region is this? Can look in UCSC genome browser\n",
    "\n",
    "*A:* MHC Class II region\n",
    "\n",
    "The MHC region has a super low p-value, which obscures other signals. Let's make the plot again, this time thresholding p-values to 1e-20."
   ]
  },
  {
   "cell_type": "code",
   "execution_count": null,
   "metadata": {},
   "outputs": [],
   "source": [
    "### Your code here..."
   ]
  },
  {
   "cell_type": "code",
   "execution_count": null,
   "metadata": {},
   "outputs": [],
   "source": []
  }
 ],
 "metadata": {
  "kernelspec": {
   "display_name": "R",
   "language": "R",
   "name": "ir"
  },
  "language_info": {
   "codemirror_mode": "r",
   "file_extension": ".r",
   "mimetype": "text/x-r-source",
   "name": "R",
   "pygments_lexer": "r",
   "version": "3.6.3"
  }
 },
 "nbformat": 4,
 "nbformat_minor": 4
}
