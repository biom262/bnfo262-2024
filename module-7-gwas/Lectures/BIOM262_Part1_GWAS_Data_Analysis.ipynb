{
 "cells": [
  {
   "cell_type": "markdown",
   "metadata": {},
   "source": [
    "## Exploring GWAS Summary statistics"
   ]
  },
  {
   "cell_type": "markdown",
   "metadata": {},
   "source": [
    "GWAS *summary statistics* are computed statistics like p-values and odds-ratios etc. that describe the strength of association between the genotype at a SNP and a trait of interest. This differs from *individual level* data, which are the complete set of genotypes and phenotypes for each individual. Summary statistics take up a lot less space, and also don't have the same privacy concerns that genotype data have."
   ]
  },
  {
   "cell_type": "markdown",
   "metadata": {},
   "source": [
    "Read in summary statistics from a genome-wide association study of \n",
    "Rheumatoid Arthritis. These data are from this study:\n",
    "https://www.nature.com/articles/nature12873"
   ]
  },
  {
   "cell_type": "code",
   "execution_count": null,
   "metadata": {
    "vscode": {
     "languageId": "r"
    }
   },
   "outputs": [],
   "source": [
    "gwas.tab <- read.table(\"../Data/RA_GWAS.txt\", header=T)\n",
    "head(gwas.tab)"
   ]
  },
  {
   "cell_type": "markdown",
   "metadata": {},
   "source": [
    "Note that these data have been thinned to reduce the size of the dataset for this class. Recent GWAS often include data from >8,000,000 SNPs. How many SNPs are in this data table?"
   ]
  },
  {
   "cell_type": "code",
   "execution_count": null,
   "metadata": {
    "vscode": {
     "languageId": "r"
    }
   },
   "outputs": [],
   "source": [
    "nrow(gwas.tab)"
   ]
  },
  {
   "cell_type": "markdown",
   "metadata": {},
   "source": [
    "Let's take a look at the data. Make a histogram of the p-values."
   ]
  },
  {
   "cell_type": "code",
   "execution_count": null,
   "metadata": {
    "scrolled": true,
    "vscode": {
     "languageId": "r"
    }
   },
   "outputs": [],
   "source": [
    "hist(gwas.tab$p.val, breaks=50)"
   ]
  },
  {
   "cell_type": "markdown",
   "metadata": {},
   "source": [
    "Notice that the distribution looks faily uniform, but with an excess of low\n",
    "p-values.\n",
    "\n",
    "A quantile-quantile plot provides a better way to see how the distribution deviates from the null-expection of uniformity. In addition, if we use -log10 p-values, we can really see what is going on the low-p-value tail of the distribution.\n"
   ]
  },
  {
   "cell_type": "code",
   "execution_count": null,
   "metadata": {
    "vscode": {
     "languageId": "r"
    }
   },
   "outputs": [],
   "source": [
    "expect.p <- 1:nrow(gwas.tab) / nrow(gwas.tab)\n",
    "obs.p <- gwas.tab$p.val\n",
    "qqplot(-log10(expect.p), -log10(obs.p),\n",
    "       xlab=\"observed -log10(p-values)\",\n",
    "       ylab=\"observed -log10(p-values)\")\n",
    "\n",
    "## add a line with a slope of 1, to show what the p-values would look\n",
    "## like if the followed the null distribution\n",
    "abline(a=0, b=1, col=\"red\")"
   ]
  },
  {
   "cell_type": "markdown",
   "metadata": {},
   "source": [
    "There are some very low p-values that make it difficult\n",
    "to see the relationship between the two distributions,\n",
    "so threshold p-values below 1e-20 to 1e-20."
   ]
  },
  {
   "cell_type": "code",
   "execution_count": null,
   "metadata": {
    "vscode": {
     "languageId": "r"
    }
   },
   "outputs": [],
   "source": [
    "obs.p[obs.p < 1e-20] <- 1e-20\n",
    "qqplot(-log10(expect.p), -log10(obs.p),\n",
    "       xlab=\"observed -log10(p-values)\",\n",
    "       ylab=\"observed -log10(p-values)\")\n",
    "abline(a=0, b=1, col=\"red\")"
   ]
  },
  {
   "cell_type": "markdown",
   "metadata": {},
   "source": [
    "## Make a Manhattan plot"
   ]
  },
  {
   "cell_type": "markdown",
   "metadata": {},
   "source": [
    "Let's make a manhattan plot, which shows the association signal\n",
    "across the genome. "
   ]
  },
  {
   "cell_type": "code",
   "execution_count": null,
   "metadata": {
    "vscode": {
     "languageId": "r"
    }
   },
   "outputs": [],
   "source": [
    "# Assign colors to each chromosome\n",
    "chrom <- unique(gwas.tab$chrom)\n",
    "chrom.color <- rep(c(\"slategray3\", \"slategray4\"), (length(chrom)+1)/2)\n",
    "gwas.tab[\"color\"] <- rep(\"slategray3\", nrow(gwas.tab))\n",
    "for(i in seq(1,length(chrom))) {\n",
    "  gwas.tab$color[gwas.tab$chrom == chrom[i]] <- chrom.color[i]\n",
    "}\n",
    "\n",
    "plot(gwas.tab$genome.pos.hg19, -log10(gwas.tab$p.val),\n",
    "     col=gwas.tab$color, xlab=\"genome position\", ylab=\"-log10(P-value)\")"
   ]
  },
  {
   "cell_type": "markdown",
   "metadata": {},
   "source": [
    "What is the region with the extremely low p-values?"
   ]
  },
  {
   "cell_type": "code",
   "execution_count": null,
   "metadata": {
    "vscode": {
     "languageId": "r"
    }
   },
   "outputs": [],
   "source": [
    "gwas.tab[gwas.tab$p.val < 1e-200,]"
   ]
  },
  {
   "cell_type": "markdown",
   "metadata": {},
   "source": [
    "Let's zoom in on this region."
   ]
  },
  {
   "cell_type": "code",
   "execution_count": null,
   "metadata": {
    "vscode": {
     "languageId": "r"
    }
   },
   "outputs": [],
   "source": [
    "# Make a zoomed-in plot of the p-values just from chromosome 6 32-33MB\n",
    "\n",
    "f <- which(gwas.tab$chrom==\"6\" &\n",
    "           gwas.tab$chrom.pos.hg19 > 32e6 &\n",
    "           gwas.tab$chrom.pos.hg19 < 33e6)\n",
    "\n",
    "plot(gwas.tab$chrom.pos.hg19[f], -log10(gwas.tab$p.val[f]),\n",
    "     xlab=\"chr6 position\", ylab=\"-log10(P-value)\")"
   ]
  },
  {
   "cell_type": "markdown",
   "metadata": {},
   "source": [
    "*Q:* What region is this? Can look in UCSC genome browser\n",
    "\n",
    "*A:* MHC Class II region\n",
    "\n",
    "The MHC region has a super low p-value, which obscures other signals. Let's make the plot again, this time thresholding p-values to 1e-20."
   ]
  },
  {
   "cell_type": "code",
   "execution_count": null,
   "metadata": {
    "vscode": {
     "languageId": "r"
    }
   },
   "outputs": [],
   "source": [
    "p.val <- gwas.tab$p.val\n",
    "p.val[p.val < 1e-20] <- 1e-20\n",
    "\n",
    "plot(gwas.tab$genome.pos.hg19, -log10(p.val),\n",
    "     col=gwas.tab$color, xlab=\"genome position\", ylab=\"-log10(P-value)\",\n",
    "     ylim=c(0, 20))\n",
    "\n",
    "# also draw a line indicating the threshold for genome-wide significance (5e-8)\n",
    "lines(x=c(0, max(gwas.tab$genome.pos.hg19)), y=rep(-log10(5e-8),2), col=\"red\")"
   ]
  },
  {
   "cell_type": "code",
   "execution_count": null,
   "metadata": {
    "vscode": {
     "languageId": "r"
    }
   },
   "outputs": [],
   "source": []
  }
 ],
 "metadata": {
  "kernelspec": {
   "display_name": "R",
   "language": "R",
   "name": "ir"
  },
  "language_info": {
   "codemirror_mode": "r",
   "file_extension": ".r",
   "mimetype": "text/x-r-source",
   "name": "R",
   "pygments_lexer": "r",
   "version": "3.6.3"
  }
 },
 "nbformat": 4,
 "nbformat_minor": 4
}
